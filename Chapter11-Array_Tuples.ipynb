{
 "cells": [
  {
   "cell_type": "markdown",
   "id": "17242cde",
   "metadata": {},
   "source": [
    "# Tuples\n"
   ]
  },
  {
   "cell_type": "code",
   "execution_count": null,
   "id": "dab97a16",
   "metadata": {},
   "outputs": [],
   "source": [
    "#Tuples are used to store multiple items in a single variable.\n",
    "#A tuple is a collection which is ordered and unchangeable.\n",
    "#Tuples are written with ()\n",
    "#Lists are written with []"
   ]
  },
  {
   "cell_type": "code",
   "execution_count": 1,
   "id": "9cfdabb7",
   "metadata": {},
   "outputs": [],
   "source": [
    "var = [1,2,3,4,5]"
   ]
  },
  {
   "cell_type": "code",
   "execution_count": 2,
   "id": "9d8c09b3",
   "metadata": {},
   "outputs": [
    {
     "data": {
      "text/plain": [
       "list"
      ]
     },
     "execution_count": 2,
     "metadata": {},
     "output_type": "execute_result"
    }
   ],
   "source": [
    "type(var)"
   ]
  },
  {
   "cell_type": "code",
   "execution_count": 3,
   "id": "2b829b0a",
   "metadata": {},
   "outputs": [],
   "source": [
    "var2=(1,2,3,4,5)"
   ]
  },
  {
   "cell_type": "code",
   "execution_count": 4,
   "id": "e2d93074",
   "metadata": {},
   "outputs": [
    {
     "data": {
      "text/plain": [
       "tuple"
      ]
     },
     "execution_count": 4,
     "metadata": {},
     "output_type": "execute_result"
    }
   ],
   "source": [
    "type(var2)"
   ]
  },
  {
   "cell_type": "code",
   "execution_count": 5,
   "id": "b6259a1c",
   "metadata": {},
   "outputs": [],
   "source": [
    "#Tuples can be empty\n",
    "tup_var =()"
   ]
  },
  {
   "cell_type": "code",
   "execution_count": 6,
   "id": "24da7dc7",
   "metadata": {},
   "outputs": [
    {
     "data": {
      "text/plain": [
       "()"
      ]
     },
     "execution_count": 6,
     "metadata": {},
     "output_type": "execute_result"
    }
   ],
   "source": [
    "tup_var"
   ]
  },
  {
   "cell_type": "code",
   "execution_count": 7,
   "id": "e7919d06",
   "metadata": {},
   "outputs": [
    {
     "data": {
      "text/plain": [
       "tuple"
      ]
     },
     "execution_count": 7,
     "metadata": {},
     "output_type": "execute_result"
    }
   ],
   "source": [
    "type(tup_var)"
   ]
  },
  {
   "cell_type": "code",
   "execution_count": 8,
   "id": "9e2428f4",
   "metadata": {},
   "outputs": [],
   "source": [
    "#Function Tuple\n",
    "tup_var = tuple()"
   ]
  },
  {
   "cell_type": "code",
   "execution_count": 9,
   "id": "16de773d",
   "metadata": {},
   "outputs": [
    {
     "data": {
      "text/plain": [
       "()"
      ]
     },
     "execution_count": 9,
     "metadata": {},
     "output_type": "execute_result"
    }
   ],
   "source": [
    "tup_var"
   ]
  },
  {
   "cell_type": "code",
   "execution_count": 10,
   "id": "74c0f3ea",
   "metadata": {},
   "outputs": [
    {
     "data": {
      "text/plain": [
       "tuple"
      ]
     },
     "execution_count": 10,
     "metadata": {},
     "output_type": "execute_result"
    }
   ],
   "source": [
    "type(tup_var)"
   ]
  },
  {
   "cell_type": "code",
   "execution_count": 11,
   "id": "b0c8716c",
   "metadata": {},
   "outputs": [],
   "source": [
    "tup_var = tuple((\"Banana\" ,\"Bamba\", \"Bissli\"))"
   ]
  },
  {
   "cell_type": "code",
   "execution_count": 12,
   "id": "6aea1b58",
   "metadata": {},
   "outputs": [
    {
     "data": {
      "text/plain": [
       "('Banana', 'Bamba', 'Bissli')"
      ]
     },
     "execution_count": 12,
     "metadata": {},
     "output_type": "execute_result"
    }
   ],
   "source": [
    "tup_var\n"
   ]
  },
  {
   "cell_type": "code",
   "execution_count": 13,
   "id": "3ec905b3",
   "metadata": {},
   "outputs": [
    {
     "data": {
      "text/plain": [
       "tuple"
      ]
     },
     "execution_count": 13,
     "metadata": {},
     "output_type": "execute_result"
    }
   ],
   "source": [
    "type(tup_var)"
   ]
  },
  {
   "cell_type": "code",
   "execution_count": 14,
   "id": "b3087c2d",
   "metadata": {},
   "outputs": [],
   "source": [
    "#Tuple items can be of any data type:\n",
    "tup_var = (1,2,\"Banana\", 100>50,\"Bissli\")"
   ]
  },
  {
   "cell_type": "code",
   "execution_count": 15,
   "id": "eae5caf8",
   "metadata": {},
   "outputs": [
    {
     "data": {
      "text/plain": [
       "(1, 2, 'Banana', True, 'Bissli')"
      ]
     },
     "execution_count": 15,
     "metadata": {},
     "output_type": "execute_result"
    }
   ],
   "source": [
    "tup_var"
   ]
  },
  {
   "cell_type": "code",
   "execution_count": 16,
   "id": "35dde176",
   "metadata": {},
   "outputs": [
    {
     "data": {
      "text/plain": [
       "tuple"
      ]
     },
     "execution_count": 16,
     "metadata": {},
     "output_type": "execute_result"
    }
   ],
   "source": [
    "type(tup_var)"
   ]
  },
  {
   "cell_type": "code",
   "execution_count": 17,
   "id": "f7a2a362",
   "metadata": {},
   "outputs": [],
   "source": [
    "#Tuples are unchangeable, meaning that we cannot change, add or remove items after the tuple has been created\n",
    "list_var = [10,20,13,45,5]\n",
    "tup_var =(10,20,13,45,5)"
   ]
  },
  {
   "cell_type": "code",
   "execution_count": 18,
   "id": "54da4c70",
   "metadata": {},
   "outputs": [
    {
     "data": {
      "text/plain": [
       "10"
      ]
     },
     "execution_count": 18,
     "metadata": {},
     "output_type": "execute_result"
    }
   ],
   "source": [
    "list_var[0]"
   ]
  },
  {
   "cell_type": "code",
   "execution_count": 19,
   "id": "e549a763",
   "metadata": {},
   "outputs": [],
   "source": [
    "list_var[0] = 9"
   ]
  },
  {
   "cell_type": "code",
   "execution_count": 20,
   "id": "95f9d64f",
   "metadata": {},
   "outputs": [
    {
     "data": {
      "text/plain": [
       "[9, 20, 13, 45, 5]"
      ]
     },
     "execution_count": 20,
     "metadata": {},
     "output_type": "execute_result"
    }
   ],
   "source": [
    "list_var"
   ]
  },
  {
   "cell_type": "code",
   "execution_count": 21,
   "id": "9d00c12e",
   "metadata": {},
   "outputs": [],
   "source": [
    "list_var.append(\"a\")"
   ]
  },
  {
   "cell_type": "code",
   "execution_count": 22,
   "id": "22f1d5b1",
   "metadata": {},
   "outputs": [
    {
     "data": {
      "text/plain": [
       "[9, 20, 13, 45, 5, 'a']"
      ]
     },
     "execution_count": 22,
     "metadata": {},
     "output_type": "execute_result"
    }
   ],
   "source": [
    "list_var"
   ]
  },
  {
   "cell_type": "code",
   "execution_count": 23,
   "id": "58889732",
   "metadata": {},
   "outputs": [],
   "source": [
    "list_var.remove(\"a\")"
   ]
  },
  {
   "cell_type": "code",
   "execution_count": 24,
   "id": "cc4a10ae",
   "metadata": {},
   "outputs": [
    {
     "data": {
      "text/plain": [
       "[9, 20, 13, 45, 5]"
      ]
     },
     "execution_count": 24,
     "metadata": {},
     "output_type": "execute_result"
    }
   ],
   "source": [
    "list_var"
   ]
  },
  {
   "cell_type": "code",
   "execution_count": 25,
   "id": "3a808b30",
   "metadata": {},
   "outputs": [],
   "source": [
    "list_var.append(80)"
   ]
  },
  {
   "cell_type": "code",
   "execution_count": 26,
   "id": "c4fd45c6",
   "metadata": {},
   "outputs": [
    {
     "data": {
      "text/plain": [
       "[9, 20, 13, 45, 5, 80]"
      ]
     },
     "execution_count": 26,
     "metadata": {},
     "output_type": "execute_result"
    }
   ],
   "source": [
    "list_var"
   ]
  },
  {
   "cell_type": "code",
   "execution_count": 27,
   "id": "f8574313",
   "metadata": {},
   "outputs": [],
   "source": [
    "list_var.sort()"
   ]
  },
  {
   "cell_type": "code",
   "execution_count": 28,
   "id": "6ce436bb",
   "metadata": {},
   "outputs": [
    {
     "data": {
      "text/plain": [
       "[5, 9, 13, 20, 45, 80]"
      ]
     },
     "execution_count": 28,
     "metadata": {},
     "output_type": "execute_result"
    }
   ],
   "source": [
    "list_var"
   ]
  },
  {
   "cell_type": "code",
   "execution_count": 29,
   "id": "3cff8903",
   "metadata": {},
   "outputs": [],
   "source": [
    "list_var.reverse()"
   ]
  },
  {
   "cell_type": "code",
   "execution_count": 30,
   "id": "b7784b2d",
   "metadata": {},
   "outputs": [
    {
     "data": {
      "text/plain": [
       "[80, 45, 20, 13, 9, 5]"
      ]
     },
     "execution_count": 30,
     "metadata": {},
     "output_type": "execute_result"
    }
   ],
   "source": [
    "list_var"
   ]
  },
  {
   "cell_type": "code",
   "execution_count": 31,
   "id": "60d0aa4d",
   "metadata": {},
   "outputs": [
    {
     "data": {
      "text/plain": [
       "10"
      ]
     },
     "execution_count": 31,
     "metadata": {},
     "output_type": "execute_result"
    }
   ],
   "source": [
    "tup_var[0]"
   ]
  },
  {
   "cell_type": "code",
   "execution_count": 32,
   "id": "aebc4b64",
   "metadata": {},
   "outputs": [
    {
     "ename": "TypeError",
     "evalue": "'tuple' object does not support item assignment",
     "output_type": "error",
     "traceback": [
      "\u001b[1;31m---------------------------------------------------------------------------\u001b[0m",
      "\u001b[1;31mTypeError\u001b[0m                                 Traceback (most recent call last)",
      "Cell \u001b[1;32mIn[32], line 2\u001b[0m\n\u001b[0;32m      1\u001b[0m \u001b[38;5;66;03m#Retutn error - tuple object does not support item assignment\u001b[39;00m\n\u001b[1;32m----> 2\u001b[0m \u001b[43mtup_var\u001b[49m\u001b[43m[\u001b[49m\u001b[38;5;241;43m0\u001b[39;49m\u001b[43m]\u001b[49m \u001b[38;5;241m=\u001b[39m \u001b[38;5;241m9\u001b[39m\n",
      "\u001b[1;31mTypeError\u001b[0m: 'tuple' object does not support item assignment"
     ]
    }
   ],
   "source": [
    "#Retutn error - tuple object does not support item assignment\n",
    "tup_var[0] = 9"
   ]
  },
  {
   "cell_type": "code",
   "execution_count": 38,
   "id": "3bbcf7d9",
   "metadata": {},
   "outputs": [
    {
     "ename": "AttributeError",
     "evalue": "'tuple' object has no attribute 'sort'",
     "output_type": "error",
     "traceback": [
      "\u001b[1;31m---------------------------------------------------------------------------\u001b[0m",
      "\u001b[1;31mAttributeError\u001b[0m                            Traceback (most recent call last)",
      "Cell \u001b[1;32mIn[38], line 3\u001b[0m\n\u001b[0;32m      1\u001b[0m \u001b[38;5;66;03m#Retutn error -'tuple' object has no attribute 'append','sort','reverse'\u001b[39;00m\n\u001b[0;32m      2\u001b[0m \u001b[38;5;66;03m#tup_var.append(80)\u001b[39;00m\n\u001b[1;32m----> 3\u001b[0m \u001b[43mtup_var\u001b[49m\u001b[38;5;241;43m.\u001b[39;49m\u001b[43msort\u001b[49m()\n\u001b[0;32m      4\u001b[0m \u001b[38;5;66;03m#tup_var.reverse()\u001b[39;00m\n",
      "\u001b[1;31mAttributeError\u001b[0m: 'tuple' object has no attribute 'sort'"
     ]
    }
   ],
   "source": [
    "#Retutn error -'tuple' object has no attribute 'append','sort','reverse'\n",
    "#tup_var.append(80)\n",
    "tup_var.sort()\n",
    "#tup_var.reverse()"
   ]
  },
  {
   "cell_type": "code",
   "execution_count": 34,
   "id": "a9fc6f36",
   "metadata": {},
   "outputs": [
    {
     "data": {
      "text/plain": [
       "(10, 20, 13, 45, 5, 10, 20, 13, 45, 5)"
      ]
     },
     "execution_count": 34,
     "metadata": {},
     "output_type": "execute_result"
    }
   ],
   "source": [
    "tup_var*2"
   ]
  },
  {
   "cell_type": "code",
   "execution_count": 35,
   "id": "6121eb34",
   "metadata": {},
   "outputs": [
    {
     "data": {
      "text/plain": [
       "1"
      ]
     },
     "execution_count": 35,
     "metadata": {},
     "output_type": "execute_result"
    }
   ],
   "source": [
    "tup_var.count(10)"
   ]
  },
  {
   "cell_type": "code",
   "execution_count": 36,
   "id": "6d4ed0b5",
   "metadata": {},
   "outputs": [
    {
     "data": {
      "text/plain": [
       "3"
      ]
     },
     "execution_count": 36,
     "metadata": {},
     "output_type": "execute_result"
    }
   ],
   "source": [
    "tup_var.index(45)"
   ]
  },
  {
   "cell_type": "code",
   "execution_count": 39,
   "id": "3550e58d",
   "metadata": {},
   "outputs": [
    {
     "data": {
      "text/plain": [
       "[5, 10, 13, 20, 45]"
      ]
     },
     "execution_count": 39,
     "metadata": {},
     "output_type": "execute_result"
    }
   ],
   "source": [
    "sorted(tup_var)"
   ]
  },
  {
   "cell_type": "code",
   "execution_count": 40,
   "id": "1bd49e6c",
   "metadata": {},
   "outputs": [
    {
     "data": {
      "text/plain": [
       "(10, 20, 13, 45, 5)"
      ]
     },
     "execution_count": 40,
     "metadata": {},
     "output_type": "execute_result"
    }
   ],
   "source": [
    "tup_var"
   ]
  },
  {
   "cell_type": "code",
   "execution_count": 41,
   "id": "3335ba8e",
   "metadata": {},
   "outputs": [
    {
     "data": {
      "text/plain": [
       "[45, 20, 13, 10, 5]"
      ]
     },
     "execution_count": 41,
     "metadata": {},
     "output_type": "execute_result"
    }
   ],
   "source": [
    "sorted(tup_var,reverse=True)"
   ]
  },
  {
   "cell_type": "code",
   "execution_count": 42,
   "id": "93f4ea1f",
   "metadata": {},
   "outputs": [
    {
     "data": {
      "text/plain": [
       "[5, 10, 13, 20, 45]"
      ]
     },
     "execution_count": 42,
     "metadata": {},
     "output_type": "execute_result"
    }
   ],
   "source": [
    "sorted(tup_var,reverse=False)"
   ]
  },
  {
   "cell_type": "code",
   "execution_count": 45,
   "id": "3dd8c065",
   "metadata": {},
   "outputs": [],
   "source": [
    "x=sorted(tup_var,reverse=False)"
   ]
  },
  {
   "cell_type": "code",
   "execution_count": 47,
   "id": "cb1aa5f0",
   "metadata": {},
   "outputs": [
    {
     "data": {
      "text/plain": [
       "list"
      ]
     },
     "execution_count": 47,
     "metadata": {},
     "output_type": "execute_result"
    }
   ],
   "source": [
    "type(x)"
   ]
  },
  {
   "cell_type": "code",
   "execution_count": 44,
   "id": "37048900",
   "metadata": {},
   "outputs": [
    {
     "data": {
      "text/plain": [
       "(10, 20, 13, 45, 5)"
      ]
     },
     "execution_count": 44,
     "metadata": {},
     "output_type": "execute_result"
    }
   ],
   "source": [
    "tup_var"
   ]
  },
  {
   "cell_type": "code",
   "execution_count": 43,
   "id": "fbe4af16",
   "metadata": {},
   "outputs": [
    {
     "data": {
      "text/plain": [
       "tuple"
      ]
     },
     "execution_count": 43,
     "metadata": {},
     "output_type": "execute_result"
    }
   ],
   "source": [
    "type(tup_var)"
   ]
  },
  {
   "cell_type": "code",
   "execution_count": 49,
   "id": "27932d0d",
   "metadata": {},
   "outputs": [],
   "source": [
    "#Unpacking a Tuple\n",
    "a,b,c=(1,2,3)"
   ]
  },
  {
   "cell_type": "code",
   "execution_count": 50,
   "id": "4c8d3b63",
   "metadata": {},
   "outputs": [
    {
     "name": "stdout",
     "output_type": "stream",
     "text": [
      "1\n",
      "2\n",
      "3\n"
     ]
    }
   ],
   "source": [
    "print(a)\n",
    "print(b)\n",
    "print(c)"
   ]
  },
  {
   "cell_type": "code",
   "execution_count": 51,
   "id": "37eb50dd",
   "metadata": {},
   "outputs": [
    {
     "data": {
      "text/plain": [
       "int"
      ]
     },
     "execution_count": 51,
     "metadata": {},
     "output_type": "execute_result"
    }
   ],
   "source": [
    "type(a)"
   ]
  },
  {
   "cell_type": "code",
   "execution_count": 52,
   "id": "c4842c89",
   "metadata": {},
   "outputs": [],
   "source": [
    "list_tup=[(1,10),(2,20),(3,30),(4,40)]"
   ]
  },
  {
   "cell_type": "code",
   "execution_count": 53,
   "id": "375555f2",
   "metadata": {},
   "outputs": [
    {
     "name": "stdout",
     "output_type": "stream",
     "text": [
      "[(1, 10), (2, 20), (3, 30), (4, 40)]\n"
     ]
    }
   ],
   "source": [
    "print(list_tup)"
   ]
  },
  {
   "cell_type": "code",
   "execution_count": 54,
   "id": "e4163dff",
   "metadata": {},
   "outputs": [
    {
     "data": {
      "text/plain": [
       "list"
      ]
     },
     "execution_count": 54,
     "metadata": {},
     "output_type": "execute_result"
    }
   ],
   "source": [
    "type(list_tup)"
   ]
  },
  {
   "cell_type": "code",
   "execution_count": 55,
   "id": "7790b6d2",
   "metadata": {},
   "outputs": [
    {
     "data": {
      "text/plain": [
       "tuple"
      ]
     },
     "execution_count": 55,
     "metadata": {},
     "output_type": "execute_result"
    }
   ],
   "source": [
    "type(list_tup[0])"
   ]
  },
  {
   "cell_type": "code",
   "execution_count": 56,
   "id": "8c685f31",
   "metadata": {},
   "outputs": [
    {
     "name": "stdout",
     "output_type": "stream",
     "text": [
      "1 10\n",
      "2 20\n",
      "3 30\n",
      "4 40\n"
     ]
    }
   ],
   "source": [
    "for v1,v2 in list_tup:\n",
    "    print(v1,v2)"
   ]
  },
  {
   "cell_type": "code",
   "execution_count": null,
   "id": "140dfedc",
   "metadata": {},
   "outputs": [],
   "source": []
  }
 ],
 "metadata": {
  "kernelspec": {
   "display_name": "Python 3 (ipykernel)",
   "language": "python",
   "name": "python3"
  },
  "language_info": {
   "codemirror_mode": {
    "name": "ipython",
    "version": 3
   },
   "file_extension": ".py",
   "mimetype": "text/x-python",
   "name": "python",
   "nbconvert_exporter": "python",
   "pygments_lexer": "ipython3",
   "version": "3.11.2"
  }
 },
 "nbformat": 4,
 "nbformat_minor": 5
}
