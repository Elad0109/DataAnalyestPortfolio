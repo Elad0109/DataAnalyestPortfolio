{
 "cells": [
  {
   "cell_type": "code",
   "execution_count": 1,
   "id": "5be0be5d",
   "metadata": {},
   "outputs": [],
   "source": [
    "import pandas as pd"
   ]
  },
  {
   "cell_type": "code",
   "execution_count": 2,
   "id": "9521762f",
   "metadata": {},
   "outputs": [],
   "source": [
    "s1 = pd.Series([1, 2, 3,4])\n",
    "s2 = pd.Series([3,4, 5, 6])\n",
    "#s3 = pd.Series([4, 5, 6], index=[3, 4, 5])"
   ]
  },
  {
   "cell_type": "markdown",
   "id": "ad0c4e84",
   "metadata": {},
   "source": [
    "### Concat --union all"
   ]
  },
  {
   "cell_type": "code",
   "execution_count": 3,
   "id": "1539be8d",
   "metadata": {},
   "outputs": [
    {
     "data": {
      "text/plain": [
       "0    1\n",
       "1    2\n",
       "2    3\n",
       "3    4\n",
       "0    3\n",
       "1    4\n",
       "2    5\n",
       "3    6\n",
       "dtype: int64"
      ]
     },
     "execution_count": 3,
     "metadata": {},
     "output_type": "execute_result"
    }
   ],
   "source": [
    "pd.concat([s1,s2])"
   ]
  },
  {
   "cell_type": "code",
   "execution_count": 4,
   "id": "bba2486a",
   "metadata": {},
   "outputs": [
    {
     "data": {
      "text/plain": [
       "0    1\n",
       "1    2\n",
       "2    3\n",
       "3    4\n",
       "4    3\n",
       "5    4\n",
       "6    5\n",
       "7    6\n",
       "dtype: int64"
      ]
     },
     "execution_count": 4,
     "metadata": {},
     "output_type": "execute_result"
    }
   ],
   "source": [
    "pd.concat([s1, s2], ignore_index=True)"
   ]
  },
  {
   "cell_type": "code",
   "execution_count": 23,
   "id": "b5cea324",
   "metadata": {},
   "outputs": [
    {
     "data": {
      "text/html": [
       "<div>\n",
       "<style scoped>\n",
       "    .dataframe tbody tr th:only-of-type {\n",
       "        vertical-align: middle;\n",
       "    }\n",
       "\n",
       "    .dataframe tbody tr th {\n",
       "        vertical-align: top;\n",
       "    }\n",
       "\n",
       "    .dataframe thead th {\n",
       "        text-align: right;\n",
       "    }\n",
       "</style>\n",
       "<table border=\"1\" class=\"dataframe\">\n",
       "  <thead>\n",
       "    <tr style=\"text-align: right;\">\n",
       "      <th></th>\n",
       "      <th>col1</th>\n",
       "      <th>col2</th>\n",
       "    </tr>\n",
       "  </thead>\n",
       "  <tbody>\n",
       "    <tr>\n",
       "      <th>0</th>\n",
       "      <td>1</td>\n",
       "      <td>3</td>\n",
       "    </tr>\n",
       "    <tr>\n",
       "      <th>1</th>\n",
       "      <td>2</td>\n",
       "      <td>4</td>\n",
       "    </tr>\n",
       "    <tr>\n",
       "      <th>2</th>\n",
       "      <td>3</td>\n",
       "      <td>5</td>\n",
       "    </tr>\n",
       "    <tr>\n",
       "      <th>3</th>\n",
       "      <td>4</td>\n",
       "      <td>6</td>\n",
       "    </tr>\n",
       "  </tbody>\n",
       "</table>\n",
       "</div>"
      ],
      "text/plain": [
       "   col1  col2\n",
       "0     1     3\n",
       "1     2     4\n",
       "2     3     5\n",
       "3     4     6"
      ]
     },
     "execution_count": 23,
     "metadata": {},
     "output_type": "execute_result"
    }
   ],
   "source": [
    "#axis=1 join them together by index\n",
    "pd.concat([s1, s2],axis=1).rename(columns={0:\"col1\",1:\"col2\"})"
   ]
  },
  {
   "cell_type": "markdown",
   "id": "45af860f",
   "metadata": {},
   "source": [
    "### concat() + drop_duplicates()--union"
   ]
  },
  {
   "cell_type": "code",
   "execution_count": 14,
   "id": "98fa01bb",
   "metadata": {},
   "outputs": [
    {
     "data": {
      "text/plain": [
       "0    1\n",
       "1    2\n",
       "2    3\n",
       "3    4\n",
       "6    5\n",
       "7    6\n",
       "dtype: int64"
      ]
     },
     "execution_count": 14,
     "metadata": {},
     "output_type": "execute_result"
    }
   ],
   "source": [
    "pd.concat([s1, s2], ignore_index=True).drop_duplicates()"
   ]
  },
  {
   "cell_type": "markdown",
   "id": "da63e72d",
   "metadata": {},
   "source": [
    "### isin  --intersect"
   ]
  },
  {
   "cell_type": "code",
   "execution_count": 15,
   "id": "f428033d",
   "metadata": {},
   "outputs": [
    {
     "data": {
      "text/plain": [
       "2    3\n",
       "3    4\n",
       "dtype: int64"
      ]
     },
     "execution_count": 15,
     "metadata": {},
     "output_type": "execute_result"
    }
   ],
   "source": [
    "s1[s1.isin(s2)]"
   ]
  },
  {
   "cell_type": "markdown",
   "id": "1ddb2387",
   "metadata": {},
   "source": [
    "### ~isin --except "
   ]
  },
  {
   "cell_type": "code",
   "execution_count": 17,
   "id": "c8fec045",
   "metadata": {
    "scrolled": true
   },
   "outputs": [
    {
     "data": {
      "text/plain": [
       "0    1\n",
       "1    2\n",
       "dtype: int64"
      ]
     },
     "execution_count": 17,
     "metadata": {},
     "output_type": "execute_result"
    }
   ],
   "source": [
    "s1[~s1.isin(s2)]"
   ]
  },
  {
   "cell_type": "code",
   "execution_count": 19,
   "id": "fbb4de0e",
   "metadata": {},
   "outputs": [
    {
     "data": {
      "text/plain": [
       "2    5\n",
       "3    6\n",
       "dtype: int64"
      ]
     },
     "execution_count": 19,
     "metadata": {},
     "output_type": "execute_result"
    }
   ],
   "source": [
    "s2[~s2.isin(s1)]"
   ]
  },
  {
   "cell_type": "code",
   "execution_count": 20,
   "id": "7c0ae784",
   "metadata": {},
   "outputs": [
    {
     "data": {
      "text/plain": [
       "0    1\n",
       "1    2\n",
       "2    5\n",
       "3    6\n",
       "dtype: int64"
      ]
     },
     "execution_count": 20,
     "metadata": {},
     "output_type": "execute_result"
    }
   ],
   "source": [
    "a=s1[~s1.isin(s2)]\n",
    "b=s2[~s2.isin(s1)]\n",
    "pd.concat([a,b])"
   ]
  },
  {
   "cell_type": "code",
   "execution_count": null,
   "id": "1e2439d8",
   "metadata": {},
   "outputs": [],
   "source": [
    "s1=pd.read_csv(\"data/Countries Population from 1995 to 2020.csv\")"
   ]
  },
  {
   "cell_type": "code",
   "execution_count": 24,
   "id": "6bf6dcdf",
   "metadata": {},
   "outputs": [],
   "source": [
    "s2=pd.read_csv(\"data/Countries.csv\")"
   ]
  },
  {
   "cell_type": "code",
   "execution_count": null,
   "id": "24c6c453",
   "metadata": {},
   "outputs": [],
   "source": [
    "s1.info()"
   ]
  },
  {
   "cell_type": "code",
   "execution_count": null,
   "id": "4c0acd78",
   "metadata": {},
   "outputs": [],
   "source": [
    "s2.info()"
   ]
  },
  {
   "cell_type": "code",
   "execution_count": null,
   "id": "11a7ebdd",
   "metadata": {},
   "outputs": [],
   "source": [
    "a=s1[[\"Year\",\"Country\"]].rename(columns={\"Year\":\"year\",\"Country\":\"country\"})\n",
    "b=s2[[\"year\",\"country\"]]\n",
    "pd.concat([a,b])"
   ]
  },
  {
   "cell_type": "code",
   "execution_count": null,
   "id": "af03317a",
   "metadata": {},
   "outputs": [],
   "source": [
    "pd.concat([a,b],ignore_index=0)"
   ]
  },
  {
   "cell_type": "code",
   "execution_count": null,
   "id": "03ffc099",
   "metadata": {},
   "outputs": [],
   "source": [
    "pd.concat([a,b],ignore_index=0).drop_duplicates()"
   ]
  },
  {
   "cell_type": "code",
   "execution_count": null,
   "id": "3d8cf3ff",
   "metadata": {},
   "outputs": [],
   "source": []
  },
  {
   "cell_type": "code",
   "execution_count": null,
   "id": "32344a18",
   "metadata": {},
   "outputs": [],
   "source": []
  },
  {
   "cell_type": "code",
   "execution_count": null,
   "id": "c8564a90",
   "metadata": {},
   "outputs": [],
   "source": [
    "odd_numbers = [(1),(2),(3),(5),(7),(9),(11)]\n",
    "odd_numbers_s = pd.Series(odd_numbers)\n",
    "odd_numbers_df = odd_numbers_s.to_frame(\"Id\")"
   ]
  },
  {
   "cell_type": "code",
   "execution_count": null,
   "id": "c7fe0b00",
   "metadata": {},
   "outputs": [],
   "source": [
    "even_numbers = [(1),(2),(4),(6),(8),(10),(12)]\n",
    "even_numbers_s = pd.Series(even_numbers)\n",
    "even_numbers_df = even_numbers_s.to_frame(\"Id\")"
   ]
  },
  {
   "cell_type": "code",
   "execution_count": null,
   "id": "1d8284f6",
   "metadata": {},
   "outputs": [],
   "source": [
    "odd_numbers_df"
   ]
  },
  {
   "cell_type": "code",
   "execution_count": null,
   "id": "19386652",
   "metadata": {},
   "outputs": [],
   "source": [
    "even_numbers_df\n"
   ]
  },
  {
   "cell_type": "code",
   "execution_count": null,
   "id": "3b7ca5eb",
   "metadata": {},
   "outputs": [],
   "source": [
    "import numpy as np"
   ]
  },
  {
   "cell_type": "code",
   "execution_count": null,
   "id": "057c56d1",
   "metadata": {},
   "outputs": [],
   "source": [
    "even_numbers_df[\"new\"] = np.random.random( )"
   ]
  },
  {
   "cell_type": "code",
   "execution_count": null,
   "id": "a4749c90",
   "metadata": {},
   "outputs": [],
   "source": [
    "even_numbers_df"
   ]
  },
  {
   "cell_type": "code",
   "execution_count": null,
   "id": "ab29c33d",
   "metadata": {},
   "outputs": [],
   "source": [
    "pd.concat([even_numbers_df, odd_numbers_df])"
   ]
  },
  {
   "cell_type": "code",
   "execution_count": null,
   "id": "5ac22172",
   "metadata": {},
   "outputs": [],
   "source": [
    "pd.concat([even_numbers_df, odd_numbers_df], ignore_index = True)"
   ]
  },
  {
   "cell_type": "code",
   "execution_count": null,
   "id": "f395a96b",
   "metadata": {},
   "outputs": [],
   "source": [
    "even_numbers_df.append(odd_numbers_df, ignore_index = True)"
   ]
  },
  {
   "cell_type": "code",
   "execution_count": null,
   "id": "e2b46b8f",
   "metadata": {},
   "outputs": [],
   "source": [
    "pd.concat([even_numbers_df, odd_numbers_df], ignore_index = True).drop_duplicates()"
   ]
  },
  {
   "cell_type": "code",
   "execution_count": null,
   "id": "ee6dc009",
   "metadata": {},
   "outputs": [],
   "source": [
    "pd.concat([even_numbers_df, odd_numbers_df], ignore_index = True).drop_duplicates()\\\n",
    ".sort_values([\"Id\"], ascending = [True])"
   ]
  },
  {
   "cell_type": "code",
   "execution_count": null,
   "id": "72cdd395",
   "metadata": {},
   "outputs": [],
   "source": [
    "pd.merge(even_numbers_df, odd_numbers_df)"
   ]
  },
  {
   "cell_type": "code",
   "execution_count": null,
   "id": "80d67c75",
   "metadata": {},
   "outputs": [],
   "source": [
    "mask = ~even_numbers_df[\"Id\"].isin(odd_numbers_df[\"Id\"])\n",
    "even_numbers_df[mask]"
   ]
  },
  {
   "cell_type": "code",
   "execution_count": null,
   "id": "f199e295",
   "metadata": {},
   "outputs": [],
   "source": [
    "mask = ~odd_numbers_df[\"Id\"].isin(even_numbers_df[\"Id\"])\n",
    "odd_numbers_df[mask]"
   ]
  },
  {
   "cell_type": "code",
   "execution_count": null,
   "id": "8dddacaa",
   "metadata": {},
   "outputs": [],
   "source": []
  }
 ],
 "metadata": {
  "kernelspec": {
   "display_name": "Python 3 (ipykernel)",
   "language": "python",
   "name": "python3"
  },
  "language_info": {
   "codemirror_mode": {
    "name": "ipython",
    "version": 3
   },
   "file_extension": ".py",
   "mimetype": "text/x-python",
   "name": "python",
   "nbconvert_exporter": "python",
   "pygments_lexer": "ipython3",
   "version": "3.11.2"
  }
 },
 "nbformat": 4,
 "nbformat_minor": 5
}
