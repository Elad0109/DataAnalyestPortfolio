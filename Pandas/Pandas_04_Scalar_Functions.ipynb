{
 "cells": [
  {
   "cell_type": "markdown",
   "id": "0e0a8d05",
   "metadata": {},
   "source": [
    "# Functions"
   ]
  },
  {
   "cell_type": "code",
   "execution_count": 1,
   "id": "d79ae431",
   "metadata": {},
   "outputs": [],
   "source": [
    "import pandas as pd\n",
    "import seaborn as sb"
   ]
  },
  {
   "cell_type": "code",
   "execution_count": null,
   "id": "89094248",
   "metadata": {},
   "outputs": [],
   "source": [
    "sb.get_dataset_names()"
   ]
  },
  {
   "cell_type": "code",
   "execution_count": 2,
   "id": "afcef6b0",
   "metadata": {},
   "outputs": [],
   "source": [
    "df = sb.load_dataset(\"tips\")\n",
    "titanic=sb.load_dataset(\"titanic\")\n",
    "products=pd.read_csv(\"data/products.csv\")"
   ]
  },
  {
   "cell_type": "code",
   "execution_count": 3,
   "id": "f0c6ee4a",
   "metadata": {},
   "outputs": [
    {
     "data": {
      "text/html": [
       "<div>\n",
       "<style scoped>\n",
       "    .dataframe tbody tr th:only-of-type {\n",
       "        vertical-align: middle;\n",
       "    }\n",
       "\n",
       "    .dataframe tbody tr th {\n",
       "        vertical-align: top;\n",
       "    }\n",
       "\n",
       "    .dataframe thead th {\n",
       "        text-align: right;\n",
       "    }\n",
       "</style>\n",
       "<table border=\"1\" class=\"dataframe\">\n",
       "  <thead>\n",
       "    <tr style=\"text-align: right;\">\n",
       "      <th></th>\n",
       "      <th>total_bill</th>\n",
       "      <th>tip</th>\n",
       "      <th>sex</th>\n",
       "      <th>smoker</th>\n",
       "      <th>day</th>\n",
       "      <th>time</th>\n",
       "      <th>size</th>\n",
       "    </tr>\n",
       "  </thead>\n",
       "  <tbody>\n",
       "    <tr>\n",
       "      <th>0</th>\n",
       "      <td>16.99</td>\n",
       "      <td>1.01</td>\n",
       "      <td>Female</td>\n",
       "      <td>No</td>\n",
       "      <td>Sun</td>\n",
       "      <td>Dinner</td>\n",
       "      <td>2</td>\n",
       "    </tr>\n",
       "    <tr>\n",
       "      <th>1</th>\n",
       "      <td>10.34</td>\n",
       "      <td>1.66</td>\n",
       "      <td>Male</td>\n",
       "      <td>No</td>\n",
       "      <td>Sun</td>\n",
       "      <td>Dinner</td>\n",
       "      <td>3</td>\n",
       "    </tr>\n",
       "    <tr>\n",
       "      <th>2</th>\n",
       "      <td>21.01</td>\n",
       "      <td>3.50</td>\n",
       "      <td>Male</td>\n",
       "      <td>No</td>\n",
       "      <td>Sun</td>\n",
       "      <td>Dinner</td>\n",
       "      <td>3</td>\n",
       "    </tr>\n",
       "    <tr>\n",
       "      <th>3</th>\n",
       "      <td>23.68</td>\n",
       "      <td>3.31</td>\n",
       "      <td>Male</td>\n",
       "      <td>No</td>\n",
       "      <td>Sun</td>\n",
       "      <td>Dinner</td>\n",
       "      <td>2</td>\n",
       "    </tr>\n",
       "    <tr>\n",
       "      <th>4</th>\n",
       "      <td>24.59</td>\n",
       "      <td>3.61</td>\n",
       "      <td>Female</td>\n",
       "      <td>No</td>\n",
       "      <td>Sun</td>\n",
       "      <td>Dinner</td>\n",
       "      <td>4</td>\n",
       "    </tr>\n",
       "  </tbody>\n",
       "</table>\n",
       "</div>"
      ],
      "text/plain": [
       "   total_bill   tip     sex smoker  day    time  size\n",
       "0       16.99  1.01  Female     No  Sun  Dinner     2\n",
       "1       10.34  1.66    Male     No  Sun  Dinner     3\n",
       "2       21.01  3.50    Male     No  Sun  Dinner     3\n",
       "3       23.68  3.31    Male     No  Sun  Dinner     2\n",
       "4       24.59  3.61  Female     No  Sun  Dinner     4"
      ]
     },
     "execution_count": 3,
     "metadata": {},
     "output_type": "execute_result"
    }
   ],
   "source": [
    "df.head()"
   ]
  },
  {
   "cell_type": "code",
   "execution_count": 4,
   "id": "6a184cbf",
   "metadata": {},
   "outputs": [],
   "source": [
    "pup = pd.read_csv('data/Pupils.csv')"
   ]
  },
  {
   "cell_type": "code",
   "execution_count": 6,
   "id": "fa67509a",
   "metadata": {},
   "outputs": [
    {
     "data": {
      "text/html": [
       "<div>\n",
       "<style scoped>\n",
       "    .dataframe tbody tr th:only-of-type {\n",
       "        vertical-align: middle;\n",
       "    }\n",
       "\n",
       "    .dataframe tbody tr th {\n",
       "        vertical-align: top;\n",
       "    }\n",
       "\n",
       "    .dataframe thead th {\n",
       "        text-align: right;\n",
       "    }\n",
       "</style>\n",
       "<table border=\"1\" class=\"dataframe\">\n",
       "  <thead>\n",
       "    <tr style=\"text-align: right;\">\n",
       "      <th></th>\n",
       "      <th>Name</th>\n",
       "      <th>Age</th>\n",
       "      <th>Country</th>\n",
       "      <th>Height</th>\n",
       "      <th>Weight</th>\n",
       "      <th>avg</th>\n",
       "      <th>income</th>\n",
       "      <th>rooms</th>\n",
       "      <th>family</th>\n",
       "      <th>type</th>\n",
       "      <th>gen</th>\n",
       "    </tr>\n",
       "  </thead>\n",
       "  <tbody>\n",
       "    <tr>\n",
       "      <th>0</th>\n",
       "      <td>adar</td>\n",
       "      <td>6</td>\n",
       "      <td>SP</td>\n",
       "      <td>113</td>\n",
       "      <td>30</td>\n",
       "      <td>70</td>\n",
       "      <td>16700</td>\n",
       "      <td>7</td>\n",
       "      <td>6</td>\n",
       "      <td>1</td>\n",
       "      <td>M</td>\n",
       "    </tr>\n",
       "    <tr>\n",
       "      <th>1</th>\n",
       "      <td>agam</td>\n",
       "      <td>6</td>\n",
       "      <td>GR</td>\n",
       "      <td>172</td>\n",
       "      <td>71</td>\n",
       "      <td>92</td>\n",
       "      <td>9200</td>\n",
       "      <td>5</td>\n",
       "      <td>4</td>\n",
       "      <td>2</td>\n",
       "      <td>F</td>\n",
       "    </tr>\n",
       "    <tr>\n",
       "      <th>2</th>\n",
       "      <td>avi</td>\n",
       "      <td>7</td>\n",
       "      <td>ISR</td>\n",
       "      <td>143</td>\n",
       "      <td>58</td>\n",
       "      <td>82</td>\n",
       "      <td>12000</td>\n",
       "      <td>3</td>\n",
       "      <td>7</td>\n",
       "      <td>1</td>\n",
       "      <td>M</td>\n",
       "    </tr>\n",
       "    <tr>\n",
       "      <th>3</th>\n",
       "      <td>dani</td>\n",
       "      <td>7</td>\n",
       "      <td>US</td>\n",
       "      <td>160</td>\n",
       "      <td>70</td>\n",
       "      <td>90</td>\n",
       "      <td>15000</td>\n",
       "      <td>4</td>\n",
       "      <td>4</td>\n",
       "      <td>2</td>\n",
       "      <td>M</td>\n",
       "    </tr>\n",
       "    <tr>\n",
       "      <th>4</th>\n",
       "      <td>dina</td>\n",
       "      <td>7</td>\n",
       "      <td>ISR</td>\n",
       "      <td>110</td>\n",
       "      <td>26</td>\n",
       "      <td>64</td>\n",
       "      <td>10000</td>\n",
       "      <td>6</td>\n",
       "      <td>8</td>\n",
       "      <td>1</td>\n",
       "      <td>F</td>\n",
       "    </tr>\n",
       "  </tbody>\n",
       "</table>\n",
       "</div>"
      ],
      "text/plain": [
       "   Name  Age Country  Height  Weight  avg  income  rooms  family  type gen\n",
       "0  adar    6      SP     113      30   70   16700      7       6     1   M\n",
       "1  agam    6      GR     172      71   92    9200      5       4     2   F\n",
       "2   avi    7     ISR     143      58   82   12000      3       7     1   M\n",
       "3  dani    7      US     160      70   90   15000      4       4     2   M\n",
       "4  dina    7     ISR     110      26   64   10000      6       8     1   F"
      ]
     },
     "execution_count": 6,
     "metadata": {},
     "output_type": "execute_result"
    }
   ],
   "source": [
    "pup.head()"
   ]
  },
  {
   "cell_type": "markdown",
   "id": "e8af1d24",
   "metadata": {},
   "source": [
    "# String Functions"
   ]
  },
  {
   "cell_type": "code",
   "execution_count": 7,
   "id": "5214db2d",
   "metadata": {},
   "outputs": [
    {
     "data": {
      "text/plain": [
       "'adar'"
      ]
     },
     "execution_count": 7,
     "metadata": {},
     "output_type": "execute_result"
    }
   ],
   "source": [
    "#Get the first row\n",
    "pup[\"Name\"][0]"
   ]
  },
  {
   "cell_type": "code",
   "execution_count": 9,
   "id": "c575fa10",
   "metadata": {},
   "outputs": [
    {
     "data": {
      "text/plain": [
       "0    a\n",
       "1    a\n",
       "2    a\n",
       "3    d\n",
       "4    d\n",
       "Name: Name, dtype: object"
      ]
     },
     "execution_count": 9,
     "metadata": {},
     "output_type": "execute_result"
    }
   ],
   "source": [
    "pup[\"Name\"].str[0].head()"
   ]
  },
  {
   "cell_type": "code",
   "execution_count": null,
   "id": "437fc39f",
   "metadata": {},
   "outputs": [],
   "source": [
    "#slice() - Slice substrings from each element in the Series or Index."
   ]
  },
  {
   "cell_type": "code",
   "execution_count": 10,
   "id": "c7ea9a32",
   "metadata": {},
   "outputs": [
    {
     "data": {
      "text/plain": [
       "0    ada\n",
       "1    aga\n",
       "2    avi\n",
       "3    dan\n",
       "4    din\n",
       "Name: Name, dtype: object"
      ]
     },
     "execution_count": 10,
     "metadata": {},
     "output_type": "execute_result"
    }
   ],
   "source": [
    "pup[\"Name\"].str.slice(0,3).head()"
   ]
  },
  {
   "cell_type": "code",
   "execution_count": 11,
   "id": "82626aa2",
   "metadata": {},
   "outputs": [
    {
     "data": {
      "text/plain": [
       "0    da\n",
       "1    ga\n",
       "2    vi\n",
       "3    an\n",
       "4    in\n",
       "Name: Name, dtype: object"
      ]
     },
     "execution_count": 11,
     "metadata": {},
     "output_type": "execute_result"
    }
   ],
   "source": [
    "pup[\"Name\"].str.slice(1,3).head("
   ]
  },
  {
   "cell_type": "code",
   "execution_count": 12,
   "id": "8df351ea",
   "metadata": {},
   "outputs": [
    {
     "data": {
      "text/plain": [
       "0    aa\n",
       "1    aa\n",
       "2    ai\n",
       "3    dn\n",
       "4    dn\n",
       "Name: Name, dtype: object"
      ]
     },
     "execution_count": 12,
     "metadata": {},
     "output_type": "execute_result"
    }
   ],
   "source": [
    "pup[\"Name\"].str.slice(0,6,2).head()"
   ]
  },
  {
   "cell_type": "code",
   "execution_count": 15,
   "id": "29bcbb99",
   "metadata": {},
   "outputs": [
    {
     "data": {
      "text/html": [
       "<div>\n",
       "<style scoped>\n",
       "    .dataframe tbody tr th:only-of-type {\n",
       "        vertical-align: middle;\n",
       "    }\n",
       "\n",
       "    .dataframe tbody tr th {\n",
       "        vertical-align: top;\n",
       "    }\n",
       "\n",
       "    .dataframe thead th {\n",
       "        text-align: right;\n",
       "    }\n",
       "</style>\n",
       "<table border=\"1\" class=\"dataframe\">\n",
       "  <thead>\n",
       "    <tr style=\"text-align: right;\">\n",
       "      <th></th>\n",
       "      <th>Name</th>\n",
       "    </tr>\n",
       "  </thead>\n",
       "  <tbody>\n",
       "    <tr>\n",
       "      <th>0</th>\n",
       "      <td>adar</td>\n",
       "    </tr>\n",
       "    <tr>\n",
       "      <th>1</th>\n",
       "      <td>agam</td>\n",
       "    </tr>\n",
       "    <tr>\n",
       "      <th>2</th>\n",
       "      <td>avi</td>\n",
       "    </tr>\n",
       "    <tr>\n",
       "      <th>3</th>\n",
       "      <td>dani</td>\n",
       "    </tr>\n",
       "    <tr>\n",
       "      <th>4</th>\n",
       "      <td>dina</td>\n",
       "    </tr>\n",
       "    <tr>\n",
       "      <th>5</th>\n",
       "      <td>efrat</td>\n",
       "    </tr>\n",
       "    <tr>\n",
       "      <th>6</th>\n",
       "      <td>ehud</td>\n",
       "    </tr>\n",
       "    <tr>\n",
       "      <th>7</th>\n",
       "      <td>eli</td>\n",
       "    </tr>\n",
       "    <tr>\n",
       "      <th>8</th>\n",
       "      <td>ester</td>\n",
       "    </tr>\n",
       "    <tr>\n",
       "      <th>9</th>\n",
       "      <td>evyatar</td>\n",
       "    </tr>\n",
       "    <tr>\n",
       "      <th>10</th>\n",
       "      <td>itamar</td>\n",
       "    </tr>\n",
       "    <tr>\n",
       "      <th>11</th>\n",
       "      <td>liel</td>\n",
       "    </tr>\n",
       "    <tr>\n",
       "      <th>12</th>\n",
       "      <td>lilach</td>\n",
       "    </tr>\n",
       "    <tr>\n",
       "      <th>13</th>\n",
       "      <td>mia</td>\n",
       "    </tr>\n",
       "    <tr>\n",
       "      <th>14</th>\n",
       "      <td>michal</td>\n",
       "    </tr>\n",
       "    <tr>\n",
       "      <th>15</th>\n",
       "      <td>moshe</td>\n",
       "    </tr>\n",
       "    <tr>\n",
       "      <th>16</th>\n",
       "      <td>noya</td>\n",
       "    </tr>\n",
       "    <tr>\n",
       "      <th>17</th>\n",
       "      <td>ofer</td>\n",
       "    </tr>\n",
       "    <tr>\n",
       "      <th>18</th>\n",
       "      <td>ohad</td>\n",
       "    </tr>\n",
       "    <tr>\n",
       "      <th>19</th>\n",
       "      <td>omer</td>\n",
       "    </tr>\n",
       "    <tr>\n",
       "      <th>20</th>\n",
       "      <td>orit</td>\n",
       "    </tr>\n",
       "    <tr>\n",
       "      <th>21</th>\n",
       "      <td>orit</td>\n",
       "    </tr>\n",
       "    <tr>\n",
       "      <th>22</th>\n",
       "      <td>rina</td>\n",
       "    </tr>\n",
       "    <tr>\n",
       "      <th>23</th>\n",
       "      <td>shely</td>\n",
       "    </tr>\n",
       "    <tr>\n",
       "      <th>24</th>\n",
       "      <td>talya</td>\n",
       "    </tr>\n",
       "    <tr>\n",
       "      <th>25</th>\n",
       "      <td>tomer</td>\n",
       "    </tr>\n",
       "    <tr>\n",
       "      <th>26</th>\n",
       "      <td>udi</td>\n",
       "    </tr>\n",
       "    <tr>\n",
       "      <th>27</th>\n",
       "      <td>yafit</td>\n",
       "    </tr>\n",
       "    <tr>\n",
       "      <th>28</th>\n",
       "      <td>yoav</td>\n",
       "    </tr>\n",
       "    <tr>\n",
       "      <th>29</th>\n",
       "      <td>yosi</td>\n",
       "    </tr>\n",
       "  </tbody>\n",
       "</table>\n",
       "</div>"
      ],
      "text/plain": [
       "       Name\n",
       "0      adar\n",
       "1      agam\n",
       "2       avi\n",
       "3      dani\n",
       "4      dina\n",
       "5     efrat\n",
       "6      ehud\n",
       "7       eli\n",
       "8     ester\n",
       "9   evyatar\n",
       "10   itamar\n",
       "11     liel\n",
       "12   lilach\n",
       "13      mia\n",
       "14   michal\n",
       "15    moshe\n",
       "16     noya\n",
       "17     ofer\n",
       "18     ohad\n",
       "19     omer\n",
       "20     orit\n",
       "21     orit\n",
       "22     rina\n",
       "23    shely\n",
       "24    talya\n",
       "25    tomer\n",
       "26      udi\n",
       "27    yafit\n",
       "28     yoav\n",
       "29     yosi"
      ]
     },
     "execution_count": 15,
     "metadata": {},
     "output_type": "execute_result"
    }
   ],
   "source": [
    "pup[[\"Name\"]]"
   ]
  },
  {
   "cell_type": "code",
   "execution_count": 18,
   "id": "c4b6cfef",
   "metadata": {},
   "outputs": [
    {
     "data": {
      "text/plain": [
       "0      rad\n",
       "1      mag\n",
       "2       iv\n",
       "3      ina\n",
       "4      ani\n",
       "5     tarf\n",
       "6      duh\n",
       "7       il\n",
       "8     rets\n",
       "9     tayv\n",
       "10    amat\n",
       "11     lei\n",
       "12    cali\n",
       "13      ai\n",
       "14    ahci\n",
       "15    ehso\n",
       "16     ayo\n",
       "17     ref\n",
       "18     dah\n",
       "19     rem\n",
       "20     tir\n",
       "21     tir\n",
       "22     ani\n",
       "23    yleh\n",
       "24    ayla\n",
       "25    remo\n",
       "26      id\n",
       "27    tifa\n",
       "28     vao\n",
       "29     iso\n",
       "Name: Name, dtype: object"
      ]
     },
     "execution_count": 18,
     "metadata": {},
     "output_type": "execute_result"
    }
   ],
   "source": [
    "pup[\"Name\"].str.slice(4,0,-1)"
   ]
  },
  {
   "cell_type": "code",
   "execution_count": 21,
   "id": "e3b36e99",
   "metadata": {},
   "outputs": [
    {
     "data": {
      "text/html": [
       "<div>\n",
       "<style scoped>\n",
       "    .dataframe tbody tr th:only-of-type {\n",
       "        vertical-align: middle;\n",
       "    }\n",
       "\n",
       "    .dataframe tbody tr th {\n",
       "        vertical-align: top;\n",
       "    }\n",
       "\n",
       "    .dataframe thead th {\n",
       "        text-align: right;\n",
       "    }\n",
       "</style>\n",
       "<table border=\"1\" class=\"dataframe\">\n",
       "  <thead>\n",
       "    <tr style=\"text-align: right;\">\n",
       "      <th></th>\n",
       "      <th>Name</th>\n",
       "      <th>First_char</th>\n",
       "    </tr>\n",
       "  </thead>\n",
       "  <tbody>\n",
       "    <tr>\n",
       "      <th>0</th>\n",
       "      <td>adar</td>\n",
       "      <td>ad</td>\n",
       "    </tr>\n",
       "    <tr>\n",
       "      <th>1</th>\n",
       "      <td>agam</td>\n",
       "      <td>ag</td>\n",
       "    </tr>\n",
       "    <tr>\n",
       "      <th>2</th>\n",
       "      <td>avi</td>\n",
       "      <td>av</td>\n",
       "    </tr>\n",
       "    <tr>\n",
       "      <th>3</th>\n",
       "      <td>dani</td>\n",
       "      <td>da</td>\n",
       "    </tr>\n",
       "    <tr>\n",
       "      <th>4</th>\n",
       "      <td>dina</td>\n",
       "      <td>di</td>\n",
       "    </tr>\n",
       "  </tbody>\n",
       "</table>\n",
       "</div>"
      ],
      "text/plain": [
       "   Name First_char\n",
       "0  adar         ad\n",
       "1  agam         ag\n",
       "2   avi         av\n",
       "3  dani         da\n",
       "4  dina         di"
      ]
     },
     "execution_count": 21,
     "metadata": {},
     "output_type": "execute_result"
    }
   ],
   "source": [
    "pup[\"Name\"].to_frame().assign(First_char= pup[\"Name\"].str.slice(0,2)).head()"
   ]
  },
  {
   "cell_type": "code",
   "execution_count": 22,
   "id": "243503a1",
   "metadata": {},
   "outputs": [
    {
     "data": {
      "text/html": [
       "<div>\n",
       "<style scoped>\n",
       "    .dataframe tbody tr th:only-of-type {\n",
       "        vertical-align: middle;\n",
       "    }\n",
       "\n",
       "    .dataframe tbody tr th {\n",
       "        vertical-align: top;\n",
       "    }\n",
       "\n",
       "    .dataframe thead th {\n",
       "        text-align: right;\n",
       "    }\n",
       "</style>\n",
       "<table border=\"1\" class=\"dataframe\">\n",
       "  <thead>\n",
       "    <tr style=\"text-align: right;\">\n",
       "      <th></th>\n",
       "      <th>Name</th>\n",
       "      <th>First_char</th>\n",
       "    </tr>\n",
       "  </thead>\n",
       "  <tbody>\n",
       "    <tr>\n",
       "      <th>0</th>\n",
       "      <td>adar</td>\n",
       "      <td>ad</td>\n",
       "    </tr>\n",
       "    <tr>\n",
       "      <th>1</th>\n",
       "      <td>agam</td>\n",
       "      <td>ag</td>\n",
       "    </tr>\n",
       "    <tr>\n",
       "      <th>2</th>\n",
       "      <td>avi</td>\n",
       "      <td>av</td>\n",
       "    </tr>\n",
       "    <tr>\n",
       "      <th>3</th>\n",
       "      <td>dani</td>\n",
       "      <td>da</td>\n",
       "    </tr>\n",
       "    <tr>\n",
       "      <th>4</th>\n",
       "      <td>dina</td>\n",
       "      <td>di</td>\n",
       "    </tr>\n",
       "  </tbody>\n",
       "</table>\n",
       "</div>"
      ],
      "text/plain": [
       "   Name First_char\n",
       "0  adar         ad\n",
       "1  agam         ag\n",
       "2   avi         av\n",
       "3  dani         da\n",
       "4  dina         di"
      ]
     },
     "execution_count": 22,
     "metadata": {},
     "output_type": "execute_result"
    }
   ],
   "source": [
    "pup[\"Name\"].head().to_frame().assign(First_char= pup[\"Name\"].str.slice(0,2))"
   ]
  },
  {
   "cell_type": "code",
   "execution_count": 24,
   "id": "63e1b3a1",
   "metadata": {},
   "outputs": [
    {
     "data": {
      "text/plain": [
       "30"
      ]
     },
     "execution_count": 24,
     "metadata": {},
     "output_type": "execute_result"
    }
   ],
   "source": [
    "len(pup[\"Name\"])"
   ]
  },
  {
   "cell_type": "code",
   "execution_count": 27,
   "id": "267b756b",
   "metadata": {},
   "outputs": [
    {
     "name": "stdout",
     "output_type": "stream",
     "text": [
      "<class 'pandas.core.frame.DataFrame'>\n",
      "RangeIndex: 30 entries, 0 to 29\n",
      "Data columns (total 11 columns):\n",
      " #   Column   Non-Null Count  Dtype \n",
      "---  ------   --------------  ----- \n",
      " 0   Name     30 non-null     object\n",
      " 1   Age      30 non-null     int64 \n",
      " 2   Country  30 non-null     object\n",
      " 3   Height   30 non-null     int64 \n",
      " 4   Weight   30 non-null     int64 \n",
      " 5   avg      30 non-null     int64 \n",
      " 6   income   30 non-null     int64 \n",
      " 7   rooms    30 non-null     int64 \n",
      " 8   family   30 non-null     int64 \n",
      " 9   type     30 non-null     int64 \n",
      " 10  gen      30 non-null     object\n",
      "dtypes: int64(8), object(3)\n",
      "memory usage: 2.7+ KB\n"
     ]
    }
   ],
   "source": [
    "pup.info()"
   ]
  },
  {
   "cell_type": "code",
   "execution_count": 25,
   "id": "c40290ac",
   "metadata": {},
   "outputs": [
    {
     "data": {
      "text/plain": [
       "0    4\n",
       "1    4\n",
       "2    3\n",
       "3    4\n",
       "4    4\n",
       "Name: Name, dtype: int64"
      ]
     },
     "execution_count": 25,
     "metadata": {},
     "output_type": "execute_result"
    }
   ],
   "source": [
    "pup[\"Name\"].str.len().head()"
   ]
  },
  {
   "cell_type": "code",
   "execution_count": 26,
   "id": "40ba2675",
   "metadata": {},
   "outputs": [
    {
     "data": {
      "text/html": [
       "<div>\n",
       "<style scoped>\n",
       "    .dataframe tbody tr th:only-of-type {\n",
       "        vertical-align: middle;\n",
       "    }\n",
       "\n",
       "    .dataframe tbody tr th {\n",
       "        vertical-align: top;\n",
       "    }\n",
       "\n",
       "    .dataframe thead th {\n",
       "        text-align: right;\n",
       "    }\n",
       "</style>\n",
       "<table border=\"1\" class=\"dataframe\">\n",
       "  <thead>\n",
       "    <tr style=\"text-align: right;\">\n",
       "      <th></th>\n",
       "      <th>Name</th>\n",
       "      <th>len</th>\n",
       "    </tr>\n",
       "  </thead>\n",
       "  <tbody>\n",
       "    <tr>\n",
       "      <th>0</th>\n",
       "      <td>adar</td>\n",
       "      <td>4</td>\n",
       "    </tr>\n",
       "    <tr>\n",
       "      <th>1</th>\n",
       "      <td>agam</td>\n",
       "      <td>4</td>\n",
       "    </tr>\n",
       "    <tr>\n",
       "      <th>2</th>\n",
       "      <td>avi</td>\n",
       "      <td>3</td>\n",
       "    </tr>\n",
       "    <tr>\n",
       "      <th>3</th>\n",
       "      <td>dani</td>\n",
       "      <td>4</td>\n",
       "    </tr>\n",
       "    <tr>\n",
       "      <th>4</th>\n",
       "      <td>dina</td>\n",
       "      <td>4</td>\n",
       "    </tr>\n",
       "  </tbody>\n",
       "</table>\n",
       "</div>"
      ],
      "text/plain": [
       "   Name  len\n",
       "0  adar    4\n",
       "1  agam    4\n",
       "2   avi    3\n",
       "3  dani    4\n",
       "4  dina    4"
      ]
     },
     "execution_count": 26,
     "metadata": {},
     "output_type": "execute_result"
    }
   ],
   "source": [
    "pup[\"Name\"].to_frame().assign(len=pup[\"Name\"].str.len()).head()"
   ]
  },
  {
   "cell_type": "code",
   "execution_count": 28,
   "id": "aa7ff196",
   "metadata": {},
   "outputs": [],
   "source": [
    "s =pd.Series(['1.  Hello    ','2.  World!\\n ','3.  python.\\t' ])"
   ]
  },
  {
   "cell_type": "code",
   "execution_count": 29,
   "id": "f7e648dd",
   "metadata": {},
   "outputs": [
    {
     "data": {
      "text/plain": [
       "0    1.  Hello    \n",
       "1    2.  World!\\n \n",
       "2    3.  python.\\t\n",
       "dtype: object"
      ]
     },
     "execution_count": 29,
     "metadata": {},
     "output_type": "execute_result"
    }
   ],
   "source": [
    "s.head()"
   ]
  },
  {
   "cell_type": "code",
   "execution_count": null,
   "id": "516e4f5f",
   "metadata": {},
   "outputs": [],
   "source": [
    "# strip() like trim in SQL"
   ]
  },
  {
   "cell_type": "code",
   "execution_count": 30,
   "id": "904434fa",
   "metadata": {},
   "outputs": [
    {
     "data": {
      "text/plain": [
       "0      1.  Hello\n",
       "1     2.  World!\n",
       "2    3.  python.\n",
       "dtype: object"
      ]
     },
     "execution_count": 30,
     "metadata": {},
     "output_type": "execute_result"
    }
   ],
   "source": [
    "s.str.strip()"
   ]
  },
  {
   "cell_type": "code",
   "execution_count": 31,
   "id": "cb27c1a2",
   "metadata": {},
   "outputs": [
    {
     "data": {
      "text/plain": [
       "0    Hello    \n",
       "1    World!\\n \n",
       "2    python.\\t\n",
       "dtype: object"
      ]
     },
     "execution_count": 31,
     "metadata": {},
     "output_type": "execute_result"
    }
   ],
   "source": [
    "s.str.lstrip('123. ')"
   ]
  },
  {
   "cell_type": "code",
   "execution_count": 32,
   "id": "1619830b",
   "metadata": {},
   "outputs": [
    {
     "data": {
      "text/plain": [
       "0     1.  Hello\n",
       "1     2.  World\n",
       "2    3.  python\n",
       "dtype: object"
      ]
     },
     "execution_count": 32,
     "metadata": {},
     "output_type": "execute_result"
    }
   ],
   "source": [
    "s.str.rstrip('!.\\n\\t ')"
   ]
  },
  {
   "cell_type": "code",
   "execution_count": 33,
   "id": "6408d0a1",
   "metadata": {},
   "outputs": [
    {
     "data": {
      "text/plain": [
       "0     Hello\n",
       "1     World\n",
       "2    python\n",
       "dtype: object"
      ]
     },
     "execution_count": 33,
     "metadata": {},
     "output_type": "execute_result"
    }
   ],
   "source": [
    "s.str.strip('123!.\\n\\t ')"
   ]
  },
  {
   "cell_type": "code",
   "execution_count": 35,
   "id": "74dc6a56",
   "metadata": {},
   "outputs": [
    {
     "data": {
      "text/plain": [
       "0     v1-Hello-v2\n",
       "1     v1-World-v2\n",
       "2    v1-python-v2\n",
       "dtype: object"
      ]
     },
     "execution_count": 35,
     "metadata": {},
     "output_type": "execute_result"
    }
   ],
   "source": [
    "\"v1-\"+s.str.strip(\" 123!.\\n\\t\")+\"-v2\""
   ]
  },
  {
   "cell_type": "code",
   "execution_count": 36,
   "id": "fe035feb",
   "metadata": {},
   "outputs": [
    {
     "data": {
      "text/plain": [
       "0        adar\n",
       "1        agam\n",
       "2         avi\n",
       "3        dani\n",
       "4        dina\n",
       "5       efrat\n",
       "6        ehud\n",
       "7         eli\n",
       "8       ester\n",
       "9     evyatar\n",
       "10     itamar\n",
       "11       liel\n",
       "12     lilach\n",
       "13        mia\n",
       "14     michal\n",
       "15      moshe\n",
       "16       noya\n",
       "17       ofer\n",
       "18       ohad\n",
       "19       omer\n",
       "Name: Name, dtype: object"
      ]
     },
     "execution_count": 36,
     "metadata": {},
     "output_type": "execute_result"
    }
   ],
   "source": [
    "pup[\"Name\"].head(20)"
   ]
  },
  {
   "cell_type": "code",
   "execution_count": 38,
   "id": "0d23cd50",
   "metadata": {},
   "outputs": [
    {
     "data": {
      "text/plain": [
       "0        dar\n",
       "1        gam\n",
       "2         vi\n",
       "3       dani\n",
       "4        din\n",
       "5       frat\n",
       "6        hud\n",
       "7         li\n",
       "8       ster\n",
       "9     vyatar\n",
       "10    itamar\n",
       "11      liel\n",
       "12    lilach\n",
       "13        mi\n",
       "14    michal\n",
       "15      mosh\n",
       "16       noy\n",
       "17      ofer\n",
       "18      ohad\n",
       "19      omer\n",
       "Name: Name, dtype: object"
      ]
     },
     "execution_count": 38,
     "metadata": {},
     "output_type": "execute_result"
    }
   ],
   "source": [
    "pup[\"Name\"].str.strip('ae').head(20)"
   ]
  },
  {
   "cell_type": "code",
   "execution_count": null,
   "id": "6fd1e9ff",
   "metadata": {},
   "outputs": [],
   "source": [
    "#replace"
   ]
  },
  {
   "cell_type": "code",
   "execution_count": 39,
   "id": "0f78dd95",
   "metadata": {},
   "outputs": [
    {
     "data": {
      "text/plain": [
       "0    _d_r\n",
       "1    _g_m\n",
       "2     _vi\n",
       "3    d_ni\n",
       "4    din_\n",
       "Name: Name, dtype: object"
      ]
     },
     "execution_count": 39,
     "metadata": {},
     "output_type": "execute_result"
    }
   ],
   "source": [
    "pup[\"Name\"].str.replace('a','_').head()"
   ]
  },
  {
   "cell_type": "code",
   "execution_count": null,
   "id": "491bc6f2",
   "metadata": {},
   "outputs": [],
   "source": [
    "#upper() , lower() , title()"
   ]
  },
  {
   "cell_type": "code",
   "execution_count": 40,
   "id": "839e04af",
   "metadata": {},
   "outputs": [
    {
     "data": {
      "text/plain": [
       "0    ADAR\n",
       "1    AGAM\n",
       "2     AVI\n",
       "3    DANI\n",
       "4    DINA\n",
       "Name: Name, dtype: object"
      ]
     },
     "execution_count": 40,
     "metadata": {},
     "output_type": "execute_result"
    }
   ],
   "source": [
    "pup[\"Name\"].str.upper().head()"
   ]
  },
  {
   "cell_type": "code",
   "execution_count": 41,
   "id": "06a7d933",
   "metadata": {},
   "outputs": [
    {
     "data": {
      "text/plain": [
       "0    adar\n",
       "1    agam\n",
       "2     avi\n",
       "3    dani\n",
       "4    dina\n",
       "Name: Name, dtype: object"
      ]
     },
     "execution_count": 41,
     "metadata": {},
     "output_type": "execute_result"
    }
   ],
   "source": [
    "pup[\"Name\"].str.lower().head()"
   ]
  },
  {
   "cell_type": "code",
   "execution_count": 42,
   "id": "7cb916b6",
   "metadata": {},
   "outputs": [
    {
     "data": {
      "text/plain": [
       "0    Adar\n",
       "1    Agam\n",
       "2     Avi\n",
       "3    Dani\n",
       "4    Dina\n",
       "Name: Name, dtype: object"
      ]
     },
     "execution_count": 42,
     "metadata": {},
     "output_type": "execute_result"
    }
   ],
   "source": [
    "pup[\"Name\"].str.title().head()"
   ]
  },
  {
   "cell_type": "code",
   "execution_count": 43,
   "id": "45d72a78",
   "metadata": {},
   "outputs": [
    {
     "data": {
      "text/html": [
       "<div>\n",
       "<style scoped>\n",
       "    .dataframe tbody tr th:only-of-type {\n",
       "        vertical-align: middle;\n",
       "    }\n",
       "\n",
       "    .dataframe tbody tr th {\n",
       "        vertical-align: top;\n",
       "    }\n",
       "\n",
       "    .dataframe thead th {\n",
       "        text-align: right;\n",
       "    }\n",
       "</style>\n",
       "<table border=\"1\" class=\"dataframe\">\n",
       "  <thead>\n",
       "    <tr style=\"text-align: right;\">\n",
       "      <th></th>\n",
       "      <th>Name</th>\n",
       "      <th>initcap</th>\n",
       "    </tr>\n",
       "  </thead>\n",
       "  <tbody>\n",
       "    <tr>\n",
       "      <th>0</th>\n",
       "      <td>adar</td>\n",
       "      <td>Adar</td>\n",
       "    </tr>\n",
       "    <tr>\n",
       "      <th>1</th>\n",
       "      <td>agam</td>\n",
       "      <td>Agam</td>\n",
       "    </tr>\n",
       "    <tr>\n",
       "      <th>2</th>\n",
       "      <td>avi</td>\n",
       "      <td>Avi</td>\n",
       "    </tr>\n",
       "    <tr>\n",
       "      <th>3</th>\n",
       "      <td>dani</td>\n",
       "      <td>Dani</td>\n",
       "    </tr>\n",
       "    <tr>\n",
       "      <th>4</th>\n",
       "      <td>dina</td>\n",
       "      <td>Dina</td>\n",
       "    </tr>\n",
       "  </tbody>\n",
       "</table>\n",
       "</div>"
      ],
      "text/plain": [
       "   Name initcap\n",
       "0  adar    Adar\n",
       "1  agam    Agam\n",
       "2   avi     Avi\n",
       "3  dani    Dani\n",
       "4  dina    Dina"
      ]
     },
     "execution_count": 43,
     "metadata": {},
     "output_type": "execute_result"
    }
   ],
   "source": [
    "pup[\"Name\"].to_frame().assign(initcap=pup[\"Name\"].str.title()).head()"
   ]
  },
  {
   "cell_type": "code",
   "execution_count": null,
   "id": "445a4c30",
   "metadata": {},
   "outputs": [],
   "source": [
    "#UPPER(COLUMN)='VALUE'  --- SQL"
   ]
  },
  {
   "cell_type": "code",
   "execution_count": 47,
   "id": "52432e44",
   "metadata": {},
   "outputs": [],
   "source": [
    "mask = pup[\"Name\"].str.upper()=='AGAM'"
   ]
  },
  {
   "cell_type": "code",
   "execution_count": 48,
   "id": "7b16fe1b",
   "metadata": {},
   "outputs": [
    {
     "data": {
      "text/html": [
       "<div>\n",
       "<style scoped>\n",
       "    .dataframe tbody tr th:only-of-type {\n",
       "        vertical-align: middle;\n",
       "    }\n",
       "\n",
       "    .dataframe tbody tr th {\n",
       "        vertical-align: top;\n",
       "    }\n",
       "\n",
       "    .dataframe thead th {\n",
       "        text-align: right;\n",
       "    }\n",
       "</style>\n",
       "<table border=\"1\" class=\"dataframe\">\n",
       "  <thead>\n",
       "    <tr style=\"text-align: right;\">\n",
       "      <th></th>\n",
       "      <th>Name</th>\n",
       "      <th>Age</th>\n",
       "      <th>Country</th>\n",
       "      <th>Height</th>\n",
       "      <th>Weight</th>\n",
       "      <th>avg</th>\n",
       "      <th>income</th>\n",
       "      <th>rooms</th>\n",
       "      <th>family</th>\n",
       "      <th>type</th>\n",
       "      <th>gen</th>\n",
       "    </tr>\n",
       "  </thead>\n",
       "  <tbody>\n",
       "    <tr>\n",
       "      <th>1</th>\n",
       "      <td>agam</td>\n",
       "      <td>6</td>\n",
       "      <td>GR</td>\n",
       "      <td>172</td>\n",
       "      <td>71</td>\n",
       "      <td>92</td>\n",
       "      <td>9200</td>\n",
       "      <td>5</td>\n",
       "      <td>4</td>\n",
       "      <td>2</td>\n",
       "      <td>F</td>\n",
       "    </tr>\n",
       "  </tbody>\n",
       "</table>\n",
       "</div>"
      ],
      "text/plain": [
       "   Name  Age Country  Height  Weight  avg  income  rooms  family  type gen\n",
       "1  agam    6      GR     172      71   92    9200      5       4     2   F"
      ]
     },
     "execution_count": 48,
     "metadata": {},
     "output_type": "execute_result"
    }
   ],
   "source": [
    "pup[mask]"
   ]
  },
  {
   "cell_type": "code",
   "execution_count": 49,
   "id": "7bc13b64",
   "metadata": {},
   "outputs": [],
   "source": [
    "s =pd.Series(['Hello World', \"Hi Python\"])"
   ]
  },
  {
   "cell_type": "code",
   "execution_count": 50,
   "id": "67cf4b3b",
   "metadata": {},
   "outputs": [
    {
     "data": {
      "text/plain": [
       "0    Hello World\n",
       "1      Hi Python\n",
       "dtype: object"
      ]
     },
     "execution_count": 50,
     "metadata": {},
     "output_type": "execute_result"
    }
   ],
   "source": [
    "s"
   ]
  },
  {
   "cell_type": "code",
   "execution_count": 51,
   "id": "3c812349",
   "metadata": {},
   "outputs": [
    {
     "data": {
      "text/plain": [
       "0    [Hello, World]\n",
       "1      [Hi, Python]\n",
       "dtype: object"
      ]
     },
     "execution_count": 51,
     "metadata": {},
     "output_type": "execute_result"
    }
   ],
   "source": [
    "s.str.split()"
   ]
  },
  {
   "cell_type": "code",
   "execution_count": 52,
   "id": "1308cf66",
   "metadata": {},
   "outputs": [
    {
     "data": {
      "text/plain": [
       "0    [Hello, World]\n",
       "1      [Hi, Python]\n",
       "dtype: object"
      ]
     },
     "execution_count": 52,
     "metadata": {},
     "output_type": "execute_result"
    }
   ],
   "source": [
    "s.str.split(' ')"
   ]
  },
  {
   "cell_type": "code",
   "execution_count": 53,
   "id": "f7b0f881",
   "metadata": {},
   "outputs": [
    {
     "data": {
      "text/plain": [
       "0    Hello\n",
       "1       Hi\n",
       "dtype: object"
      ]
     },
     "execution_count": 53,
     "metadata": {},
     "output_type": "execute_result"
    }
   ],
   "source": [
    "s.str.split(' ').str[0]"
   ]
  },
  {
   "cell_type": "code",
   "execution_count": 54,
   "id": "42998236",
   "metadata": {},
   "outputs": [
    {
     "data": {
      "text/plain": [
       "0     World\n",
       "1    Python\n",
       "dtype: object"
      ]
     },
     "execution_count": 54,
     "metadata": {},
     "output_type": "execute_result"
    }
   ],
   "source": [
    "s.str.split(' ').str[-1]"
   ]
  },
  {
   "cell_type": "code",
   "execution_count": 55,
   "id": "ba23a75e",
   "metadata": {},
   "outputs": [
    {
     "data": {
      "text/html": [
       "<div>\n",
       "<style scoped>\n",
       "    .dataframe tbody tr th:only-of-type {\n",
       "        vertical-align: middle;\n",
       "    }\n",
       "\n",
       "    .dataframe tbody tr th {\n",
       "        vertical-align: top;\n",
       "    }\n",
       "\n",
       "    .dataframe thead th {\n",
       "        text-align: right;\n",
       "    }\n",
       "</style>\n",
       "<table border=\"1\" class=\"dataframe\">\n",
       "  <thead>\n",
       "    <tr style=\"text-align: right;\">\n",
       "      <th></th>\n",
       "      <th>0</th>\n",
       "      <th>a</th>\n",
       "      <th>b</th>\n",
       "    </tr>\n",
       "  </thead>\n",
       "  <tbody>\n",
       "    <tr>\n",
       "      <th>0</th>\n",
       "      <td>Hello World</td>\n",
       "      <td>Hello</td>\n",
       "      <td>World</td>\n",
       "    </tr>\n",
       "    <tr>\n",
       "      <th>1</th>\n",
       "      <td>Hi Python</td>\n",
       "      <td>Hi</td>\n",
       "      <td>Python</td>\n",
       "    </tr>\n",
       "  </tbody>\n",
       "</table>\n",
       "</div>"
      ],
      "text/plain": [
       "             0      a       b\n",
       "0  Hello World  Hello   World\n",
       "1    Hi Python     Hi  Python"
      ]
     },
     "execution_count": 55,
     "metadata": {},
     "output_type": "execute_result"
    }
   ],
   "source": [
    "s.to_frame().assign(a =s.str.split(' ').str[0],\n",
    "                    b=s.str.split(' ').str[-1])"
   ]
  },
  {
   "cell_type": "code",
   "execution_count": 56,
   "id": "a2dbcf2c",
   "metadata": {},
   "outputs": [],
   "source": [
    "s =pd.Series(['050-5878878', \"03-654467\"])"
   ]
  },
  {
   "cell_type": "code",
   "execution_count": 57,
   "id": "f6898a5c",
   "metadata": {},
   "outputs": [
    {
     "data": {
      "text/plain": [
       "0    050-5878878\n",
       "1      03-654467\n",
       "dtype: object"
      ]
     },
     "execution_count": 57,
     "metadata": {},
     "output_type": "execute_result"
    }
   ],
   "source": [
    "s"
   ]
  },
  {
   "cell_type": "code",
   "execution_count": 58,
   "id": "df356c23",
   "metadata": {},
   "outputs": [
    {
     "data": {
      "text/plain": [
       "0    [050, 5878878]\n",
       "1      [03, 654467]\n",
       "dtype: object"
      ]
     },
     "execution_count": 58,
     "metadata": {},
     "output_type": "execute_result"
    }
   ],
   "source": [
    "s.str.split('-')"
   ]
  },
  {
   "cell_type": "code",
   "execution_count": 59,
   "id": "380bf195",
   "metadata": {},
   "outputs": [
    {
     "data": {
      "text/html": [
       "<div>\n",
       "<style scoped>\n",
       "    .dataframe tbody tr th:only-of-type {\n",
       "        vertical-align: middle;\n",
       "    }\n",
       "\n",
       "    .dataframe tbody tr th {\n",
       "        vertical-align: top;\n",
       "    }\n",
       "\n",
       "    .dataframe thead th {\n",
       "        text-align: right;\n",
       "    }\n",
       "</style>\n",
       "<table border=\"1\" class=\"dataframe\">\n",
       "  <thead>\n",
       "    <tr style=\"text-align: right;\">\n",
       "      <th></th>\n",
       "      <th>0</th>\n",
       "      <th>a</th>\n",
       "      <th>b</th>\n",
       "    </tr>\n",
       "  </thead>\n",
       "  <tbody>\n",
       "    <tr>\n",
       "      <th>0</th>\n",
       "      <td>050-5878878</td>\n",
       "      <td>050</td>\n",
       "      <td>5878878</td>\n",
       "    </tr>\n",
       "    <tr>\n",
       "      <th>1</th>\n",
       "      <td>03-654467</td>\n",
       "      <td>03</td>\n",
       "      <td>654467</td>\n",
       "    </tr>\n",
       "  </tbody>\n",
       "</table>\n",
       "</div>"
      ],
      "text/plain": [
       "             0    a        b\n",
       "0  050-5878878  050  5878878\n",
       "1    03-654467   03   654467"
      ]
     },
     "execution_count": 59,
     "metadata": {},
     "output_type": "execute_result"
    }
   ],
   "source": [
    "s.to_frame().assign(a =s.str.split('-').str[0],\n",
    "                    b=s.str.split('-').str[-1])"
   ]
  },
  {
   "cell_type": "code",
   "execution_count": 60,
   "id": "4648617e",
   "metadata": {},
   "outputs": [
    {
     "data": {
      "text/html": [
       "<div>\n",
       "<style scoped>\n",
       "    .dataframe tbody tr th:only-of-type {\n",
       "        vertical-align: middle;\n",
       "    }\n",
       "\n",
       "    .dataframe tbody tr th {\n",
       "        vertical-align: top;\n",
       "    }\n",
       "\n",
       "    .dataframe thead th {\n",
       "        text-align: right;\n",
       "    }\n",
       "</style>\n",
       "<table border=\"1\" class=\"dataframe\">\n",
       "  <thead>\n",
       "    <tr style=\"text-align: right;\">\n",
       "      <th></th>\n",
       "      <th>Name</th>\n",
       "      <th>Age</th>\n",
       "      <th>Country</th>\n",
       "      <th>Height</th>\n",
       "      <th>Weight</th>\n",
       "      <th>avg</th>\n",
       "      <th>income</th>\n",
       "      <th>rooms</th>\n",
       "      <th>family</th>\n",
       "      <th>type</th>\n",
       "      <th>gen</th>\n",
       "    </tr>\n",
       "  </thead>\n",
       "  <tbody>\n",
       "    <tr>\n",
       "      <th>0</th>\n",
       "      <td>adar</td>\n",
       "      <td>6</td>\n",
       "      <td>SP</td>\n",
       "      <td>113</td>\n",
       "      <td>30</td>\n",
       "      <td>70</td>\n",
       "      <td>16700</td>\n",
       "      <td>7</td>\n",
       "      <td>6</td>\n",
       "      <td>1</td>\n",
       "      <td>M</td>\n",
       "    </tr>\n",
       "    <tr>\n",
       "      <th>1</th>\n",
       "      <td>agam</td>\n",
       "      <td>6</td>\n",
       "      <td>GR</td>\n",
       "      <td>172</td>\n",
       "      <td>71</td>\n",
       "      <td>92</td>\n",
       "      <td>9200</td>\n",
       "      <td>5</td>\n",
       "      <td>4</td>\n",
       "      <td>2</td>\n",
       "      <td>F</td>\n",
       "    </tr>\n",
       "    <tr>\n",
       "      <th>2</th>\n",
       "      <td>avi</td>\n",
       "      <td>7</td>\n",
       "      <td>ISR</td>\n",
       "      <td>143</td>\n",
       "      <td>58</td>\n",
       "      <td>82</td>\n",
       "      <td>12000</td>\n",
       "      <td>3</td>\n",
       "      <td>7</td>\n",
       "      <td>1</td>\n",
       "      <td>M</td>\n",
       "    </tr>\n",
       "    <tr>\n",
       "      <th>3</th>\n",
       "      <td>dani</td>\n",
       "      <td>7</td>\n",
       "      <td>US</td>\n",
       "      <td>160</td>\n",
       "      <td>70</td>\n",
       "      <td>90</td>\n",
       "      <td>15000</td>\n",
       "      <td>4</td>\n",
       "      <td>4</td>\n",
       "      <td>2</td>\n",
       "      <td>M</td>\n",
       "    </tr>\n",
       "    <tr>\n",
       "      <th>4</th>\n",
       "      <td>dina</td>\n",
       "      <td>7</td>\n",
       "      <td>ISR</td>\n",
       "      <td>110</td>\n",
       "      <td>26</td>\n",
       "      <td>64</td>\n",
       "      <td>10000</td>\n",
       "      <td>6</td>\n",
       "      <td>8</td>\n",
       "      <td>1</td>\n",
       "      <td>F</td>\n",
       "    </tr>\n",
       "  </tbody>\n",
       "</table>\n",
       "</div>"
      ],
      "text/plain": [
       "   Name  Age Country  Height  Weight  avg  income  rooms  family  type gen\n",
       "0  adar    6      SP     113      30   70   16700      7       6     1   M\n",
       "1  agam    6      GR     172      71   92    9200      5       4     2   F\n",
       "2   avi    7     ISR     143      58   82   12000      3       7     1   M\n",
       "3  dani    7      US     160      70   90   15000      4       4     2   M\n",
       "4  dina    7     ISR     110      26   64   10000      6       8     1   F"
      ]
     },
     "execution_count": 60,
     "metadata": {},
     "output_type": "execute_result"
    }
   ],
   "source": [
    "pup.head()"
   ]
  },
  {
   "cell_type": "code",
   "execution_count": 61,
   "id": "a9ee3721",
   "metadata": {},
   "outputs": [
    {
     "data": {
      "text/html": [
       "<div>\n",
       "<style scoped>\n",
       "    .dataframe tbody tr th:only-of-type {\n",
       "        vertical-align: middle;\n",
       "    }\n",
       "\n",
       "    .dataframe tbody tr th {\n",
       "        vertical-align: top;\n",
       "    }\n",
       "\n",
       "    .dataframe thead th {\n",
       "        text-align: right;\n",
       "    }\n",
       "</style>\n",
       "<table border=\"1\" class=\"dataframe\">\n",
       "  <thead>\n",
       "    <tr style=\"text-align: right;\">\n",
       "      <th></th>\n",
       "      <th>ProductID</th>\n",
       "      <th>ProductName</th>\n",
       "      <th>UnitPrice</th>\n",
       "      <th>CategoryID</th>\n",
       "      <th>Date</th>\n",
       "      <th>Date1</th>\n",
       "    </tr>\n",
       "  </thead>\n",
       "  <tbody>\n",
       "    <tr>\n",
       "      <th>0</th>\n",
       "      <td>1</td>\n",
       "      <td>Chai</td>\n",
       "      <td>18.00</td>\n",
       "      <td>1</td>\n",
       "      <td>22/11/2024</td>\n",
       "      <td>5/31/2023</td>\n",
       "    </tr>\n",
       "    <tr>\n",
       "      <th>1</th>\n",
       "      <td>2</td>\n",
       "      <td>Chang</td>\n",
       "      <td>19.00</td>\n",
       "      <td>1</td>\n",
       "      <td>23/11/2024</td>\n",
       "      <td>6/1/2023</td>\n",
       "    </tr>\n",
       "    <tr>\n",
       "      <th>2</th>\n",
       "      <td>3</td>\n",
       "      <td>Aniseed Syrup</td>\n",
       "      <td>10.00</td>\n",
       "      <td>2</td>\n",
       "      <td>24/11/2024</td>\n",
       "      <td>6/2/2023</td>\n",
       "    </tr>\n",
       "    <tr>\n",
       "      <th>3</th>\n",
       "      <td>4</td>\n",
       "      <td>Chef Anton's Cajun Seasoning</td>\n",
       "      <td>22.00</td>\n",
       "      <td>2</td>\n",
       "      <td>25/11/2024</td>\n",
       "      <td>6/3/2023</td>\n",
       "    </tr>\n",
       "    <tr>\n",
       "      <th>4</th>\n",
       "      <td>5</td>\n",
       "      <td>Chef Anton's Gumbo Mix</td>\n",
       "      <td>21.35</td>\n",
       "      <td>2</td>\n",
       "      <td>26/11/2024</td>\n",
       "      <td>6/4/2023</td>\n",
       "    </tr>\n",
       "  </tbody>\n",
       "</table>\n",
       "</div>"
      ],
      "text/plain": [
       "   ProductID                   ProductName  UnitPrice  CategoryID        Date   \n",
       "0          1                          Chai      18.00           1  22/11/2024  \\\n",
       "1          2                         Chang      19.00           1  23/11/2024   \n",
       "2          3                 Aniseed Syrup      10.00           2  24/11/2024   \n",
       "3          4  Chef Anton's Cajun Seasoning      22.00           2  25/11/2024   \n",
       "4          5        Chef Anton's Gumbo Mix      21.35           2  26/11/2024   \n",
       "\n",
       "       Date1  \n",
       "0  5/31/2023  \n",
       "1   6/1/2023  \n",
       "2   6/2/2023  \n",
       "3   6/3/2023  \n",
       "4   6/4/2023  "
      ]
     },
     "execution_count": 61,
     "metadata": {},
     "output_type": "execute_result"
    }
   ],
   "source": [
    "products.head()"
   ]
  },
  {
   "cell_type": "code",
   "execution_count": 62,
   "id": "ded6c81d",
   "metadata": {},
   "outputs": [
    {
     "data": {
      "text/plain": [
       "0                                   [Chai]\n",
       "1                                  [Chang]\n",
       "2                         [Aniseed, Syrup]\n",
       "3        [Chef, Anton's, Cajun, Seasoning]\n",
       "4              [Chef, Anton's, Gumbo, Mix]\n",
       "                      ...                 \n",
       "72                           [Rad, Kaviar]\n",
       "73                        [Longlife, Tofu]\n",
       "74                 [Rhanbrau, Klosterbier]\n",
       "75                          [Lakkalikaari]\n",
       "76    [Original, Frankfurter, grane, Soae]\n",
       "Name: ProductName, Length: 77, dtype: object"
      ]
     },
     "execution_count": 62,
     "metadata": {},
     "output_type": "execute_result"
    }
   ],
   "source": [
    "products[\"ProductName\"].str.split()"
   ]
  },
  {
   "cell_type": "code",
   "execution_count": 65,
   "id": "b1e72f47",
   "metadata": {},
   "outputs": [
    {
     "data": {
      "text/html": [
       "<div>\n",
       "<style scoped>\n",
       "    .dataframe tbody tr th:only-of-type {\n",
       "        vertical-align: middle;\n",
       "    }\n",
       "\n",
       "    .dataframe tbody tr th {\n",
       "        vertical-align: top;\n",
       "    }\n",
       "\n",
       "    .dataframe thead th {\n",
       "        text-align: right;\n",
       "    }\n",
       "</style>\n",
       "<table border=\"1\" class=\"dataframe\">\n",
       "  <thead>\n",
       "    <tr style=\"text-align: right;\">\n",
       "      <th></th>\n",
       "      <th>0</th>\n",
       "      <th>1</th>\n",
       "      <th>2</th>\n",
       "      <th>3</th>\n",
       "      <th>4</th>\n",
       "    </tr>\n",
       "  </thead>\n",
       "  <tbody>\n",
       "    <tr>\n",
       "      <th>0</th>\n",
       "      <td>Chai</td>\n",
       "      <td>None</td>\n",
       "      <td>None</td>\n",
       "      <td>None</td>\n",
       "      <td>None</td>\n",
       "    </tr>\n",
       "    <tr>\n",
       "      <th>1</th>\n",
       "      <td>Chang</td>\n",
       "      <td>None</td>\n",
       "      <td>None</td>\n",
       "      <td>None</td>\n",
       "      <td>None</td>\n",
       "    </tr>\n",
       "    <tr>\n",
       "      <th>2</th>\n",
       "      <td>Aniseed</td>\n",
       "      <td>Syrup</td>\n",
       "      <td>None</td>\n",
       "      <td>None</td>\n",
       "      <td>None</td>\n",
       "    </tr>\n",
       "    <tr>\n",
       "      <th>3</th>\n",
       "      <td>Chef</td>\n",
       "      <td>Anton's</td>\n",
       "      <td>Cajun</td>\n",
       "      <td>Seasoning</td>\n",
       "      <td>None</td>\n",
       "    </tr>\n",
       "    <tr>\n",
       "      <th>4</th>\n",
       "      <td>Chef</td>\n",
       "      <td>Anton's</td>\n",
       "      <td>Gumbo</td>\n",
       "      <td>Mix</td>\n",
       "      <td>None</td>\n",
       "    </tr>\n",
       "    <tr>\n",
       "      <th>...</th>\n",
       "      <td>...</td>\n",
       "      <td>...</td>\n",
       "      <td>...</td>\n",
       "      <td>...</td>\n",
       "      <td>...</td>\n",
       "    </tr>\n",
       "    <tr>\n",
       "      <th>72</th>\n",
       "      <td>Rad</td>\n",
       "      <td>Kaviar</td>\n",
       "      <td>None</td>\n",
       "      <td>None</td>\n",
       "      <td>None</td>\n",
       "    </tr>\n",
       "    <tr>\n",
       "      <th>73</th>\n",
       "      <td>Longlife</td>\n",
       "      <td>Tofu</td>\n",
       "      <td>None</td>\n",
       "      <td>None</td>\n",
       "      <td>None</td>\n",
       "    </tr>\n",
       "    <tr>\n",
       "      <th>74</th>\n",
       "      <td>Rhanbrau</td>\n",
       "      <td>Klosterbier</td>\n",
       "      <td>None</td>\n",
       "      <td>None</td>\n",
       "      <td>None</td>\n",
       "    </tr>\n",
       "    <tr>\n",
       "      <th>75</th>\n",
       "      <td>Lakkalikaari</td>\n",
       "      <td>None</td>\n",
       "      <td>None</td>\n",
       "      <td>None</td>\n",
       "      <td>None</td>\n",
       "    </tr>\n",
       "    <tr>\n",
       "      <th>76</th>\n",
       "      <td>Original</td>\n",
       "      <td>Frankfurter</td>\n",
       "      <td>grane</td>\n",
       "      <td>Soae</td>\n",
       "      <td>None</td>\n",
       "    </tr>\n",
       "  </tbody>\n",
       "</table>\n",
       "<p>77 rows × 5 columns</p>\n",
       "</div>"
      ],
      "text/plain": [
       "               0            1      2          3     4\n",
       "0           Chai         None   None       None  None\n",
       "1          Chang         None   None       None  None\n",
       "2        Aniseed        Syrup   None       None  None\n",
       "3           Chef      Anton's  Cajun  Seasoning  None\n",
       "4           Chef      Anton's  Gumbo        Mix  None\n",
       "..           ...          ...    ...        ...   ...\n",
       "72           Rad       Kaviar   None       None  None\n",
       "73      Longlife         Tofu   None       None  None\n",
       "74      Rhanbrau  Klosterbier   None       None  None\n",
       "75  Lakkalikaari         None   None       None  None\n",
       "76      Original  Frankfurter  grane       Soae  None\n",
       "\n",
       "[77 rows x 5 columns]"
      ]
     },
     "execution_count": 65,
     "metadata": {},
     "output_type": "execute_result"
    }
   ],
   "source": [
    "products[\"ProductName\"].str.split(expand=True)"
   ]
  },
  {
   "cell_type": "code",
   "execution_count": 64,
   "id": "ee5c22ef",
   "metadata": {},
   "outputs": [
    {
     "data": {
      "text/html": [
       "<div>\n",
       "<style scoped>\n",
       "    .dataframe tbody tr th:only-of-type {\n",
       "        vertical-align: middle;\n",
       "    }\n",
       "\n",
       "    .dataframe tbody tr th {\n",
       "        vertical-align: top;\n",
       "    }\n",
       "\n",
       "    .dataframe thead th {\n",
       "        text-align: right;\n",
       "    }\n",
       "</style>\n",
       "<table border=\"1\" class=\"dataframe\">\n",
       "  <thead>\n",
       "    <tr style=\"text-align: right;\">\n",
       "      <th></th>\n",
       "      <th>0</th>\n",
       "      <th>1</th>\n",
       "      <th>2</th>\n",
       "      <th>3</th>\n",
       "      <th>4</th>\n",
       "    </tr>\n",
       "  </thead>\n",
       "  <tbody>\n",
       "    <tr>\n",
       "      <th>0</th>\n",
       "      <td>Chai</td>\n",
       "      <td>None</td>\n",
       "      <td>None</td>\n",
       "      <td>None</td>\n",
       "      <td>None</td>\n",
       "    </tr>\n",
       "    <tr>\n",
       "      <th>1</th>\n",
       "      <td>Chang</td>\n",
       "      <td>None</td>\n",
       "      <td>None</td>\n",
       "      <td>None</td>\n",
       "      <td>None</td>\n",
       "    </tr>\n",
       "    <tr>\n",
       "      <th>2</th>\n",
       "      <td>Aniseed</td>\n",
       "      <td>Syrup</td>\n",
       "      <td>None</td>\n",
       "      <td>None</td>\n",
       "      <td>None</td>\n",
       "    </tr>\n",
       "    <tr>\n",
       "      <th>3</th>\n",
       "      <td>Chef</td>\n",
       "      <td>Anton's</td>\n",
       "      <td>Cajun</td>\n",
       "      <td>Seasoning</td>\n",
       "      <td>None</td>\n",
       "    </tr>\n",
       "    <tr>\n",
       "      <th>4</th>\n",
       "      <td>Chef</td>\n",
       "      <td>Anton's</td>\n",
       "      <td>Gumbo</td>\n",
       "      <td>Mix</td>\n",
       "      <td>None</td>\n",
       "    </tr>\n",
       "    <tr>\n",
       "      <th>...</th>\n",
       "      <td>...</td>\n",
       "      <td>...</td>\n",
       "      <td>...</td>\n",
       "      <td>...</td>\n",
       "      <td>...</td>\n",
       "    </tr>\n",
       "    <tr>\n",
       "      <th>72</th>\n",
       "      <td>Rad</td>\n",
       "      <td>Kaviar</td>\n",
       "      <td>None</td>\n",
       "      <td>None</td>\n",
       "      <td>None</td>\n",
       "    </tr>\n",
       "    <tr>\n",
       "      <th>73</th>\n",
       "      <td>Longlife</td>\n",
       "      <td>Tofu</td>\n",
       "      <td>None</td>\n",
       "      <td>None</td>\n",
       "      <td>None</td>\n",
       "    </tr>\n",
       "    <tr>\n",
       "      <th>74</th>\n",
       "      <td>Rhanbrau</td>\n",
       "      <td>Klosterbier</td>\n",
       "      <td>None</td>\n",
       "      <td>None</td>\n",
       "      <td>None</td>\n",
       "    </tr>\n",
       "    <tr>\n",
       "      <th>75</th>\n",
       "      <td>Lakkalikaari</td>\n",
       "      <td>None</td>\n",
       "      <td>None</td>\n",
       "      <td>None</td>\n",
       "      <td>None</td>\n",
       "    </tr>\n",
       "    <tr>\n",
       "      <th>76</th>\n",
       "      <td>Original</td>\n",
       "      <td>Frankfurter</td>\n",
       "      <td>grane</td>\n",
       "      <td>Soae</td>\n",
       "      <td>None</td>\n",
       "    </tr>\n",
       "  </tbody>\n",
       "</table>\n",
       "<p>77 rows × 5 columns</p>\n",
       "</div>"
      ],
      "text/plain": [
       "               0            1      2          3     4\n",
       "0           Chai         None   None       None  None\n",
       "1          Chang         None   None       None  None\n",
       "2        Aniseed        Syrup   None       None  None\n",
       "3           Chef      Anton's  Cajun  Seasoning  None\n",
       "4           Chef      Anton's  Gumbo        Mix  None\n",
       "..           ...          ...    ...        ...   ...\n",
       "72           Rad       Kaviar   None       None  None\n",
       "73      Longlife         Tofu   None       None  None\n",
       "74      Rhanbrau  Klosterbier   None       None  None\n",
       "75  Lakkalikaari         None   None       None  None\n",
       "76      Original  Frankfurter  grane       Soae  None\n",
       "\n",
       "[77 rows x 5 columns]"
      ]
     },
     "execution_count": 64,
     "metadata": {},
     "output_type": "execute_result"
    }
   ],
   "source": [
    "products[\"ProductName\"].str.split(' ',expand=True)"
   ]
  },
  {
   "cell_type": "code",
   "execution_count": 71,
   "id": "d4066a8c",
   "metadata": {},
   "outputs": [
    {
     "data": {
      "text/plain": [
       "0             Chai\n",
       "1            Chang\n",
       "2          Aniseed\n",
       "3             Chef\n",
       "4             Chef\n",
       "          ...     \n",
       "72             Rad\n",
       "73        Longlife\n",
       "74        Rhanbrau\n",
       "75    Lakkalikaari\n",
       "76        Original\n",
       "Name: 0, Length: 77, dtype: object"
      ]
     },
     "execution_count": 71,
     "metadata": {},
     "output_type": "execute_result"
    }
   ],
   "source": [
    "products[\"ProductName\"].str.split(expand=True)[0]"
   ]
  },
  {
   "cell_type": "code",
   "execution_count": 7,
   "id": "64d5baa6",
   "metadata": {},
   "outputs": [
    {
     "data": {
      "text/plain": [
       "0            None\n",
       "1            None\n",
       "2           Syrup\n",
       "3         Anton's\n",
       "4         Anton's\n",
       "         ...     \n",
       "72         Kaviar\n",
       "73           Tofu\n",
       "74    Klosterbier\n",
       "75           None\n",
       "76    Frankfurter\n",
       "Name: 1, Length: 77, dtype: object"
      ]
     },
     "execution_count": 7,
     "metadata": {},
     "output_type": "execute_result"
    }
   ],
   "source": [
    "products[\"ProductName\"].str.split(expand=True)[1]"
   ]
  },
  {
   "cell_type": "code",
   "execution_count": 67,
   "id": "af0222a1",
   "metadata": {},
   "outputs": [],
   "source": [
    "products[\"start name\"]=products[\"ProductName\"].str.split(expand=True)[0]"
   ]
  },
  {
   "cell_type": "code",
   "execution_count": 69,
   "id": "58b8860d",
   "metadata": {},
   "outputs": [
    {
     "data": {
      "text/html": [
       "<div>\n",
       "<style scoped>\n",
       "    .dataframe tbody tr th:only-of-type {\n",
       "        vertical-align: middle;\n",
       "    }\n",
       "\n",
       "    .dataframe tbody tr th {\n",
       "        vertical-align: top;\n",
       "    }\n",
       "\n",
       "    .dataframe thead th {\n",
       "        text-align: right;\n",
       "    }\n",
       "</style>\n",
       "<table border=\"1\" class=\"dataframe\">\n",
       "  <thead>\n",
       "    <tr style=\"text-align: right;\">\n",
       "      <th></th>\n",
       "      <th>ProductID</th>\n",
       "      <th>ProductName</th>\n",
       "      <th>UnitPrice</th>\n",
       "      <th>CategoryID</th>\n",
       "      <th>Date</th>\n",
       "      <th>Date1</th>\n",
       "      <th>start name</th>\n",
       "    </tr>\n",
       "  </thead>\n",
       "  <tbody>\n",
       "    <tr>\n",
       "      <th>0</th>\n",
       "      <td>1</td>\n",
       "      <td>Chai</td>\n",
       "      <td>18.00</td>\n",
       "      <td>1</td>\n",
       "      <td>22/11/2024</td>\n",
       "      <td>5/31/2023</td>\n",
       "      <td>Chai</td>\n",
       "    </tr>\n",
       "    <tr>\n",
       "      <th>1</th>\n",
       "      <td>2</td>\n",
       "      <td>Chang</td>\n",
       "      <td>19.00</td>\n",
       "      <td>1</td>\n",
       "      <td>23/11/2024</td>\n",
       "      <td>6/1/2023</td>\n",
       "      <td>Chang</td>\n",
       "    </tr>\n",
       "    <tr>\n",
       "      <th>2</th>\n",
       "      <td>3</td>\n",
       "      <td>Aniseed Syrup</td>\n",
       "      <td>10.00</td>\n",
       "      <td>2</td>\n",
       "      <td>24/11/2024</td>\n",
       "      <td>6/2/2023</td>\n",
       "      <td>Aniseed</td>\n",
       "    </tr>\n",
       "    <tr>\n",
       "      <th>3</th>\n",
       "      <td>4</td>\n",
       "      <td>Chef Anton's Cajun Seasoning</td>\n",
       "      <td>22.00</td>\n",
       "      <td>2</td>\n",
       "      <td>25/11/2024</td>\n",
       "      <td>6/3/2023</td>\n",
       "      <td>Chef</td>\n",
       "    </tr>\n",
       "    <tr>\n",
       "      <th>4</th>\n",
       "      <td>5</td>\n",
       "      <td>Chef Anton's Gumbo Mix</td>\n",
       "      <td>21.35</td>\n",
       "      <td>2</td>\n",
       "      <td>26/11/2024</td>\n",
       "      <td>6/4/2023</td>\n",
       "      <td>Chef</td>\n",
       "    </tr>\n",
       "  </tbody>\n",
       "</table>\n",
       "</div>"
      ],
      "text/plain": [
       "   ProductID                   ProductName  UnitPrice  CategoryID        Date   \n",
       "0          1                          Chai      18.00           1  22/11/2024  \\\n",
       "1          2                         Chang      19.00           1  23/11/2024   \n",
       "2          3                 Aniseed Syrup      10.00           2  24/11/2024   \n",
       "3          4  Chef Anton's Cajun Seasoning      22.00           2  25/11/2024   \n",
       "4          5        Chef Anton's Gumbo Mix      21.35           2  26/11/2024   \n",
       "\n",
       "       Date1 start name  \n",
       "0  5/31/2023       Chai  \n",
       "1   6/1/2023      Chang  \n",
       "2   6/2/2023    Aniseed  \n",
       "3   6/3/2023       Chef  \n",
       "4   6/4/2023       Chef  "
      ]
     },
     "execution_count": 69,
     "metadata": {},
     "output_type": "execute_result"
    }
   ],
   "source": [
    "products.head()"
   ]
  },
  {
   "cell_type": "code",
   "execution_count": 5,
   "id": "68d5df1d",
   "metadata": {},
   "outputs": [
    {
     "data": {
      "text/html": [
       "<div>\n",
       "<style scoped>\n",
       "    .dataframe tbody tr th:only-of-type {\n",
       "        vertical-align: middle;\n",
       "    }\n",
       "\n",
       "    .dataframe tbody tr th {\n",
       "        vertical-align: top;\n",
       "    }\n",
       "\n",
       "    .dataframe thead th {\n",
       "        text-align: right;\n",
       "    }\n",
       "</style>\n",
       "<table border=\"1\" class=\"dataframe\">\n",
       "  <thead>\n",
       "    <tr style=\"text-align: right;\">\n",
       "      <th></th>\n",
       "      <th>0</th>\n",
       "      <th>1</th>\n",
       "      <th>2</th>\n",
       "      <th>3</th>\n",
       "      <th>4</th>\n",
       "    </tr>\n",
       "  </thead>\n",
       "  <tbody>\n",
       "    <tr>\n",
       "      <th>0</th>\n",
       "      <td>Chai</td>\n",
       "      <td>None</td>\n",
       "      <td>None</td>\n",
       "      <td>None</td>\n",
       "      <td>None</td>\n",
       "    </tr>\n",
       "    <tr>\n",
       "      <th>1</th>\n",
       "      <td>Chang</td>\n",
       "      <td>None</td>\n",
       "      <td>None</td>\n",
       "      <td>None</td>\n",
       "      <td>None</td>\n",
       "    </tr>\n",
       "    <tr>\n",
       "      <th>2</th>\n",
       "      <td>Aniseed</td>\n",
       "      <td>Syrup</td>\n",
       "      <td>None</td>\n",
       "      <td>None</td>\n",
       "      <td>None</td>\n",
       "    </tr>\n",
       "    <tr>\n",
       "      <th>3</th>\n",
       "      <td>Chef</td>\n",
       "      <td>Anton's</td>\n",
       "      <td>Cajun</td>\n",
       "      <td>Seasoning</td>\n",
       "      <td>None</td>\n",
       "    </tr>\n",
       "    <tr>\n",
       "      <th>4</th>\n",
       "      <td>Chef</td>\n",
       "      <td>Anton's</td>\n",
       "      <td>Gumbo</td>\n",
       "      <td>Mix</td>\n",
       "      <td>None</td>\n",
       "    </tr>\n",
       "    <tr>\n",
       "      <th>...</th>\n",
       "      <td>...</td>\n",
       "      <td>...</td>\n",
       "      <td>...</td>\n",
       "      <td>...</td>\n",
       "      <td>...</td>\n",
       "    </tr>\n",
       "    <tr>\n",
       "      <th>72</th>\n",
       "      <td>Rad</td>\n",
       "      <td>Kaviar</td>\n",
       "      <td>None</td>\n",
       "      <td>None</td>\n",
       "      <td>None</td>\n",
       "    </tr>\n",
       "    <tr>\n",
       "      <th>73</th>\n",
       "      <td>Longlife</td>\n",
       "      <td>Tofu</td>\n",
       "      <td>None</td>\n",
       "      <td>None</td>\n",
       "      <td>None</td>\n",
       "    </tr>\n",
       "    <tr>\n",
       "      <th>74</th>\n",
       "      <td>Rhanbrau</td>\n",
       "      <td>Klosterbier</td>\n",
       "      <td>None</td>\n",
       "      <td>None</td>\n",
       "      <td>None</td>\n",
       "    </tr>\n",
       "    <tr>\n",
       "      <th>75</th>\n",
       "      <td>Lakkalikaari</td>\n",
       "      <td>None</td>\n",
       "      <td>None</td>\n",
       "      <td>None</td>\n",
       "      <td>None</td>\n",
       "    </tr>\n",
       "    <tr>\n",
       "      <th>76</th>\n",
       "      <td>Original</td>\n",
       "      <td>Frankfurter</td>\n",
       "      <td>grane</td>\n",
       "      <td>Soae</td>\n",
       "      <td>None</td>\n",
       "    </tr>\n",
       "  </tbody>\n",
       "</table>\n",
       "<p>77 rows × 5 columns</p>\n",
       "</div>"
      ],
      "text/plain": [
       "               0            1      2          3     4\n",
       "0           Chai         None   None       None  None\n",
       "1          Chang         None   None       None  None\n",
       "2        Aniseed        Syrup   None       None  None\n",
       "3           Chef      Anton's  Cajun  Seasoning  None\n",
       "4           Chef      Anton's  Gumbo        Mix  None\n",
       "..           ...          ...    ...        ...   ...\n",
       "72           Rad       Kaviar   None       None  None\n",
       "73      Longlife         Tofu   None       None  None\n",
       "74      Rhanbrau  Klosterbier   None       None  None\n",
       "75  Lakkalikaari         None   None       None  None\n",
       "76      Original  Frankfurter  grane       Soae  None\n",
       "\n",
       "[77 rows x 5 columns]"
      ]
     },
     "execution_count": 5,
     "metadata": {},
     "output_type": "execute_result"
    }
   ],
   "source": [
    "products[\"ProductName\"].str.split(' ',expand=True)"
   ]
  },
  {
   "cell_type": "code",
   "execution_count": 72,
   "id": "ebbef196",
   "metadata": {},
   "outputs": [],
   "source": [
    "products.insert(2,'name2',products[\"ProductName\"].str.split(expand=True)[0])"
   ]
  },
  {
   "cell_type": "code",
   "execution_count": 73,
   "id": "002708a2",
   "metadata": {},
   "outputs": [
    {
     "data": {
      "text/html": [
       "<div>\n",
       "<style scoped>\n",
       "    .dataframe tbody tr th:only-of-type {\n",
       "        vertical-align: middle;\n",
       "    }\n",
       "\n",
       "    .dataframe tbody tr th {\n",
       "        vertical-align: top;\n",
       "    }\n",
       "\n",
       "    .dataframe thead th {\n",
       "        text-align: right;\n",
       "    }\n",
       "</style>\n",
       "<table border=\"1\" class=\"dataframe\">\n",
       "  <thead>\n",
       "    <tr style=\"text-align: right;\">\n",
       "      <th></th>\n",
       "      <th>ProductID</th>\n",
       "      <th>ProductName</th>\n",
       "      <th>name2</th>\n",
       "      <th>UnitPrice</th>\n",
       "      <th>CategoryID</th>\n",
       "      <th>Date</th>\n",
       "      <th>Date1</th>\n",
       "      <th>start name</th>\n",
       "    </tr>\n",
       "  </thead>\n",
       "  <tbody>\n",
       "    <tr>\n",
       "      <th>0</th>\n",
       "      <td>1</td>\n",
       "      <td>Chai</td>\n",
       "      <td>Chai</td>\n",
       "      <td>18.00</td>\n",
       "      <td>1</td>\n",
       "      <td>22/11/2024</td>\n",
       "      <td>5/31/2023</td>\n",
       "      <td>Chai</td>\n",
       "    </tr>\n",
       "    <tr>\n",
       "      <th>1</th>\n",
       "      <td>2</td>\n",
       "      <td>Chang</td>\n",
       "      <td>Chang</td>\n",
       "      <td>19.00</td>\n",
       "      <td>1</td>\n",
       "      <td>23/11/2024</td>\n",
       "      <td>6/1/2023</td>\n",
       "      <td>Chang</td>\n",
       "    </tr>\n",
       "    <tr>\n",
       "      <th>2</th>\n",
       "      <td>3</td>\n",
       "      <td>Aniseed Syrup</td>\n",
       "      <td>Aniseed</td>\n",
       "      <td>10.00</td>\n",
       "      <td>2</td>\n",
       "      <td>24/11/2024</td>\n",
       "      <td>6/2/2023</td>\n",
       "      <td>Aniseed</td>\n",
       "    </tr>\n",
       "    <tr>\n",
       "      <th>3</th>\n",
       "      <td>4</td>\n",
       "      <td>Chef Anton's Cajun Seasoning</td>\n",
       "      <td>Chef</td>\n",
       "      <td>22.00</td>\n",
       "      <td>2</td>\n",
       "      <td>25/11/2024</td>\n",
       "      <td>6/3/2023</td>\n",
       "      <td>Chef</td>\n",
       "    </tr>\n",
       "    <tr>\n",
       "      <th>4</th>\n",
       "      <td>5</td>\n",
       "      <td>Chef Anton's Gumbo Mix</td>\n",
       "      <td>Chef</td>\n",
       "      <td>21.35</td>\n",
       "      <td>2</td>\n",
       "      <td>26/11/2024</td>\n",
       "      <td>6/4/2023</td>\n",
       "      <td>Chef</td>\n",
       "    </tr>\n",
       "    <tr>\n",
       "      <th>...</th>\n",
       "      <td>...</td>\n",
       "      <td>...</td>\n",
       "      <td>...</td>\n",
       "      <td>...</td>\n",
       "      <td>...</td>\n",
       "      <td>...</td>\n",
       "      <td>...</td>\n",
       "      <td>...</td>\n",
       "    </tr>\n",
       "    <tr>\n",
       "      <th>72</th>\n",
       "      <td>73</td>\n",
       "      <td>Rad Kaviar</td>\n",
       "      <td>Rad</td>\n",
       "      <td>15.00</td>\n",
       "      <td>8</td>\n",
       "      <td>31/05/2029</td>\n",
       "      <td>8/11/2023</td>\n",
       "      <td>Rad</td>\n",
       "    </tr>\n",
       "    <tr>\n",
       "      <th>73</th>\n",
       "      <td>74</td>\n",
       "      <td>Longlife Tofu</td>\n",
       "      <td>Longlife</td>\n",
       "      <td>10.00</td>\n",
       "      <td>7</td>\n",
       "      <td>30/06/2029</td>\n",
       "      <td>8/12/2023</td>\n",
       "      <td>Longlife</td>\n",
       "    </tr>\n",
       "    <tr>\n",
       "      <th>74</th>\n",
       "      <td>75</td>\n",
       "      <td>Rhanbrau Klosterbier</td>\n",
       "      <td>Rhanbrau</td>\n",
       "      <td>7.75</td>\n",
       "      <td>1</td>\n",
       "      <td>31/07/2029</td>\n",
       "      <td>8/13/2023</td>\n",
       "      <td>Rhanbrau</td>\n",
       "    </tr>\n",
       "    <tr>\n",
       "      <th>75</th>\n",
       "      <td>76</td>\n",
       "      <td>Lakkalikaari</td>\n",
       "      <td>Lakkalikaari</td>\n",
       "      <td>18.00</td>\n",
       "      <td>1</td>\n",
       "      <td>31/08/2029</td>\n",
       "      <td>8/14/2023</td>\n",
       "      <td>Lakkalikaari</td>\n",
       "    </tr>\n",
       "    <tr>\n",
       "      <th>76</th>\n",
       "      <td>77</td>\n",
       "      <td>Original Frankfurter grane Soae</td>\n",
       "      <td>Original</td>\n",
       "      <td>13.00</td>\n",
       "      <td>2</td>\n",
       "      <td>30/09/2029</td>\n",
       "      <td>8/15/2023</td>\n",
       "      <td>Original</td>\n",
       "    </tr>\n",
       "  </tbody>\n",
       "</table>\n",
       "<p>77 rows × 8 columns</p>\n",
       "</div>"
      ],
      "text/plain": [
       "    ProductID                      ProductName         name2  UnitPrice   \n",
       "0           1                             Chai          Chai      18.00  \\\n",
       "1           2                            Chang         Chang      19.00   \n",
       "2           3                    Aniseed Syrup       Aniseed      10.00   \n",
       "3           4     Chef Anton's Cajun Seasoning          Chef      22.00   \n",
       "4           5           Chef Anton's Gumbo Mix          Chef      21.35   \n",
       "..        ...                              ...           ...        ...   \n",
       "72         73                       Rad Kaviar           Rad      15.00   \n",
       "73         74                    Longlife Tofu      Longlife      10.00   \n",
       "74         75             Rhanbrau Klosterbier      Rhanbrau       7.75   \n",
       "75         76                     Lakkalikaari  Lakkalikaari      18.00   \n",
       "76         77  Original Frankfurter grane Soae      Original      13.00   \n",
       "\n",
       "    CategoryID        Date      Date1    start name  \n",
       "0            1  22/11/2024  5/31/2023          Chai  \n",
       "1            1  23/11/2024   6/1/2023         Chang  \n",
       "2            2  24/11/2024   6/2/2023       Aniseed  \n",
       "3            2  25/11/2024   6/3/2023          Chef  \n",
       "4            2  26/11/2024   6/4/2023          Chef  \n",
       "..         ...         ...        ...           ...  \n",
       "72           8  31/05/2029  8/11/2023           Rad  \n",
       "73           7  30/06/2029  8/12/2023      Longlife  \n",
       "74           1  31/07/2029  8/13/2023      Rhanbrau  \n",
       "75           1  31/08/2029  8/14/2023  Lakkalikaari  \n",
       "76           2  30/09/2029  8/15/2023      Original  \n",
       "\n",
       "[77 rows x 8 columns]"
      ]
     },
     "execution_count": 73,
     "metadata": {},
     "output_type": "execute_result"
    }
   ],
   "source": [
    "products"
   ]
  },
  {
   "cell_type": "markdown",
   "id": "a701f371",
   "metadata": {},
   "source": [
    "# Numeric Functions"
   ]
  },
  {
   "cell_type": "code",
   "execution_count": null,
   "id": "0318d626",
   "metadata": {},
   "outputs": [],
   "source": [
    "#round()"
   ]
  },
  {
   "cell_type": "code",
   "execution_count": 74,
   "id": "30359661",
   "metadata": {},
   "outputs": [
    {
     "data": {
      "text/html": [
       "<div>\n",
       "<style scoped>\n",
       "    .dataframe tbody tr th:only-of-type {\n",
       "        vertical-align: middle;\n",
       "    }\n",
       "\n",
       "    .dataframe tbody tr th {\n",
       "        vertical-align: top;\n",
       "    }\n",
       "\n",
       "    .dataframe thead th {\n",
       "        text-align: right;\n",
       "    }\n",
       "</style>\n",
       "<table border=\"1\" class=\"dataframe\">\n",
       "  <thead>\n",
       "    <tr style=\"text-align: right;\">\n",
       "      <th></th>\n",
       "      <th>Name</th>\n",
       "      <th>Age</th>\n",
       "      <th>Country</th>\n",
       "      <th>Height</th>\n",
       "      <th>Weight</th>\n",
       "      <th>avg</th>\n",
       "      <th>income</th>\n",
       "      <th>rooms</th>\n",
       "      <th>family</th>\n",
       "      <th>type</th>\n",
       "      <th>gen</th>\n",
       "    </tr>\n",
       "  </thead>\n",
       "  <tbody>\n",
       "    <tr>\n",
       "      <th>0</th>\n",
       "      <td>adar</td>\n",
       "      <td>6</td>\n",
       "      <td>SP</td>\n",
       "      <td>113</td>\n",
       "      <td>30</td>\n",
       "      <td>70</td>\n",
       "      <td>16700</td>\n",
       "      <td>7</td>\n",
       "      <td>6</td>\n",
       "      <td>1</td>\n",
       "      <td>M</td>\n",
       "    </tr>\n",
       "    <tr>\n",
       "      <th>1</th>\n",
       "      <td>agam</td>\n",
       "      <td>6</td>\n",
       "      <td>GR</td>\n",
       "      <td>172</td>\n",
       "      <td>71</td>\n",
       "      <td>92</td>\n",
       "      <td>9200</td>\n",
       "      <td>5</td>\n",
       "      <td>4</td>\n",
       "      <td>2</td>\n",
       "      <td>F</td>\n",
       "    </tr>\n",
       "    <tr>\n",
       "      <th>2</th>\n",
       "      <td>avi</td>\n",
       "      <td>7</td>\n",
       "      <td>ISR</td>\n",
       "      <td>143</td>\n",
       "      <td>58</td>\n",
       "      <td>82</td>\n",
       "      <td>12000</td>\n",
       "      <td>3</td>\n",
       "      <td>7</td>\n",
       "      <td>1</td>\n",
       "      <td>M</td>\n",
       "    </tr>\n",
       "    <tr>\n",
       "      <th>3</th>\n",
       "      <td>dani</td>\n",
       "      <td>7</td>\n",
       "      <td>US</td>\n",
       "      <td>160</td>\n",
       "      <td>70</td>\n",
       "      <td>90</td>\n",
       "      <td>15000</td>\n",
       "      <td>4</td>\n",
       "      <td>4</td>\n",
       "      <td>2</td>\n",
       "      <td>M</td>\n",
       "    </tr>\n",
       "    <tr>\n",
       "      <th>4</th>\n",
       "      <td>dina</td>\n",
       "      <td>7</td>\n",
       "      <td>ISR</td>\n",
       "      <td>110</td>\n",
       "      <td>26</td>\n",
       "      <td>64</td>\n",
       "      <td>10000</td>\n",
       "      <td>6</td>\n",
       "      <td>8</td>\n",
       "      <td>1</td>\n",
       "      <td>F</td>\n",
       "    </tr>\n",
       "  </tbody>\n",
       "</table>\n",
       "</div>"
      ],
      "text/plain": [
       "   Name  Age Country  Height  Weight  avg  income  rooms  family  type gen\n",
       "0  adar    6      SP     113      30   70   16700      7       6     1   M\n",
       "1  agam    6      GR     172      71   92    9200      5       4     2   F\n",
       "2   avi    7     ISR     143      58   82   12000      3       7     1   M\n",
       "3  dani    7      US     160      70   90   15000      4       4     2   M\n",
       "4  dina    7     ISR     110      26   64   10000      6       8     1   F"
      ]
     },
     "execution_count": 74,
     "metadata": {},
     "output_type": "execute_result"
    }
   ],
   "source": [
    "pup.head()"
   ]
  },
  {
   "cell_type": "code",
   "execution_count": 75,
   "id": "701aa3e2",
   "metadata": {},
   "outputs": [
    {
     "data": {
      "text/html": [
       "<div>\n",
       "<style scoped>\n",
       "    .dataframe tbody tr th:only-of-type {\n",
       "        vertical-align: middle;\n",
       "    }\n",
       "\n",
       "    .dataframe tbody tr th {\n",
       "        vertical-align: top;\n",
       "    }\n",
       "\n",
       "    .dataframe thead th {\n",
       "        text-align: right;\n",
       "    }\n",
       "</style>\n",
       "<table border=\"1\" class=\"dataframe\">\n",
       "  <thead>\n",
       "    <tr style=\"text-align: right;\">\n",
       "      <th></th>\n",
       "      <th>total_bill</th>\n",
       "      <th>tip</th>\n",
       "      <th>sex</th>\n",
       "      <th>smoker</th>\n",
       "      <th>day</th>\n",
       "      <th>time</th>\n",
       "      <th>size</th>\n",
       "    </tr>\n",
       "  </thead>\n",
       "  <tbody>\n",
       "    <tr>\n",
       "      <th>0</th>\n",
       "      <td>16.99</td>\n",
       "      <td>1.01</td>\n",
       "      <td>Female</td>\n",
       "      <td>No</td>\n",
       "      <td>Sun</td>\n",
       "      <td>Dinner</td>\n",
       "      <td>2</td>\n",
       "    </tr>\n",
       "    <tr>\n",
       "      <th>1</th>\n",
       "      <td>10.34</td>\n",
       "      <td>1.66</td>\n",
       "      <td>Male</td>\n",
       "      <td>No</td>\n",
       "      <td>Sun</td>\n",
       "      <td>Dinner</td>\n",
       "      <td>3</td>\n",
       "    </tr>\n",
       "    <tr>\n",
       "      <th>2</th>\n",
       "      <td>21.01</td>\n",
       "      <td>3.50</td>\n",
       "      <td>Male</td>\n",
       "      <td>No</td>\n",
       "      <td>Sun</td>\n",
       "      <td>Dinner</td>\n",
       "      <td>3</td>\n",
       "    </tr>\n",
       "    <tr>\n",
       "      <th>3</th>\n",
       "      <td>23.68</td>\n",
       "      <td>3.31</td>\n",
       "      <td>Male</td>\n",
       "      <td>No</td>\n",
       "      <td>Sun</td>\n",
       "      <td>Dinner</td>\n",
       "      <td>2</td>\n",
       "    </tr>\n",
       "    <tr>\n",
       "      <th>4</th>\n",
       "      <td>24.59</td>\n",
       "      <td>3.61</td>\n",
       "      <td>Female</td>\n",
       "      <td>No</td>\n",
       "      <td>Sun</td>\n",
       "      <td>Dinner</td>\n",
       "      <td>4</td>\n",
       "    </tr>\n",
       "  </tbody>\n",
       "</table>\n",
       "</div>"
      ],
      "text/plain": [
       "   total_bill   tip     sex smoker  day    time  size\n",
       "0       16.99  1.01  Female     No  Sun  Dinner     2\n",
       "1       10.34  1.66    Male     No  Sun  Dinner     3\n",
       "2       21.01  3.50    Male     No  Sun  Dinner     3\n",
       "3       23.68  3.31    Male     No  Sun  Dinner     2\n",
       "4       24.59  3.61  Female     No  Sun  Dinner     4"
      ]
     },
     "execution_count": 75,
     "metadata": {},
     "output_type": "execute_result"
    }
   ],
   "source": [
    "df.head()"
   ]
  },
  {
   "cell_type": "code",
   "execution_count": 78,
   "id": "734970a6",
   "metadata": {},
   "outputs": [
    {
     "data": {
      "text/plain": [
       "0      17.0\n",
       "1      10.0\n",
       "2      21.0\n",
       "3      24.0\n",
       "4      25.0\n",
       "       ... \n",
       "239    29.0\n",
       "240    27.0\n",
       "241    23.0\n",
       "242    18.0\n",
       "243    19.0\n",
       "Name: total_bill, Length: 244, dtype: float64"
      ]
     },
     "execution_count": 78,
     "metadata": {},
     "output_type": "execute_result"
    }
   ],
   "source": [
    "import numpy as np\n",
    "np.round(df[\"total_bill\"],0)"
   ]
  },
  {
   "cell_type": "code",
   "execution_count": 80,
   "id": "04e680d4",
   "metadata": {},
   "outputs": [
    {
     "data": {
      "text/plain": [
       "0      17.0\n",
       "1      10.0\n",
       "2      21.0\n",
       "3      24.0\n",
       "4      25.0\n",
       "       ... \n",
       "239    29.0\n",
       "240    27.0\n",
       "241    23.0\n",
       "242    18.0\n",
       "243    19.0\n",
       "Name: total_bill, Length: 244, dtype: float64"
      ]
     },
     "execution_count": 80,
     "metadata": {},
     "output_type": "execute_result"
    }
   ],
   "source": [
    "np.round(df[\"total_bill\"])"
   ]
  },
  {
   "cell_type": "code",
   "execution_count": 81,
   "id": "b5badfd7",
   "metadata": {},
   "outputs": [
    {
     "data": {
      "text/plain": [
       "0    17.0\n",
       "1    10.3\n",
       "2    21.0\n",
       "3    23.7\n",
       "4    24.6\n",
       "Name: total_bill, dtype: float64"
      ]
     },
     "execution_count": 81,
     "metadata": {},
     "output_type": "execute_result"
    }
   ],
   "source": [
    "df[\"total_bill\"].round(1).head()"
   ]
  },
  {
   "cell_type": "code",
   "execution_count": 82,
   "id": "0c83c45b",
   "metadata": {},
   "outputs": [
    {
     "data": {
      "text/plain": [
       "0    16.0\n",
       "1    10.0\n",
       "2    21.0\n",
       "3    23.0\n",
       "4    24.0\n",
       "Name: total_bill, dtype: float64"
      ]
     },
     "execution_count": 82,
     "metadata": {},
     "output_type": "execute_result"
    }
   ],
   "source": [
    "np.floor(df[\"total_bill\"]).head()"
   ]
  },
  {
   "cell_type": "code",
   "execution_count": 83,
   "id": "f7f83471",
   "metadata": {},
   "outputs": [
    {
     "data": {
      "text/plain": [
       "0    17.0\n",
       "1    11.0\n",
       "2    22.0\n",
       "3    24.0\n",
       "4    25.0\n",
       "Name: total_bill, dtype: float64"
      ]
     },
     "execution_count": 83,
     "metadata": {},
     "output_type": "execute_result"
    }
   ],
   "source": [
    "np.ceil(df[\"total_bill\"]).head()"
   ]
  },
  {
   "cell_type": "code",
   "execution_count": null,
   "id": "525f23a8",
   "metadata": {},
   "outputs": [],
   "source": [
    "#mul = Multiply DataFrames., div = Divide DataFrames"
   ]
  },
  {
   "cell_type": "code",
   "execution_count": 84,
   "id": "c54d3a94",
   "metadata": {},
   "outputs": [
    {
     "data": {
      "text/plain": [
       "0    16.99\n",
       "1    10.34\n",
       "2    21.01\n",
       "3    23.68\n",
       "4    24.59\n",
       "Name: total_bill, dtype: float64"
      ]
     },
     "execution_count": 84,
     "metadata": {},
     "output_type": "execute_result"
    }
   ],
   "source": [
    "np.ceil(df[\"total_bill\"].mul(100)).div(100).head()"
   ]
  },
  {
   "cell_type": "markdown",
   "id": "15e9edc8",
   "metadata": {},
   "source": [
    "# Date Functions"
   ]
  },
  {
   "cell_type": "code",
   "execution_count": 9,
   "id": "3b109d13",
   "metadata": {},
   "outputs": [],
   "source": [
    "import pandas as pd\n",
    "products = pd.read_csv(\"data/Products.csv\")"
   ]
  },
  {
   "cell_type": "code",
   "execution_count": 10,
   "id": "dbcbcec7",
   "metadata": {},
   "outputs": [
    {
     "data": {
      "text/html": [
       "<div>\n",
       "<style scoped>\n",
       "    .dataframe tbody tr th:only-of-type {\n",
       "        vertical-align: middle;\n",
       "    }\n",
       "\n",
       "    .dataframe tbody tr th {\n",
       "        vertical-align: top;\n",
       "    }\n",
       "\n",
       "    .dataframe thead th {\n",
       "        text-align: right;\n",
       "    }\n",
       "</style>\n",
       "<table border=\"1\" class=\"dataframe\">\n",
       "  <thead>\n",
       "    <tr style=\"text-align: right;\">\n",
       "      <th></th>\n",
       "      <th>ProductID</th>\n",
       "      <th>ProductName</th>\n",
       "      <th>UnitPrice</th>\n",
       "      <th>CategoryID</th>\n",
       "      <th>Date</th>\n",
       "      <th>Date1</th>\n",
       "    </tr>\n",
       "  </thead>\n",
       "  <tbody>\n",
       "    <tr>\n",
       "      <th>0</th>\n",
       "      <td>1</td>\n",
       "      <td>Chai</td>\n",
       "      <td>18.00</td>\n",
       "      <td>1</td>\n",
       "      <td>22/11/2024</td>\n",
       "      <td>5/31/2023</td>\n",
       "    </tr>\n",
       "    <tr>\n",
       "      <th>1</th>\n",
       "      <td>2</td>\n",
       "      <td>Chang</td>\n",
       "      <td>19.00</td>\n",
       "      <td>1</td>\n",
       "      <td>23/11/2024</td>\n",
       "      <td>6/1/2023</td>\n",
       "    </tr>\n",
       "    <tr>\n",
       "      <th>2</th>\n",
       "      <td>3</td>\n",
       "      <td>Aniseed Syrup</td>\n",
       "      <td>10.00</td>\n",
       "      <td>2</td>\n",
       "      <td>24/11/2024</td>\n",
       "      <td>6/2/2023</td>\n",
       "    </tr>\n",
       "    <tr>\n",
       "      <th>3</th>\n",
       "      <td>4</td>\n",
       "      <td>Chef Anton's Cajun Seasoning</td>\n",
       "      <td>22.00</td>\n",
       "      <td>2</td>\n",
       "      <td>25/11/2024</td>\n",
       "      <td>6/3/2023</td>\n",
       "    </tr>\n",
       "    <tr>\n",
       "      <th>4</th>\n",
       "      <td>5</td>\n",
       "      <td>Chef Anton's Gumbo Mix</td>\n",
       "      <td>21.35</td>\n",
       "      <td>2</td>\n",
       "      <td>26/11/2024</td>\n",
       "      <td>6/4/2023</td>\n",
       "    </tr>\n",
       "    <tr>\n",
       "      <th>5</th>\n",
       "      <td>6</td>\n",
       "      <td>Grandma's Boysenberry Spread</td>\n",
       "      <td>25.00</td>\n",
       "      <td>2</td>\n",
       "      <td>27/11/2024</td>\n",
       "      <td>6/5/2023</td>\n",
       "    </tr>\n",
       "    <tr>\n",
       "      <th>6</th>\n",
       "      <td>7</td>\n",
       "      <td>Uncle Bob's Organic Dried Pears</td>\n",
       "      <td>30.00</td>\n",
       "      <td>7</td>\n",
       "      <td>28/11/2024</td>\n",
       "      <td>6/6/2023</td>\n",
       "    </tr>\n",
       "    <tr>\n",
       "      <th>7</th>\n",
       "      <td>8</td>\n",
       "      <td>Northwoods Cranberry Sauce</td>\n",
       "      <td>40.00</td>\n",
       "      <td>2</td>\n",
       "      <td>29/11/2024</td>\n",
       "      <td>6/7/2023</td>\n",
       "    </tr>\n",
       "    <tr>\n",
       "      <th>8</th>\n",
       "      <td>9</td>\n",
       "      <td>Mishi Kobe Niku</td>\n",
       "      <td>97.00</td>\n",
       "      <td>6</td>\n",
       "      <td>30/11/2024</td>\n",
       "      <td>6/8/2023</td>\n",
       "    </tr>\n",
       "    <tr>\n",
       "      <th>9</th>\n",
       "      <td>10</td>\n",
       "      <td>Ikura</td>\n",
       "      <td>31.00</td>\n",
       "      <td>8</td>\n",
       "      <td>29/02/2024</td>\n",
       "      <td>6/9/2023</td>\n",
       "    </tr>\n",
       "    <tr>\n",
       "      <th>10</th>\n",
       "      <td>11</td>\n",
       "      <td>Queso Cabrales</td>\n",
       "      <td>21.00</td>\n",
       "      <td>4</td>\n",
       "      <td>31/03/2024</td>\n",
       "      <td>6/10/2023</td>\n",
       "    </tr>\n",
       "    <tr>\n",
       "      <th>11</th>\n",
       "      <td>12</td>\n",
       "      <td>Queso Manchego La Pastora</td>\n",
       "      <td>38.00</td>\n",
       "      <td>4</td>\n",
       "      <td>30/04/2024</td>\n",
       "      <td>6/11/2023</td>\n",
       "    </tr>\n",
       "    <tr>\n",
       "      <th>12</th>\n",
       "      <td>13</td>\n",
       "      <td>Konbu</td>\n",
       "      <td>6.00</td>\n",
       "      <td>8</td>\n",
       "      <td>31/05/2024</td>\n",
       "      <td>6/12/2023</td>\n",
       "    </tr>\n",
       "    <tr>\n",
       "      <th>13</th>\n",
       "      <td>14</td>\n",
       "      <td>Tofu</td>\n",
       "      <td>23.25</td>\n",
       "      <td>7</td>\n",
       "      <td>30/06/2024</td>\n",
       "      <td>6/13/2023</td>\n",
       "    </tr>\n",
       "    <tr>\n",
       "      <th>14</th>\n",
       "      <td>15</td>\n",
       "      <td>Genen Shouyu</td>\n",
       "      <td>15.50</td>\n",
       "      <td>2</td>\n",
       "      <td>31/07/2024</td>\n",
       "      <td>6/14/2023</td>\n",
       "    </tr>\n",
       "    <tr>\n",
       "      <th>15</th>\n",
       "      <td>16</td>\n",
       "      <td>Pavlova</td>\n",
       "      <td>17.45</td>\n",
       "      <td>3</td>\n",
       "      <td>31/08/2024</td>\n",
       "      <td>6/15/2023</td>\n",
       "    </tr>\n",
       "    <tr>\n",
       "      <th>16</th>\n",
       "      <td>17</td>\n",
       "      <td>Alice Mutton</td>\n",
       "      <td>39.00</td>\n",
       "      <td>6</td>\n",
       "      <td>30/09/2024</td>\n",
       "      <td>6/16/2023</td>\n",
       "    </tr>\n",
       "    <tr>\n",
       "      <th>17</th>\n",
       "      <td>18</td>\n",
       "      <td>Carnarvon Tigers</td>\n",
       "      <td>62.50</td>\n",
       "      <td>8</td>\n",
       "      <td>24/05/2023</td>\n",
       "      <td>6/17/2023</td>\n",
       "    </tr>\n",
       "    <tr>\n",
       "      <th>18</th>\n",
       "      <td>19</td>\n",
       "      <td>Teatime Chocolate Biscuits</td>\n",
       "      <td>9.20</td>\n",
       "      <td>3</td>\n",
       "      <td>25/05/2023</td>\n",
       "      <td>6/18/2023</td>\n",
       "    </tr>\n",
       "    <tr>\n",
       "      <th>19</th>\n",
       "      <td>20</td>\n",
       "      <td>Sir Rodney's Marmalade</td>\n",
       "      <td>81.00</td>\n",
       "      <td>3</td>\n",
       "      <td>26/05/2023</td>\n",
       "      <td>6/19/2023</td>\n",
       "    </tr>\n",
       "  </tbody>\n",
       "</table>\n",
       "</div>"
      ],
      "text/plain": [
       "    ProductID                      ProductName  UnitPrice  CategoryID   \n",
       "0           1                             Chai      18.00           1  \\\n",
       "1           2                            Chang      19.00           1   \n",
       "2           3                    Aniseed Syrup      10.00           2   \n",
       "3           4     Chef Anton's Cajun Seasoning      22.00           2   \n",
       "4           5           Chef Anton's Gumbo Mix      21.35           2   \n",
       "5           6     Grandma's Boysenberry Spread      25.00           2   \n",
       "6           7  Uncle Bob's Organic Dried Pears      30.00           7   \n",
       "7           8       Northwoods Cranberry Sauce      40.00           2   \n",
       "8           9                  Mishi Kobe Niku      97.00           6   \n",
       "9          10                            Ikura      31.00           8   \n",
       "10         11                   Queso Cabrales      21.00           4   \n",
       "11         12        Queso Manchego La Pastora      38.00           4   \n",
       "12         13                            Konbu       6.00           8   \n",
       "13         14                             Tofu      23.25           7   \n",
       "14         15                     Genen Shouyu      15.50           2   \n",
       "15         16                          Pavlova      17.45           3   \n",
       "16         17                     Alice Mutton      39.00           6   \n",
       "17         18                 Carnarvon Tigers      62.50           8   \n",
       "18         19       Teatime Chocolate Biscuits       9.20           3   \n",
       "19         20           Sir Rodney's Marmalade      81.00           3   \n",
       "\n",
       "          Date      Date1  \n",
       "0   22/11/2024  5/31/2023  \n",
       "1   23/11/2024   6/1/2023  \n",
       "2   24/11/2024   6/2/2023  \n",
       "3   25/11/2024   6/3/2023  \n",
       "4   26/11/2024   6/4/2023  \n",
       "5   27/11/2024   6/5/2023  \n",
       "6   28/11/2024   6/6/2023  \n",
       "7   29/11/2024   6/7/2023  \n",
       "8   30/11/2024   6/8/2023  \n",
       "9   29/02/2024   6/9/2023  \n",
       "10  31/03/2024  6/10/2023  \n",
       "11  30/04/2024  6/11/2023  \n",
       "12  31/05/2024  6/12/2023  \n",
       "13  30/06/2024  6/13/2023  \n",
       "14  31/07/2024  6/14/2023  \n",
       "15  31/08/2024  6/15/2023  \n",
       "16  30/09/2024  6/16/2023  \n",
       "17  24/05/2023  6/17/2023  \n",
       "18  25/05/2023  6/18/2023  \n",
       "19  26/05/2023  6/19/2023  "
      ]
     },
     "execution_count": 10,
     "metadata": {},
     "output_type": "execute_result"
    }
   ],
   "source": [
    "products.head(20)"
   ]
  },
  {
   "cell_type": "code",
   "execution_count": 11,
   "id": "9a06d382",
   "metadata": {},
   "outputs": [
    {
     "name": "stdout",
     "output_type": "stream",
     "text": [
      "<class 'pandas.core.frame.DataFrame'>\n",
      "RangeIndex: 77 entries, 0 to 76\n",
      "Data columns (total 6 columns):\n",
      " #   Column       Non-Null Count  Dtype  \n",
      "---  ------       --------------  -----  \n",
      " 0   ProductID    77 non-null     int64  \n",
      " 1   ProductName  77 non-null     object \n",
      " 2   UnitPrice    77 non-null     float64\n",
      " 3   CategoryID   77 non-null     int64  \n",
      " 4   Date         77 non-null     object \n",
      " 5   Date1        77 non-null     object \n",
      "dtypes: float64(1), int64(2), object(3)\n",
      "memory usage: 3.7+ KB\n"
     ]
    }
   ],
   "source": [
    "products.info()"
   ]
  },
  {
   "cell_type": "code",
   "execution_count": 13,
   "id": "f5b72f83",
   "metadata": {},
   "outputs": [],
   "source": [
    "products[\"Date\"]=pd.to_datetime(products[\"Date\"],format=\"%d/%m/%Y\")"
   ]
  },
  {
   "cell_type": "code",
   "execution_count": 14,
   "id": "046356b6",
   "metadata": {},
   "outputs": [
    {
     "name": "stdout",
     "output_type": "stream",
     "text": [
      "<class 'pandas.core.frame.DataFrame'>\n",
      "RangeIndex: 77 entries, 0 to 76\n",
      "Data columns (total 6 columns):\n",
      " #   Column       Non-Null Count  Dtype         \n",
      "---  ------       --------------  -----         \n",
      " 0   ProductID    77 non-null     int64         \n",
      " 1   ProductName  77 non-null     object        \n",
      " 2   UnitPrice    77 non-null     float64       \n",
      " 3   CategoryID   77 non-null     int64         \n",
      " 4   Date         77 non-null     datetime64[ns]\n",
      " 5   Date1        77 non-null     object        \n",
      "dtypes: datetime64[ns](1), float64(1), int64(2), object(2)\n",
      "memory usage: 3.7+ KB\n"
     ]
    }
   ],
   "source": [
    "products.info()"
   ]
  },
  {
   "cell_type": "code",
   "execution_count": 15,
   "id": "23b629fb",
   "metadata": {},
   "outputs": [
    {
     "data": {
      "text/html": [
       "<div>\n",
       "<style scoped>\n",
       "    .dataframe tbody tr th:only-of-type {\n",
       "        vertical-align: middle;\n",
       "    }\n",
       "\n",
       "    .dataframe tbody tr th {\n",
       "        vertical-align: top;\n",
       "    }\n",
       "\n",
       "    .dataframe thead th {\n",
       "        text-align: right;\n",
       "    }\n",
       "</style>\n",
       "<table border=\"1\" class=\"dataframe\">\n",
       "  <thead>\n",
       "    <tr style=\"text-align: right;\">\n",
       "      <th></th>\n",
       "      <th>ProductID</th>\n",
       "      <th>ProductName</th>\n",
       "      <th>UnitPrice</th>\n",
       "      <th>CategoryID</th>\n",
       "      <th>Date</th>\n",
       "      <th>Date1</th>\n",
       "    </tr>\n",
       "  </thead>\n",
       "  <tbody>\n",
       "    <tr>\n",
       "      <th>17</th>\n",
       "      <td>18</td>\n",
       "      <td>Carnarvon Tigers</td>\n",
       "      <td>62.50</td>\n",
       "      <td>8</td>\n",
       "      <td>2023-05-24</td>\n",
       "      <td>6/17/2023</td>\n",
       "    </tr>\n",
       "    <tr>\n",
       "      <th>18</th>\n",
       "      <td>19</td>\n",
       "      <td>Teatime Chocolate Biscuits</td>\n",
       "      <td>9.20</td>\n",
       "      <td>3</td>\n",
       "      <td>2023-05-25</td>\n",
       "      <td>6/18/2023</td>\n",
       "    </tr>\n",
       "    <tr>\n",
       "      <th>19</th>\n",
       "      <td>20</td>\n",
       "      <td>Sir Rodney's Marmalade</td>\n",
       "      <td>81.00</td>\n",
       "      <td>3</td>\n",
       "      <td>2023-05-26</td>\n",
       "      <td>6/19/2023</td>\n",
       "    </tr>\n",
       "    <tr>\n",
       "      <th>20</th>\n",
       "      <td>21</td>\n",
       "      <td>Sir Rodney's Scones</td>\n",
       "      <td>10.00</td>\n",
       "      <td>3</td>\n",
       "      <td>2023-05-27</td>\n",
       "      <td>6/20/2023</td>\n",
       "    </tr>\n",
       "    <tr>\n",
       "      <th>21</th>\n",
       "      <td>22</td>\n",
       "      <td>Gustaf's Knackebrad</td>\n",
       "      <td>21.00</td>\n",
       "      <td>5</td>\n",
       "      <td>2023-05-28</td>\n",
       "      <td>6/21/2023</td>\n",
       "    </tr>\n",
       "    <tr>\n",
       "      <th>22</th>\n",
       "      <td>23</td>\n",
       "      <td>Tunnbrad</td>\n",
       "      <td>9.00</td>\n",
       "      <td>5</td>\n",
       "      <td>2023-05-29</td>\n",
       "      <td>6/22/2023</td>\n",
       "    </tr>\n",
       "    <tr>\n",
       "      <th>23</th>\n",
       "      <td>24</td>\n",
       "      <td>Guarana Fantastica</td>\n",
       "      <td>4.50</td>\n",
       "      <td>1</td>\n",
       "      <td>2023-05-30</td>\n",
       "      <td>6/23/2023</td>\n",
       "    </tr>\n",
       "    <tr>\n",
       "      <th>24</th>\n",
       "      <td>25</td>\n",
       "      <td>NuNuCa Nua-Nougat-Creme</td>\n",
       "      <td>14.00</td>\n",
       "      <td>3</td>\n",
       "      <td>2023-05-31</td>\n",
       "      <td>6/24/2023</td>\n",
       "    </tr>\n",
       "    <tr>\n",
       "      <th>9</th>\n",
       "      <td>10</td>\n",
       "      <td>Ikura</td>\n",
       "      <td>31.00</td>\n",
       "      <td>8</td>\n",
       "      <td>2024-02-29</td>\n",
       "      <td>6/9/2023</td>\n",
       "    </tr>\n",
       "    <tr>\n",
       "      <th>10</th>\n",
       "      <td>11</td>\n",
       "      <td>Queso Cabrales</td>\n",
       "      <td>21.00</td>\n",
       "      <td>4</td>\n",
       "      <td>2024-03-31</td>\n",
       "      <td>6/10/2023</td>\n",
       "    </tr>\n",
       "    <tr>\n",
       "      <th>11</th>\n",
       "      <td>12</td>\n",
       "      <td>Queso Manchego La Pastora</td>\n",
       "      <td>38.00</td>\n",
       "      <td>4</td>\n",
       "      <td>2024-04-30</td>\n",
       "      <td>6/11/2023</td>\n",
       "    </tr>\n",
       "    <tr>\n",
       "      <th>12</th>\n",
       "      <td>13</td>\n",
       "      <td>Konbu</td>\n",
       "      <td>6.00</td>\n",
       "      <td>8</td>\n",
       "      <td>2024-05-31</td>\n",
       "      <td>6/12/2023</td>\n",
       "    </tr>\n",
       "    <tr>\n",
       "      <th>13</th>\n",
       "      <td>14</td>\n",
       "      <td>Tofu</td>\n",
       "      <td>23.25</td>\n",
       "      <td>7</td>\n",
       "      <td>2024-06-30</td>\n",
       "      <td>6/13/2023</td>\n",
       "    </tr>\n",
       "    <tr>\n",
       "      <th>14</th>\n",
       "      <td>15</td>\n",
       "      <td>Genen Shouyu</td>\n",
       "      <td>15.50</td>\n",
       "      <td>2</td>\n",
       "      <td>2024-07-31</td>\n",
       "      <td>6/14/2023</td>\n",
       "    </tr>\n",
       "    <tr>\n",
       "      <th>15</th>\n",
       "      <td>16</td>\n",
       "      <td>Pavlova</td>\n",
       "      <td>17.45</td>\n",
       "      <td>3</td>\n",
       "      <td>2024-08-31</td>\n",
       "      <td>6/15/2023</td>\n",
       "    </tr>\n",
       "    <tr>\n",
       "      <th>16</th>\n",
       "      <td>17</td>\n",
       "      <td>Alice Mutton</td>\n",
       "      <td>39.00</td>\n",
       "      <td>6</td>\n",
       "      <td>2024-09-30</td>\n",
       "      <td>6/16/2023</td>\n",
       "    </tr>\n",
       "    <tr>\n",
       "      <th>0</th>\n",
       "      <td>1</td>\n",
       "      <td>Chai</td>\n",
       "      <td>18.00</td>\n",
       "      <td>1</td>\n",
       "      <td>2024-11-22</td>\n",
       "      <td>5/31/2023</td>\n",
       "    </tr>\n",
       "    <tr>\n",
       "      <th>1</th>\n",
       "      <td>2</td>\n",
       "      <td>Chang</td>\n",
       "      <td>19.00</td>\n",
       "      <td>1</td>\n",
       "      <td>2024-11-23</td>\n",
       "      <td>6/1/2023</td>\n",
       "    </tr>\n",
       "    <tr>\n",
       "      <th>2</th>\n",
       "      <td>3</td>\n",
       "      <td>Aniseed Syrup</td>\n",
       "      <td>10.00</td>\n",
       "      <td>2</td>\n",
       "      <td>2024-11-24</td>\n",
       "      <td>6/2/2023</td>\n",
       "    </tr>\n",
       "    <tr>\n",
       "      <th>3</th>\n",
       "      <td>4</td>\n",
       "      <td>Chef Anton's Cajun Seasoning</td>\n",
       "      <td>22.00</td>\n",
       "      <td>2</td>\n",
       "      <td>2024-11-25</td>\n",
       "      <td>6/3/2023</td>\n",
       "    </tr>\n",
       "    <tr>\n",
       "      <th>4</th>\n",
       "      <td>5</td>\n",
       "      <td>Chef Anton's Gumbo Mix</td>\n",
       "      <td>21.35</td>\n",
       "      <td>2</td>\n",
       "      <td>2024-11-26</td>\n",
       "      <td>6/4/2023</td>\n",
       "    </tr>\n",
       "    <tr>\n",
       "      <th>5</th>\n",
       "      <td>6</td>\n",
       "      <td>Grandma's Boysenberry Spread</td>\n",
       "      <td>25.00</td>\n",
       "      <td>2</td>\n",
       "      <td>2024-11-27</td>\n",
       "      <td>6/5/2023</td>\n",
       "    </tr>\n",
       "    <tr>\n",
       "      <th>6</th>\n",
       "      <td>7</td>\n",
       "      <td>Uncle Bob's Organic Dried Pears</td>\n",
       "      <td>30.00</td>\n",
       "      <td>7</td>\n",
       "      <td>2024-11-28</td>\n",
       "      <td>6/6/2023</td>\n",
       "    </tr>\n",
       "    <tr>\n",
       "      <th>7</th>\n",
       "      <td>8</td>\n",
       "      <td>Northwoods Cranberry Sauce</td>\n",
       "      <td>40.00</td>\n",
       "      <td>2</td>\n",
       "      <td>2024-11-29</td>\n",
       "      <td>6/7/2023</td>\n",
       "    </tr>\n",
       "    <tr>\n",
       "      <th>8</th>\n",
       "      <td>9</td>\n",
       "      <td>Mishi Kobe Niku</td>\n",
       "      <td>97.00</td>\n",
       "      <td>6</td>\n",
       "      <td>2024-11-30</td>\n",
       "      <td>6/8/2023</td>\n",
       "    </tr>\n",
       "    <tr>\n",
       "      <th>26</th>\n",
       "      <td>27</td>\n",
       "      <td>Schoggi Schokolade</td>\n",
       "      <td>43.90</td>\n",
       "      <td>3</td>\n",
       "      <td>2025-07-31</td>\n",
       "      <td>6/26/2023</td>\n",
       "    </tr>\n",
       "    <tr>\n",
       "      <th>27</th>\n",
       "      <td>28</td>\n",
       "      <td>Rassle Sauerkraut</td>\n",
       "      <td>45.60</td>\n",
       "      <td>7</td>\n",
       "      <td>2025-08-31</td>\n",
       "      <td>6/27/2023</td>\n",
       "    </tr>\n",
       "    <tr>\n",
       "      <th>28</th>\n",
       "      <td>29</td>\n",
       "      <td>Tharinger Rostbratwurst</td>\n",
       "      <td>123.79</td>\n",
       "      <td>6</td>\n",
       "      <td>2025-09-30</td>\n",
       "      <td>6/28/2023</td>\n",
       "    </tr>\n",
       "    <tr>\n",
       "      <th>29</th>\n",
       "      <td>30</td>\n",
       "      <td>Nord-Ost Matjeshering</td>\n",
       "      <td>25.89</td>\n",
       "      <td>8</td>\n",
       "      <td>2025-10-31</td>\n",
       "      <td>6/29/2023</td>\n",
       "    </tr>\n",
       "    <tr>\n",
       "      <th>25</th>\n",
       "      <td>26</td>\n",
       "      <td>Gumbar Gummibarchen</td>\n",
       "      <td>31.23</td>\n",
       "      <td>3</td>\n",
       "      <td>2026-02-28</td>\n",
       "      <td>6/25/2023</td>\n",
       "    </tr>\n",
       "  </tbody>\n",
       "</table>\n",
       "</div>"
      ],
      "text/plain": [
       "    ProductID                      ProductName  UnitPrice  CategoryID   \n",
       "17         18                 Carnarvon Tigers      62.50           8  \\\n",
       "18         19       Teatime Chocolate Biscuits       9.20           3   \n",
       "19         20           Sir Rodney's Marmalade      81.00           3   \n",
       "20         21              Sir Rodney's Scones      10.00           3   \n",
       "21         22              Gustaf's Knackebrad      21.00           5   \n",
       "22         23                         Tunnbrad       9.00           5   \n",
       "23         24               Guarana Fantastica       4.50           1   \n",
       "24         25          NuNuCa Nua-Nougat-Creme      14.00           3   \n",
       "9          10                            Ikura      31.00           8   \n",
       "10         11                   Queso Cabrales      21.00           4   \n",
       "11         12        Queso Manchego La Pastora      38.00           4   \n",
       "12         13                            Konbu       6.00           8   \n",
       "13         14                             Tofu      23.25           7   \n",
       "14         15                     Genen Shouyu      15.50           2   \n",
       "15         16                          Pavlova      17.45           3   \n",
       "16         17                     Alice Mutton      39.00           6   \n",
       "0           1                             Chai      18.00           1   \n",
       "1           2                            Chang      19.00           1   \n",
       "2           3                    Aniseed Syrup      10.00           2   \n",
       "3           4     Chef Anton's Cajun Seasoning      22.00           2   \n",
       "4           5           Chef Anton's Gumbo Mix      21.35           2   \n",
       "5           6     Grandma's Boysenberry Spread      25.00           2   \n",
       "6           7  Uncle Bob's Organic Dried Pears      30.00           7   \n",
       "7           8       Northwoods Cranberry Sauce      40.00           2   \n",
       "8           9                  Mishi Kobe Niku      97.00           6   \n",
       "26         27               Schoggi Schokolade      43.90           3   \n",
       "27         28                Rassle Sauerkraut      45.60           7   \n",
       "28         29          Tharinger Rostbratwurst     123.79           6   \n",
       "29         30            Nord-Ost Matjeshering      25.89           8   \n",
       "25         26              Gumbar Gummibarchen      31.23           3   \n",
       "\n",
       "         Date      Date1  \n",
       "17 2023-05-24  6/17/2023  \n",
       "18 2023-05-25  6/18/2023  \n",
       "19 2023-05-26  6/19/2023  \n",
       "20 2023-05-27  6/20/2023  \n",
       "21 2023-05-28  6/21/2023  \n",
       "22 2023-05-29  6/22/2023  \n",
       "23 2023-05-30  6/23/2023  \n",
       "24 2023-05-31  6/24/2023  \n",
       "9  2024-02-29   6/9/2023  \n",
       "10 2024-03-31  6/10/2023  \n",
       "11 2024-04-30  6/11/2023  \n",
       "12 2024-05-31  6/12/2023  \n",
       "13 2024-06-30  6/13/2023  \n",
       "14 2024-07-31  6/14/2023  \n",
       "15 2024-08-31  6/15/2023  \n",
       "16 2024-09-30  6/16/2023  \n",
       "0  2024-11-22  5/31/2023  \n",
       "1  2024-11-23   6/1/2023  \n",
       "2  2024-11-24   6/2/2023  \n",
       "3  2024-11-25   6/3/2023  \n",
       "4  2024-11-26   6/4/2023  \n",
       "5  2024-11-27   6/5/2023  \n",
       "6  2024-11-28   6/6/2023  \n",
       "7  2024-11-29   6/7/2023  \n",
       "8  2024-11-30   6/8/2023  \n",
       "26 2025-07-31  6/26/2023  \n",
       "27 2025-08-31  6/27/2023  \n",
       "28 2025-09-30  6/28/2023  \n",
       "29 2025-10-31  6/29/2023  \n",
       "25 2026-02-28  6/25/2023  "
      ]
     },
     "execution_count": 15,
     "metadata": {},
     "output_type": "execute_result"
    }
   ],
   "source": [
    "products.head(30).sort_values(\"Date\")"
   ]
  },
  {
   "cell_type": "code",
   "execution_count": 18,
   "id": "fdc897f9",
   "metadata": {},
   "outputs": [],
   "source": [
    "products[\"val_Date\"]=pd.to_datetime(products[\"Date1\"],format=\"%m/%d/%Y\")"
   ]
  },
  {
   "cell_type": "code",
   "execution_count": 19,
   "id": "8e508a03",
   "metadata": {},
   "outputs": [
    {
     "data": {
      "text/html": [
       "<div>\n",
       "<style scoped>\n",
       "    .dataframe tbody tr th:only-of-type {\n",
       "        vertical-align: middle;\n",
       "    }\n",
       "\n",
       "    .dataframe tbody tr th {\n",
       "        vertical-align: top;\n",
       "    }\n",
       "\n",
       "    .dataframe thead th {\n",
       "        text-align: right;\n",
       "    }\n",
       "</style>\n",
       "<table border=\"1\" class=\"dataframe\">\n",
       "  <thead>\n",
       "    <tr style=\"text-align: right;\">\n",
       "      <th></th>\n",
       "      <th>ProductID</th>\n",
       "      <th>ProductName</th>\n",
       "      <th>UnitPrice</th>\n",
       "      <th>CategoryID</th>\n",
       "      <th>Date</th>\n",
       "      <th>Date1</th>\n",
       "      <th>val_Date</th>\n",
       "    </tr>\n",
       "  </thead>\n",
       "  <tbody>\n",
       "    <tr>\n",
       "      <th>0</th>\n",
       "      <td>1</td>\n",
       "      <td>Chai</td>\n",
       "      <td>18.00</td>\n",
       "      <td>1</td>\n",
       "      <td>2024-11-22</td>\n",
       "      <td>5/31/2023</td>\n",
       "      <td>2023-05-31</td>\n",
       "    </tr>\n",
       "    <tr>\n",
       "      <th>1</th>\n",
       "      <td>2</td>\n",
       "      <td>Chang</td>\n",
       "      <td>19.00</td>\n",
       "      <td>1</td>\n",
       "      <td>2024-11-23</td>\n",
       "      <td>6/1/2023</td>\n",
       "      <td>2023-06-01</td>\n",
       "    </tr>\n",
       "    <tr>\n",
       "      <th>2</th>\n",
       "      <td>3</td>\n",
       "      <td>Aniseed Syrup</td>\n",
       "      <td>10.00</td>\n",
       "      <td>2</td>\n",
       "      <td>2024-11-24</td>\n",
       "      <td>6/2/2023</td>\n",
       "      <td>2023-06-02</td>\n",
       "    </tr>\n",
       "    <tr>\n",
       "      <th>3</th>\n",
       "      <td>4</td>\n",
       "      <td>Chef Anton's Cajun Seasoning</td>\n",
       "      <td>22.00</td>\n",
       "      <td>2</td>\n",
       "      <td>2024-11-25</td>\n",
       "      <td>6/3/2023</td>\n",
       "      <td>2023-06-03</td>\n",
       "    </tr>\n",
       "    <tr>\n",
       "      <th>4</th>\n",
       "      <td>5</td>\n",
       "      <td>Chef Anton's Gumbo Mix</td>\n",
       "      <td>21.35</td>\n",
       "      <td>2</td>\n",
       "      <td>2024-11-26</td>\n",
       "      <td>6/4/2023</td>\n",
       "      <td>2023-06-04</td>\n",
       "    </tr>\n",
       "    <tr>\n",
       "      <th>...</th>\n",
       "      <td>...</td>\n",
       "      <td>...</td>\n",
       "      <td>...</td>\n",
       "      <td>...</td>\n",
       "      <td>...</td>\n",
       "      <td>...</td>\n",
       "      <td>...</td>\n",
       "    </tr>\n",
       "    <tr>\n",
       "      <th>72</th>\n",
       "      <td>73</td>\n",
       "      <td>Rad Kaviar</td>\n",
       "      <td>15.00</td>\n",
       "      <td>8</td>\n",
       "      <td>2029-05-31</td>\n",
       "      <td>8/11/2023</td>\n",
       "      <td>2023-08-11</td>\n",
       "    </tr>\n",
       "    <tr>\n",
       "      <th>73</th>\n",
       "      <td>74</td>\n",
       "      <td>Longlife Tofu</td>\n",
       "      <td>10.00</td>\n",
       "      <td>7</td>\n",
       "      <td>2029-06-30</td>\n",
       "      <td>8/12/2023</td>\n",
       "      <td>2023-08-12</td>\n",
       "    </tr>\n",
       "    <tr>\n",
       "      <th>74</th>\n",
       "      <td>75</td>\n",
       "      <td>Rhanbrau Klosterbier</td>\n",
       "      <td>7.75</td>\n",
       "      <td>1</td>\n",
       "      <td>2029-07-31</td>\n",
       "      <td>8/13/2023</td>\n",
       "      <td>2023-08-13</td>\n",
       "    </tr>\n",
       "    <tr>\n",
       "      <th>75</th>\n",
       "      <td>76</td>\n",
       "      <td>Lakkalikaari</td>\n",
       "      <td>18.00</td>\n",
       "      <td>1</td>\n",
       "      <td>2029-08-31</td>\n",
       "      <td>8/14/2023</td>\n",
       "      <td>2023-08-14</td>\n",
       "    </tr>\n",
       "    <tr>\n",
       "      <th>76</th>\n",
       "      <td>77</td>\n",
       "      <td>Original Frankfurter grane Soae</td>\n",
       "      <td>13.00</td>\n",
       "      <td>2</td>\n",
       "      <td>2029-09-30</td>\n",
       "      <td>8/15/2023</td>\n",
       "      <td>2023-08-15</td>\n",
       "    </tr>\n",
       "  </tbody>\n",
       "</table>\n",
       "<p>77 rows × 7 columns</p>\n",
       "</div>"
      ],
      "text/plain": [
       "    ProductID                      ProductName  UnitPrice  CategoryID   \n",
       "0           1                             Chai      18.00           1  \\\n",
       "1           2                            Chang      19.00           1   \n",
       "2           3                    Aniseed Syrup      10.00           2   \n",
       "3           4     Chef Anton's Cajun Seasoning      22.00           2   \n",
       "4           5           Chef Anton's Gumbo Mix      21.35           2   \n",
       "..        ...                              ...        ...         ...   \n",
       "72         73                       Rad Kaviar      15.00           8   \n",
       "73         74                    Longlife Tofu      10.00           7   \n",
       "74         75             Rhanbrau Klosterbier       7.75           1   \n",
       "75         76                     Lakkalikaari      18.00           1   \n",
       "76         77  Original Frankfurter grane Soae      13.00           2   \n",
       "\n",
       "         Date      Date1   val_Date  \n",
       "0  2024-11-22  5/31/2023 2023-05-31  \n",
       "1  2024-11-23   6/1/2023 2023-06-01  \n",
       "2  2024-11-24   6/2/2023 2023-06-02  \n",
       "3  2024-11-25   6/3/2023 2023-06-03  \n",
       "4  2024-11-26   6/4/2023 2023-06-04  \n",
       "..        ...        ...        ...  \n",
       "72 2029-05-31  8/11/2023 2023-08-11  \n",
       "73 2029-06-30  8/12/2023 2023-08-12  \n",
       "74 2029-07-31  8/13/2023 2023-08-13  \n",
       "75 2029-08-31  8/14/2023 2023-08-14  \n",
       "76 2029-09-30  8/15/2023 2023-08-15  \n",
       "\n",
       "[77 rows x 7 columns]"
      ]
     },
     "execution_count": 19,
     "metadata": {},
     "output_type": "execute_result"
    }
   ],
   "source": [
    "products"
   ]
  },
  {
   "cell_type": "code",
   "execution_count": 20,
   "id": "05550e0c",
   "metadata": {},
   "outputs": [],
   "source": [
    "import datetime as dt"
   ]
  },
  {
   "cell_type": "code",
   "execution_count": 21,
   "id": "19db3cc5",
   "metadata": {},
   "outputs": [
    {
     "data": {
      "text/plain": [
       "Timestamp('2023-06-07 18:44:06.311377')"
      ]
     },
     "execution_count": 21,
     "metadata": {},
     "output_type": "execute_result"
    }
   ],
   "source": [
    "pd.Timestamp.today()"
   ]
  },
  {
   "cell_type": "code",
   "execution_count": 22,
   "id": "3d3da6e0",
   "metadata": {},
   "outputs": [
    {
     "data": {
      "text/plain": [
       "0    2024\n",
       "1    2024\n",
       "2    2024\n",
       "3    2024\n",
       "4    2024\n",
       "Name: Date, dtype: int32"
      ]
     },
     "execution_count": 22,
     "metadata": {},
     "output_type": "execute_result"
    }
   ],
   "source": [
    "products[\"Date\"].dt.year.head()"
   ]
  },
  {
   "cell_type": "code",
   "execution_count": 23,
   "id": "b42778c3",
   "metadata": {},
   "outputs": [
    {
     "data": {
      "text/plain": [
       "0    11\n",
       "1    11\n",
       "2    11\n",
       "3    11\n",
       "4    11\n",
       "Name: Date, dtype: int32"
      ]
     },
     "execution_count": 23,
     "metadata": {},
     "output_type": "execute_result"
    }
   ],
   "source": [
    "products[\"Date\"].dt.month.head()"
   ]
  },
  {
   "cell_type": "code",
   "execution_count": 24,
   "id": "8241f234",
   "metadata": {},
   "outputs": [
    {
     "data": {
      "text/plain": [
       "0    22\n",
       "1    23\n",
       "2    24\n",
       "3    25\n",
       "4    26\n",
       "Name: Date, dtype: int32"
      ]
     },
     "execution_count": 24,
     "metadata": {},
     "output_type": "execute_result"
    }
   ],
   "source": [
    "products[\"Date\"].dt.day.head()"
   ]
  },
  {
   "cell_type": "code",
   "execution_count": 25,
   "id": "0c329871",
   "metadata": {},
   "outputs": [
    {
     "data": {
      "text/html": [
       "<div>\n",
       "<style scoped>\n",
       "    .dataframe tbody tr th:only-of-type {\n",
       "        vertical-align: middle;\n",
       "    }\n",
       "\n",
       "    .dataframe tbody tr th {\n",
       "        vertical-align: top;\n",
       "    }\n",
       "\n",
       "    .dataframe thead th {\n",
       "        text-align: right;\n",
       "    }\n",
       "</style>\n",
       "<table border=\"1\" class=\"dataframe\">\n",
       "  <thead>\n",
       "    <tr style=\"text-align: right;\">\n",
       "      <th></th>\n",
       "      <th>ProductID</th>\n",
       "      <th>ProductName</th>\n",
       "      <th>UnitPrice</th>\n",
       "      <th>CategoryID</th>\n",
       "      <th>Date</th>\n",
       "      <th>Date1</th>\n",
       "      <th>val_Date</th>\n",
       "      <th>year1</th>\n",
       "    </tr>\n",
       "  </thead>\n",
       "  <tbody>\n",
       "    <tr>\n",
       "      <th>0</th>\n",
       "      <td>1</td>\n",
       "      <td>Chai</td>\n",
       "      <td>18.00</td>\n",
       "      <td>1</td>\n",
       "      <td>2024-11-22</td>\n",
       "      <td>5/31/2023</td>\n",
       "      <td>2023-05-31</td>\n",
       "      <td>2024</td>\n",
       "    </tr>\n",
       "    <tr>\n",
       "      <th>1</th>\n",
       "      <td>2</td>\n",
       "      <td>Chang</td>\n",
       "      <td>19.00</td>\n",
       "      <td>1</td>\n",
       "      <td>2024-11-23</td>\n",
       "      <td>6/1/2023</td>\n",
       "      <td>2023-06-01</td>\n",
       "      <td>2024</td>\n",
       "    </tr>\n",
       "    <tr>\n",
       "      <th>2</th>\n",
       "      <td>3</td>\n",
       "      <td>Aniseed Syrup</td>\n",
       "      <td>10.00</td>\n",
       "      <td>2</td>\n",
       "      <td>2024-11-24</td>\n",
       "      <td>6/2/2023</td>\n",
       "      <td>2023-06-02</td>\n",
       "      <td>2024</td>\n",
       "    </tr>\n",
       "    <tr>\n",
       "      <th>3</th>\n",
       "      <td>4</td>\n",
       "      <td>Chef Anton's Cajun Seasoning</td>\n",
       "      <td>22.00</td>\n",
       "      <td>2</td>\n",
       "      <td>2024-11-25</td>\n",
       "      <td>6/3/2023</td>\n",
       "      <td>2023-06-03</td>\n",
       "      <td>2024</td>\n",
       "    </tr>\n",
       "    <tr>\n",
       "      <th>4</th>\n",
       "      <td>5</td>\n",
       "      <td>Chef Anton's Gumbo Mix</td>\n",
       "      <td>21.35</td>\n",
       "      <td>2</td>\n",
       "      <td>2024-11-26</td>\n",
       "      <td>6/4/2023</td>\n",
       "      <td>2023-06-04</td>\n",
       "      <td>2024</td>\n",
       "    </tr>\n",
       "  </tbody>\n",
       "</table>\n",
       "</div>"
      ],
      "text/plain": [
       "   ProductID                   ProductName  UnitPrice  CategoryID       Date   \n",
       "0          1                          Chai      18.00           1 2024-11-22  \\\n",
       "1          2                         Chang      19.00           1 2024-11-23   \n",
       "2          3                 Aniseed Syrup      10.00           2 2024-11-24   \n",
       "3          4  Chef Anton's Cajun Seasoning      22.00           2 2024-11-25   \n",
       "4          5        Chef Anton's Gumbo Mix      21.35           2 2024-11-26   \n",
       "\n",
       "       Date1   val_Date  year1  \n",
       "0  5/31/2023 2023-05-31   2024  \n",
       "1   6/1/2023 2023-06-01   2024  \n",
       "2   6/2/2023 2023-06-02   2024  \n",
       "3   6/3/2023 2023-06-03   2024  \n",
       "4   6/4/2023 2023-06-04   2024  "
      ]
     },
     "execution_count": 25,
     "metadata": {},
     "output_type": "execute_result"
    }
   ],
   "source": [
    "products.assign(year1 =products[\"Date\"].dt.year).head()"
   ]
  },
  {
   "cell_type": "code",
   "execution_count": 26,
   "id": "dcfc7a66",
   "metadata": {},
   "outputs": [
    {
     "data": {
      "text/html": [
       "<div>\n",
       "<style scoped>\n",
       "    .dataframe tbody tr th:only-of-type {\n",
       "        vertical-align: middle;\n",
       "    }\n",
       "\n",
       "    .dataframe tbody tr th {\n",
       "        vertical-align: top;\n",
       "    }\n",
       "\n",
       "    .dataframe thead th {\n",
       "        text-align: right;\n",
       "    }\n",
       "</style>\n",
       "<table border=\"1\" class=\"dataframe\">\n",
       "  <thead>\n",
       "    <tr style=\"text-align: right;\">\n",
       "      <th></th>\n",
       "      <th>ProductID</th>\n",
       "      <th>ProductName</th>\n",
       "      <th>UnitPrice</th>\n",
       "      <th>CategoryID</th>\n",
       "      <th>Date</th>\n",
       "      <th>Date1</th>\n",
       "      <th>val_Date</th>\n",
       "    </tr>\n",
       "  </thead>\n",
       "  <tbody>\n",
       "    <tr>\n",
       "      <th>0</th>\n",
       "      <td>1</td>\n",
       "      <td>Chai</td>\n",
       "      <td>18.00</td>\n",
       "      <td>1</td>\n",
       "      <td>2024-11-22</td>\n",
       "      <td>5/31/2023</td>\n",
       "      <td>2023-05-31</td>\n",
       "    </tr>\n",
       "    <tr>\n",
       "      <th>1</th>\n",
       "      <td>2</td>\n",
       "      <td>Chang</td>\n",
       "      <td>19.00</td>\n",
       "      <td>1</td>\n",
       "      <td>2024-11-23</td>\n",
       "      <td>6/1/2023</td>\n",
       "      <td>2023-06-01</td>\n",
       "    </tr>\n",
       "    <tr>\n",
       "      <th>2</th>\n",
       "      <td>3</td>\n",
       "      <td>Aniseed Syrup</td>\n",
       "      <td>10.00</td>\n",
       "      <td>2</td>\n",
       "      <td>2024-11-24</td>\n",
       "      <td>6/2/2023</td>\n",
       "      <td>2023-06-02</td>\n",
       "    </tr>\n",
       "    <tr>\n",
       "      <th>3</th>\n",
       "      <td>4</td>\n",
       "      <td>Chef Anton's Cajun Seasoning</td>\n",
       "      <td>22.00</td>\n",
       "      <td>2</td>\n",
       "      <td>2024-11-25</td>\n",
       "      <td>6/3/2023</td>\n",
       "      <td>2023-06-03</td>\n",
       "    </tr>\n",
       "    <tr>\n",
       "      <th>4</th>\n",
       "      <td>5</td>\n",
       "      <td>Chef Anton's Gumbo Mix</td>\n",
       "      <td>21.35</td>\n",
       "      <td>2</td>\n",
       "      <td>2024-11-26</td>\n",
       "      <td>6/4/2023</td>\n",
       "      <td>2023-06-04</td>\n",
       "    </tr>\n",
       "    <tr>\n",
       "      <th>...</th>\n",
       "      <td>...</td>\n",
       "      <td>...</td>\n",
       "      <td>...</td>\n",
       "      <td>...</td>\n",
       "      <td>...</td>\n",
       "      <td>...</td>\n",
       "      <td>...</td>\n",
       "    </tr>\n",
       "    <tr>\n",
       "      <th>72</th>\n",
       "      <td>73</td>\n",
       "      <td>Rad Kaviar</td>\n",
       "      <td>15.00</td>\n",
       "      <td>8</td>\n",
       "      <td>2029-05-31</td>\n",
       "      <td>8/11/2023</td>\n",
       "      <td>2023-08-11</td>\n",
       "    </tr>\n",
       "    <tr>\n",
       "      <th>73</th>\n",
       "      <td>74</td>\n",
       "      <td>Longlife Tofu</td>\n",
       "      <td>10.00</td>\n",
       "      <td>7</td>\n",
       "      <td>2029-06-30</td>\n",
       "      <td>8/12/2023</td>\n",
       "      <td>2023-08-12</td>\n",
       "    </tr>\n",
       "    <tr>\n",
       "      <th>74</th>\n",
       "      <td>75</td>\n",
       "      <td>Rhanbrau Klosterbier</td>\n",
       "      <td>7.75</td>\n",
       "      <td>1</td>\n",
       "      <td>2029-07-31</td>\n",
       "      <td>8/13/2023</td>\n",
       "      <td>2023-08-13</td>\n",
       "    </tr>\n",
       "    <tr>\n",
       "      <th>75</th>\n",
       "      <td>76</td>\n",
       "      <td>Lakkalikaari</td>\n",
       "      <td>18.00</td>\n",
       "      <td>1</td>\n",
       "      <td>2029-08-31</td>\n",
       "      <td>8/14/2023</td>\n",
       "      <td>2023-08-14</td>\n",
       "    </tr>\n",
       "    <tr>\n",
       "      <th>76</th>\n",
       "      <td>77</td>\n",
       "      <td>Original Frankfurter grane Soae</td>\n",
       "      <td>13.00</td>\n",
       "      <td>2</td>\n",
       "      <td>2029-09-30</td>\n",
       "      <td>8/15/2023</td>\n",
       "      <td>2023-08-15</td>\n",
       "    </tr>\n",
       "  </tbody>\n",
       "</table>\n",
       "<p>77 rows × 7 columns</p>\n",
       "</div>"
      ],
      "text/plain": [
       "    ProductID                      ProductName  UnitPrice  CategoryID   \n",
       "0           1                             Chai      18.00           1  \\\n",
       "1           2                            Chang      19.00           1   \n",
       "2           3                    Aniseed Syrup      10.00           2   \n",
       "3           4     Chef Anton's Cajun Seasoning      22.00           2   \n",
       "4           5           Chef Anton's Gumbo Mix      21.35           2   \n",
       "..        ...                              ...        ...         ...   \n",
       "72         73                       Rad Kaviar      15.00           8   \n",
       "73         74                    Longlife Tofu      10.00           7   \n",
       "74         75             Rhanbrau Klosterbier       7.75           1   \n",
       "75         76                     Lakkalikaari      18.00           1   \n",
       "76         77  Original Frankfurter grane Soae      13.00           2   \n",
       "\n",
       "         Date      Date1   val_Date  \n",
       "0  2024-11-22  5/31/2023 2023-05-31  \n",
       "1  2024-11-23   6/1/2023 2023-06-01  \n",
       "2  2024-11-24   6/2/2023 2023-06-02  \n",
       "3  2024-11-25   6/3/2023 2023-06-03  \n",
       "4  2024-11-26   6/4/2023 2023-06-04  \n",
       "..        ...        ...        ...  \n",
       "72 2029-05-31  8/11/2023 2023-08-11  \n",
       "73 2029-06-30  8/12/2023 2023-08-12  \n",
       "74 2029-07-31  8/13/2023 2023-08-13  \n",
       "75 2029-08-31  8/14/2023 2023-08-14  \n",
       "76 2029-09-30  8/15/2023 2023-08-15  \n",
       "\n",
       "[77 rows x 7 columns]"
      ]
     },
     "execution_count": 26,
     "metadata": {},
     "output_type": "execute_result"
    }
   ],
   "source": [
    "products"
   ]
  },
  {
   "cell_type": "code",
   "execution_count": 28,
   "id": "46cabcb8",
   "metadata": {},
   "outputs": [],
   "source": [
    "products.insert(5,'year',products[\"Date\"].dt.year)"
   ]
  },
  {
   "cell_type": "code",
   "execution_count": 29,
   "id": "6da08033",
   "metadata": {},
   "outputs": [
    {
     "data": {
      "text/html": [
       "<div>\n",
       "<style scoped>\n",
       "    .dataframe tbody tr th:only-of-type {\n",
       "        vertical-align: middle;\n",
       "    }\n",
       "\n",
       "    .dataframe tbody tr th {\n",
       "        vertical-align: top;\n",
       "    }\n",
       "\n",
       "    .dataframe thead th {\n",
       "        text-align: right;\n",
       "    }\n",
       "</style>\n",
       "<table border=\"1\" class=\"dataframe\">\n",
       "  <thead>\n",
       "    <tr style=\"text-align: right;\">\n",
       "      <th></th>\n",
       "      <th>ProductID</th>\n",
       "      <th>ProductName</th>\n",
       "      <th>UnitPrice</th>\n",
       "      <th>CategoryID</th>\n",
       "      <th>Date</th>\n",
       "      <th>year</th>\n",
       "      <th>Date1</th>\n",
       "      <th>val_Date</th>\n",
       "    </tr>\n",
       "  </thead>\n",
       "  <tbody>\n",
       "    <tr>\n",
       "      <th>0</th>\n",
       "      <td>1</td>\n",
       "      <td>Chai</td>\n",
       "      <td>18.00</td>\n",
       "      <td>1</td>\n",
       "      <td>2024-11-22</td>\n",
       "      <td>2024</td>\n",
       "      <td>5/31/2023</td>\n",
       "      <td>2023-05-31</td>\n",
       "    </tr>\n",
       "    <tr>\n",
       "      <th>1</th>\n",
       "      <td>2</td>\n",
       "      <td>Chang</td>\n",
       "      <td>19.00</td>\n",
       "      <td>1</td>\n",
       "      <td>2024-11-23</td>\n",
       "      <td>2024</td>\n",
       "      <td>6/1/2023</td>\n",
       "      <td>2023-06-01</td>\n",
       "    </tr>\n",
       "    <tr>\n",
       "      <th>2</th>\n",
       "      <td>3</td>\n",
       "      <td>Aniseed Syrup</td>\n",
       "      <td>10.00</td>\n",
       "      <td>2</td>\n",
       "      <td>2024-11-24</td>\n",
       "      <td>2024</td>\n",
       "      <td>6/2/2023</td>\n",
       "      <td>2023-06-02</td>\n",
       "    </tr>\n",
       "    <tr>\n",
       "      <th>3</th>\n",
       "      <td>4</td>\n",
       "      <td>Chef Anton's Cajun Seasoning</td>\n",
       "      <td>22.00</td>\n",
       "      <td>2</td>\n",
       "      <td>2024-11-25</td>\n",
       "      <td>2024</td>\n",
       "      <td>6/3/2023</td>\n",
       "      <td>2023-06-03</td>\n",
       "    </tr>\n",
       "    <tr>\n",
       "      <th>4</th>\n",
       "      <td>5</td>\n",
       "      <td>Chef Anton's Gumbo Mix</td>\n",
       "      <td>21.35</td>\n",
       "      <td>2</td>\n",
       "      <td>2024-11-26</td>\n",
       "      <td>2024</td>\n",
       "      <td>6/4/2023</td>\n",
       "      <td>2023-06-04</td>\n",
       "    </tr>\n",
       "    <tr>\n",
       "      <th>...</th>\n",
       "      <td>...</td>\n",
       "      <td>...</td>\n",
       "      <td>...</td>\n",
       "      <td>...</td>\n",
       "      <td>...</td>\n",
       "      <td>...</td>\n",
       "      <td>...</td>\n",
       "      <td>...</td>\n",
       "    </tr>\n",
       "    <tr>\n",
       "      <th>72</th>\n",
       "      <td>73</td>\n",
       "      <td>Rad Kaviar</td>\n",
       "      <td>15.00</td>\n",
       "      <td>8</td>\n",
       "      <td>2029-05-31</td>\n",
       "      <td>2029</td>\n",
       "      <td>8/11/2023</td>\n",
       "      <td>2023-08-11</td>\n",
       "    </tr>\n",
       "    <tr>\n",
       "      <th>73</th>\n",
       "      <td>74</td>\n",
       "      <td>Longlife Tofu</td>\n",
       "      <td>10.00</td>\n",
       "      <td>7</td>\n",
       "      <td>2029-06-30</td>\n",
       "      <td>2029</td>\n",
       "      <td>8/12/2023</td>\n",
       "      <td>2023-08-12</td>\n",
       "    </tr>\n",
       "    <tr>\n",
       "      <th>74</th>\n",
       "      <td>75</td>\n",
       "      <td>Rhanbrau Klosterbier</td>\n",
       "      <td>7.75</td>\n",
       "      <td>1</td>\n",
       "      <td>2029-07-31</td>\n",
       "      <td>2029</td>\n",
       "      <td>8/13/2023</td>\n",
       "      <td>2023-08-13</td>\n",
       "    </tr>\n",
       "    <tr>\n",
       "      <th>75</th>\n",
       "      <td>76</td>\n",
       "      <td>Lakkalikaari</td>\n",
       "      <td>18.00</td>\n",
       "      <td>1</td>\n",
       "      <td>2029-08-31</td>\n",
       "      <td>2029</td>\n",
       "      <td>8/14/2023</td>\n",
       "      <td>2023-08-14</td>\n",
       "    </tr>\n",
       "    <tr>\n",
       "      <th>76</th>\n",
       "      <td>77</td>\n",
       "      <td>Original Frankfurter grane Soae</td>\n",
       "      <td>13.00</td>\n",
       "      <td>2</td>\n",
       "      <td>2029-09-30</td>\n",
       "      <td>2029</td>\n",
       "      <td>8/15/2023</td>\n",
       "      <td>2023-08-15</td>\n",
       "    </tr>\n",
       "  </tbody>\n",
       "</table>\n",
       "<p>77 rows × 8 columns</p>\n",
       "</div>"
      ],
      "text/plain": [
       "    ProductID                      ProductName  UnitPrice  CategoryID   \n",
       "0           1                             Chai      18.00           1  \\\n",
       "1           2                            Chang      19.00           1   \n",
       "2           3                    Aniseed Syrup      10.00           2   \n",
       "3           4     Chef Anton's Cajun Seasoning      22.00           2   \n",
       "4           5           Chef Anton's Gumbo Mix      21.35           2   \n",
       "..        ...                              ...        ...         ...   \n",
       "72         73                       Rad Kaviar      15.00           8   \n",
       "73         74                    Longlife Tofu      10.00           7   \n",
       "74         75             Rhanbrau Klosterbier       7.75           1   \n",
       "75         76                     Lakkalikaari      18.00           1   \n",
       "76         77  Original Frankfurter grane Soae      13.00           2   \n",
       "\n",
       "         Date  year      Date1   val_Date  \n",
       "0  2024-11-22  2024  5/31/2023 2023-05-31  \n",
       "1  2024-11-23  2024   6/1/2023 2023-06-01  \n",
       "2  2024-11-24  2024   6/2/2023 2023-06-02  \n",
       "3  2024-11-25  2024   6/3/2023 2023-06-03  \n",
       "4  2024-11-26  2024   6/4/2023 2023-06-04  \n",
       "..        ...   ...        ...        ...  \n",
       "72 2029-05-31  2029  8/11/2023 2023-08-11  \n",
       "73 2029-06-30  2029  8/12/2023 2023-08-12  \n",
       "74 2029-07-31  2029  8/13/2023 2023-08-13  \n",
       "75 2029-08-31  2029  8/14/2023 2023-08-14  \n",
       "76 2029-09-30  2029  8/15/2023 2023-08-15  \n",
       "\n",
       "[77 rows x 8 columns]"
      ]
     },
     "execution_count": 29,
     "metadata": {},
     "output_type": "execute_result"
    }
   ],
   "source": [
    "products"
   ]
  },
  {
   "cell_type": "code",
   "execution_count": null,
   "id": "13dafcf5",
   "metadata": {},
   "outputs": [],
   "source": [
    "products.insert(0,'month',products[\"Date\"].dt.month)"
   ]
  },
  {
   "cell_type": "code",
   "execution_count": 34,
   "id": "4b3bce69",
   "metadata": {},
   "outputs": [
    {
     "data": {
      "text/html": [
       "<div>\n",
       "<style scoped>\n",
       "    .dataframe tbody tr th:only-of-type {\n",
       "        vertical-align: middle;\n",
       "    }\n",
       "\n",
       "    .dataframe tbody tr th {\n",
       "        vertical-align: top;\n",
       "    }\n",
       "\n",
       "    .dataframe thead th {\n",
       "        text-align: right;\n",
       "    }\n",
       "</style>\n",
       "<table border=\"1\" class=\"dataframe\">\n",
       "  <thead>\n",
       "    <tr style=\"text-align: right;\">\n",
       "      <th></th>\n",
       "      <th>month</th>\n",
       "      <th>ProductID</th>\n",
       "      <th>ProductName</th>\n",
       "      <th>UnitPrice</th>\n",
       "      <th>CategoryID</th>\n",
       "      <th>Date</th>\n",
       "      <th>year</th>\n",
       "      <th>Date1</th>\n",
       "      <th>val_Date</th>\n",
       "    </tr>\n",
       "  </thead>\n",
       "  <tbody>\n",
       "    <tr>\n",
       "      <th>0</th>\n",
       "      <td>11</td>\n",
       "      <td>1</td>\n",
       "      <td>Chai</td>\n",
       "      <td>18.00</td>\n",
       "      <td>1</td>\n",
       "      <td>2024-11-22</td>\n",
       "      <td>2024</td>\n",
       "      <td>5/31/2023</td>\n",
       "      <td>2023-05-31</td>\n",
       "    </tr>\n",
       "    <tr>\n",
       "      <th>1</th>\n",
       "      <td>11</td>\n",
       "      <td>2</td>\n",
       "      <td>Chang</td>\n",
       "      <td>19.00</td>\n",
       "      <td>1</td>\n",
       "      <td>2024-11-23</td>\n",
       "      <td>2024</td>\n",
       "      <td>6/1/2023</td>\n",
       "      <td>2023-06-01</td>\n",
       "    </tr>\n",
       "    <tr>\n",
       "      <th>2</th>\n",
       "      <td>11</td>\n",
       "      <td>3</td>\n",
       "      <td>Aniseed Syrup</td>\n",
       "      <td>10.00</td>\n",
       "      <td>2</td>\n",
       "      <td>2024-11-24</td>\n",
       "      <td>2024</td>\n",
       "      <td>6/2/2023</td>\n",
       "      <td>2023-06-02</td>\n",
       "    </tr>\n",
       "    <tr>\n",
       "      <th>3</th>\n",
       "      <td>11</td>\n",
       "      <td>4</td>\n",
       "      <td>Chef Anton's Cajun Seasoning</td>\n",
       "      <td>22.00</td>\n",
       "      <td>2</td>\n",
       "      <td>2024-11-25</td>\n",
       "      <td>2024</td>\n",
       "      <td>6/3/2023</td>\n",
       "      <td>2023-06-03</td>\n",
       "    </tr>\n",
       "    <tr>\n",
       "      <th>4</th>\n",
       "      <td>11</td>\n",
       "      <td>5</td>\n",
       "      <td>Chef Anton's Gumbo Mix</td>\n",
       "      <td>21.35</td>\n",
       "      <td>2</td>\n",
       "      <td>2024-11-26</td>\n",
       "      <td>2024</td>\n",
       "      <td>6/4/2023</td>\n",
       "      <td>2023-06-04</td>\n",
       "    </tr>\n",
       "    <tr>\n",
       "      <th>...</th>\n",
       "      <td>...</td>\n",
       "      <td>...</td>\n",
       "      <td>...</td>\n",
       "      <td>...</td>\n",
       "      <td>...</td>\n",
       "      <td>...</td>\n",
       "      <td>...</td>\n",
       "      <td>...</td>\n",
       "      <td>...</td>\n",
       "    </tr>\n",
       "    <tr>\n",
       "      <th>72</th>\n",
       "      <td>5</td>\n",
       "      <td>73</td>\n",
       "      <td>Rad Kaviar</td>\n",
       "      <td>15.00</td>\n",
       "      <td>8</td>\n",
       "      <td>2029-05-31</td>\n",
       "      <td>2029</td>\n",
       "      <td>8/11/2023</td>\n",
       "      <td>2023-08-11</td>\n",
       "    </tr>\n",
       "    <tr>\n",
       "      <th>73</th>\n",
       "      <td>6</td>\n",
       "      <td>74</td>\n",
       "      <td>Longlife Tofu</td>\n",
       "      <td>10.00</td>\n",
       "      <td>7</td>\n",
       "      <td>2029-06-30</td>\n",
       "      <td>2029</td>\n",
       "      <td>8/12/2023</td>\n",
       "      <td>2023-08-12</td>\n",
       "    </tr>\n",
       "    <tr>\n",
       "      <th>74</th>\n",
       "      <td>7</td>\n",
       "      <td>75</td>\n",
       "      <td>Rhanbrau Klosterbier</td>\n",
       "      <td>7.75</td>\n",
       "      <td>1</td>\n",
       "      <td>2029-07-31</td>\n",
       "      <td>2029</td>\n",
       "      <td>8/13/2023</td>\n",
       "      <td>2023-08-13</td>\n",
       "    </tr>\n",
       "    <tr>\n",
       "      <th>75</th>\n",
       "      <td>8</td>\n",
       "      <td>76</td>\n",
       "      <td>Lakkalikaari</td>\n",
       "      <td>18.00</td>\n",
       "      <td>1</td>\n",
       "      <td>2029-08-31</td>\n",
       "      <td>2029</td>\n",
       "      <td>8/14/2023</td>\n",
       "      <td>2023-08-14</td>\n",
       "    </tr>\n",
       "    <tr>\n",
       "      <th>76</th>\n",
       "      <td>9</td>\n",
       "      <td>77</td>\n",
       "      <td>Original Frankfurter grane Soae</td>\n",
       "      <td>13.00</td>\n",
       "      <td>2</td>\n",
       "      <td>2029-09-30</td>\n",
       "      <td>2029</td>\n",
       "      <td>8/15/2023</td>\n",
       "      <td>2023-08-15</td>\n",
       "    </tr>\n",
       "  </tbody>\n",
       "</table>\n",
       "<p>77 rows × 9 columns</p>\n",
       "</div>"
      ],
      "text/plain": [
       "    month  ProductID                      ProductName  UnitPrice  CategoryID   \n",
       "0      11          1                             Chai      18.00           1  \\\n",
       "1      11          2                            Chang      19.00           1   \n",
       "2      11          3                    Aniseed Syrup      10.00           2   \n",
       "3      11          4     Chef Anton's Cajun Seasoning      22.00           2   \n",
       "4      11          5           Chef Anton's Gumbo Mix      21.35           2   \n",
       "..    ...        ...                              ...        ...         ...   \n",
       "72      5         73                       Rad Kaviar      15.00           8   \n",
       "73      6         74                    Longlife Tofu      10.00           7   \n",
       "74      7         75             Rhanbrau Klosterbier       7.75           1   \n",
       "75      8         76                     Lakkalikaari      18.00           1   \n",
       "76      9         77  Original Frankfurter grane Soae      13.00           2   \n",
       "\n",
       "         Date  year      Date1   val_Date  \n",
       "0  2024-11-22  2024  5/31/2023 2023-05-31  \n",
       "1  2024-11-23  2024   6/1/2023 2023-06-01  \n",
       "2  2024-11-24  2024   6/2/2023 2023-06-02  \n",
       "3  2024-11-25  2024   6/3/2023 2023-06-03  \n",
       "4  2024-11-26  2024   6/4/2023 2023-06-04  \n",
       "..        ...   ...        ...        ...  \n",
       "72 2029-05-31  2029  8/11/2023 2023-08-11  \n",
       "73 2029-06-30  2029  8/12/2023 2023-08-12  \n",
       "74 2029-07-31  2029  8/13/2023 2023-08-13  \n",
       "75 2029-08-31  2029  8/14/2023 2023-08-14  \n",
       "76 2029-09-30  2029  8/15/2023 2023-08-15  \n",
       "\n",
       "[77 rows x 9 columns]"
      ]
     },
     "execution_count": 34,
     "metadata": {},
     "output_type": "execute_result"
    }
   ],
   "source": [
    "products"
   ]
  },
  {
   "cell_type": "code",
   "execution_count": 35,
   "id": "ea161107",
   "metadata": {},
   "outputs": [],
   "source": [
    "products[\"MM\"]=products[\"Date\"].dt.month.head()"
   ]
  },
  {
   "cell_type": "code",
   "execution_count": 36,
   "id": "9df1a6af",
   "metadata": {},
   "outputs": [
    {
     "data": {
      "text/html": [
       "<div>\n",
       "<style scoped>\n",
       "    .dataframe tbody tr th:only-of-type {\n",
       "        vertical-align: middle;\n",
       "    }\n",
       "\n",
       "    .dataframe tbody tr th {\n",
       "        vertical-align: top;\n",
       "    }\n",
       "\n",
       "    .dataframe thead th {\n",
       "        text-align: right;\n",
       "    }\n",
       "</style>\n",
       "<table border=\"1\" class=\"dataframe\">\n",
       "  <thead>\n",
       "    <tr style=\"text-align: right;\">\n",
       "      <th></th>\n",
       "      <th>month</th>\n",
       "      <th>ProductID</th>\n",
       "      <th>ProductName</th>\n",
       "      <th>UnitPrice</th>\n",
       "      <th>CategoryID</th>\n",
       "      <th>Date</th>\n",
       "      <th>year</th>\n",
       "      <th>Date1</th>\n",
       "      <th>val_Date</th>\n",
       "      <th>MM</th>\n",
       "    </tr>\n",
       "  </thead>\n",
       "  <tbody>\n",
       "    <tr>\n",
       "      <th>0</th>\n",
       "      <td>11</td>\n",
       "      <td>1</td>\n",
       "      <td>Chai</td>\n",
       "      <td>18.00</td>\n",
       "      <td>1</td>\n",
       "      <td>2024-11-22</td>\n",
       "      <td>2024</td>\n",
       "      <td>5/31/2023</td>\n",
       "      <td>2023-05-31</td>\n",
       "      <td>11.0</td>\n",
       "    </tr>\n",
       "    <tr>\n",
       "      <th>1</th>\n",
       "      <td>11</td>\n",
       "      <td>2</td>\n",
       "      <td>Chang</td>\n",
       "      <td>19.00</td>\n",
       "      <td>1</td>\n",
       "      <td>2024-11-23</td>\n",
       "      <td>2024</td>\n",
       "      <td>6/1/2023</td>\n",
       "      <td>2023-06-01</td>\n",
       "      <td>11.0</td>\n",
       "    </tr>\n",
       "    <tr>\n",
       "      <th>2</th>\n",
       "      <td>11</td>\n",
       "      <td>3</td>\n",
       "      <td>Aniseed Syrup</td>\n",
       "      <td>10.00</td>\n",
       "      <td>2</td>\n",
       "      <td>2024-11-24</td>\n",
       "      <td>2024</td>\n",
       "      <td>6/2/2023</td>\n",
       "      <td>2023-06-02</td>\n",
       "      <td>11.0</td>\n",
       "    </tr>\n",
       "    <tr>\n",
       "      <th>3</th>\n",
       "      <td>11</td>\n",
       "      <td>4</td>\n",
       "      <td>Chef Anton's Cajun Seasoning</td>\n",
       "      <td>22.00</td>\n",
       "      <td>2</td>\n",
       "      <td>2024-11-25</td>\n",
       "      <td>2024</td>\n",
       "      <td>6/3/2023</td>\n",
       "      <td>2023-06-03</td>\n",
       "      <td>11.0</td>\n",
       "    </tr>\n",
       "    <tr>\n",
       "      <th>4</th>\n",
       "      <td>11</td>\n",
       "      <td>5</td>\n",
       "      <td>Chef Anton's Gumbo Mix</td>\n",
       "      <td>21.35</td>\n",
       "      <td>2</td>\n",
       "      <td>2024-11-26</td>\n",
       "      <td>2024</td>\n",
       "      <td>6/4/2023</td>\n",
       "      <td>2023-06-04</td>\n",
       "      <td>11.0</td>\n",
       "    </tr>\n",
       "  </tbody>\n",
       "</table>\n",
       "</div>"
      ],
      "text/plain": [
       "   month  ProductID                   ProductName  UnitPrice  CategoryID   \n",
       "0     11          1                          Chai      18.00           1  \\\n",
       "1     11          2                         Chang      19.00           1   \n",
       "2     11          3                 Aniseed Syrup      10.00           2   \n",
       "3     11          4  Chef Anton's Cajun Seasoning      22.00           2   \n",
       "4     11          5        Chef Anton's Gumbo Mix      21.35           2   \n",
       "\n",
       "        Date  year      Date1   val_Date    MM  \n",
       "0 2024-11-22  2024  5/31/2023 2023-05-31  11.0  \n",
       "1 2024-11-23  2024   6/1/2023 2023-06-01  11.0  \n",
       "2 2024-11-24  2024   6/2/2023 2023-06-02  11.0  \n",
       "3 2024-11-25  2024   6/3/2023 2023-06-03  11.0  \n",
       "4 2024-11-26  2024   6/4/2023 2023-06-04  11.0  "
      ]
     },
     "execution_count": 36,
     "metadata": {},
     "output_type": "execute_result"
    }
   ],
   "source": [
    "products.head()"
   ]
  },
  {
   "cell_type": "code",
   "execution_count": 37,
   "id": "d453c8f0",
   "metadata": {},
   "outputs": [
    {
     "data": {
      "text/plain": [
       "0    22\n",
       "1    23\n",
       "2    24\n",
       "3    25\n",
       "4    26\n",
       "Name: Date, dtype: int32"
      ]
     },
     "execution_count": 37,
     "metadata": {},
     "output_type": "execute_result"
    }
   ],
   "source": [
    "products[\"Date\"].dt.day.head()"
   ]
  },
  {
   "cell_type": "code",
   "execution_count": 38,
   "id": "e740f906",
   "metadata": {},
   "outputs": [
    {
     "data": {
      "text/plain": [
       "0   2024-11-23\n",
       "1   2024-11-24\n",
       "2   2024-11-25\n",
       "3   2024-11-26\n",
       "4   2024-11-27\n",
       "Name: Date, dtype: datetime64[ns]"
      ]
     },
     "execution_count": 38,
     "metadata": {},
     "output_type": "execute_result"
    }
   ],
   "source": [
    "(products[\"Date\"] + pd.DateOffset(days=1)).head()"
   ]
  },
  {
   "cell_type": "code",
   "execution_count": 39,
   "id": "274b421b",
   "metadata": {},
   "outputs": [
    {
     "data": {
      "text/plain": [
       "0   2022-09-21\n",
       "1   2022-09-22\n",
       "2   2022-09-23\n",
       "3   2022-09-24\n",
       "4   2022-09-25\n",
       "Name: Date, dtype: datetime64[ns]"
      ]
     },
     "execution_count": 39,
     "metadata": {},
     "output_type": "execute_result"
    }
   ],
   "source": [
    "(products[\"Date\"] - pd.DateOffset(days=1,months=2,years=2)).head()"
   ]
  },
  {
   "cell_type": "code",
   "execution_count": 40,
   "id": "91b16ec5",
   "metadata": {},
   "outputs": [
    {
     "data": {
      "text/plain": [
       "0   533 days 05:05:20.893869\n",
       "1   534 days 05:05:20.893869\n",
       "2   535 days 05:05:20.893869\n",
       "3   536 days 05:05:20.893869\n",
       "4   537 days 05:05:20.893869\n",
       "Name: Date, dtype: timedelta64[ns]"
      ]
     },
     "execution_count": 40,
     "metadata": {},
     "output_type": "execute_result"
    }
   ],
   "source": [
    "(products[\"Date\"] - pd.Timestamp.today()).head()"
   ]
  },
  {
   "cell_type": "code",
   "execution_count": 52,
   "id": "3bb00ab5",
   "metadata": {},
   "outputs": [
    {
     "data": {
      "text/plain": [
       "0     1.460274\n",
       "1     1.463014\n",
       "2     1.465753\n",
       "3     1.468493\n",
       "4     1.471233\n",
       "        ...   \n",
       "72    5.983562\n",
       "73    6.065753\n",
       "74    6.150685\n",
       "75    6.235616\n",
       "76    6.317808\n",
       "Name: Date, Length: 77, dtype: float64"
      ]
     },
     "execution_count": 52,
     "metadata": {},
     "output_type": "execute_result"
    }
   ],
   "source": [
    "(products[\"Date\"] - pd.Timestamp.today()).dt.days/365"
   ]
  },
  {
   "cell_type": "code",
   "execution_count": 42,
   "id": "217342b4",
   "metadata": {},
   "outputs": [],
   "source": [
    "orders = pd.read_excel(\"data/orders.xlsx\")"
   ]
  },
  {
   "cell_type": "code",
   "execution_count": 43,
   "id": "11f5bac4",
   "metadata": {},
   "outputs": [
    {
     "data": {
      "text/html": [
       "<div>\n",
       "<style scoped>\n",
       "    .dataframe tbody tr th:only-of-type {\n",
       "        vertical-align: middle;\n",
       "    }\n",
       "\n",
       "    .dataframe tbody tr th {\n",
       "        vertical-align: top;\n",
       "    }\n",
       "\n",
       "    .dataframe thead th {\n",
       "        text-align: right;\n",
       "    }\n",
       "</style>\n",
       "<table border=\"1\" class=\"dataframe\">\n",
       "  <thead>\n",
       "    <tr style=\"text-align: right;\">\n",
       "      <th></th>\n",
       "      <th>OrderID</th>\n",
       "      <th>CustomerID</th>\n",
       "      <th>EmployeeID</th>\n",
       "      <th>OrderDate</th>\n",
       "      <th>RequiredDate</th>\n",
       "      <th>ShippedDate</th>\n",
       "      <th>ShipVia</th>\n",
       "      <th>Freight</th>\n",
       "      <th>ShipName</th>\n",
       "      <th>ShipAddress</th>\n",
       "      <th>ShipCity</th>\n",
       "      <th>ShipRegion</th>\n",
       "      <th>ShipPostalCode</th>\n",
       "      <th>ShipCountry</th>\n",
       "    </tr>\n",
       "  </thead>\n",
       "  <tbody>\n",
       "    <tr>\n",
       "      <th>0</th>\n",
       "      <td>10248</td>\n",
       "      <td>VINET</td>\n",
       "      <td>5</td>\n",
       "      <td>1996-07-04</td>\n",
       "      <td>1996-08-01</td>\n",
       "      <td>1996-07-16</td>\n",
       "      <td>3</td>\n",
       "      <td>32.38</td>\n",
       "      <td>Vins et alcools Chevalier</td>\n",
       "      <td>59 rue de l'Abbaye</td>\n",
       "      <td>Reims</td>\n",
       "      <td>NaN</td>\n",
       "      <td>51100</td>\n",
       "      <td>France</td>\n",
       "    </tr>\n",
       "    <tr>\n",
       "      <th>1</th>\n",
       "      <td>10249</td>\n",
       "      <td>TOMSP</td>\n",
       "      <td>6</td>\n",
       "      <td>1996-07-05</td>\n",
       "      <td>1996-08-16</td>\n",
       "      <td>1996-07-10</td>\n",
       "      <td>1</td>\n",
       "      <td>11.61</td>\n",
       "      <td>Toms Spezialitäten</td>\n",
       "      <td>Luisenstr. 48</td>\n",
       "      <td>Münster</td>\n",
       "      <td>NaN</td>\n",
       "      <td>44087</td>\n",
       "      <td>Germany</td>\n",
       "    </tr>\n",
       "    <tr>\n",
       "      <th>2</th>\n",
       "      <td>10250</td>\n",
       "      <td>HANAR</td>\n",
       "      <td>4</td>\n",
       "      <td>1996-07-08</td>\n",
       "      <td>1996-08-05</td>\n",
       "      <td>1996-07-12</td>\n",
       "      <td>2</td>\n",
       "      <td>65.83</td>\n",
       "      <td>Hanari Carnes</td>\n",
       "      <td>Rua do Paço, 67</td>\n",
       "      <td>Rio de Janeiro</td>\n",
       "      <td>RJ</td>\n",
       "      <td>05454-876</td>\n",
       "      <td>Brazil</td>\n",
       "    </tr>\n",
       "    <tr>\n",
       "      <th>3</th>\n",
       "      <td>10251</td>\n",
       "      <td>VICTE</td>\n",
       "      <td>3</td>\n",
       "      <td>1996-07-08</td>\n",
       "      <td>1996-08-05</td>\n",
       "      <td>1996-07-15</td>\n",
       "      <td>1</td>\n",
       "      <td>41.34</td>\n",
       "      <td>Victuailles en stock</td>\n",
       "      <td>2, rue du Commerce</td>\n",
       "      <td>Lyon</td>\n",
       "      <td>NaN</td>\n",
       "      <td>69004</td>\n",
       "      <td>France</td>\n",
       "    </tr>\n",
       "    <tr>\n",
       "      <th>4</th>\n",
       "      <td>10252</td>\n",
       "      <td>SUPRD</td>\n",
       "      <td>4</td>\n",
       "      <td>1996-07-09</td>\n",
       "      <td>1996-08-06</td>\n",
       "      <td>1996-07-11</td>\n",
       "      <td>2</td>\n",
       "      <td>51.30</td>\n",
       "      <td>Suprêmes délices</td>\n",
       "      <td>Boulevard Tirou, 255</td>\n",
       "      <td>Charleroi</td>\n",
       "      <td>NaN</td>\n",
       "      <td>B-6000</td>\n",
       "      <td>Belgium</td>\n",
       "    </tr>\n",
       "  </tbody>\n",
       "</table>\n",
       "</div>"
      ],
      "text/plain": [
       "   OrderID CustomerID  EmployeeID  OrderDate RequiredDate ShippedDate   \n",
       "0    10248      VINET           5 1996-07-04   1996-08-01  1996-07-16  \\\n",
       "1    10249      TOMSP           6 1996-07-05   1996-08-16  1996-07-10   \n",
       "2    10250      HANAR           4 1996-07-08   1996-08-05  1996-07-12   \n",
       "3    10251      VICTE           3 1996-07-08   1996-08-05  1996-07-15   \n",
       "4    10252      SUPRD           4 1996-07-09   1996-08-06  1996-07-11   \n",
       "\n",
       "   ShipVia  Freight                   ShipName           ShipAddress   \n",
       "0        3    32.38  Vins et alcools Chevalier    59 rue de l'Abbaye  \\\n",
       "1        1    11.61         Toms Spezialitäten         Luisenstr. 48   \n",
       "2        2    65.83              Hanari Carnes       Rua do Paço, 67   \n",
       "3        1    41.34       Victuailles en stock    2, rue du Commerce   \n",
       "4        2    51.30           Suprêmes délices  Boulevard Tirou, 255   \n",
       "\n",
       "         ShipCity ShipRegion ShipPostalCode ShipCountry  \n",
       "0           Reims        NaN          51100      France  \n",
       "1         Münster        NaN          44087     Germany  \n",
       "2  Rio de Janeiro         RJ      05454-876      Brazil  \n",
       "3            Lyon        NaN          69004      France  \n",
       "4       Charleroi        NaN         B-6000     Belgium  "
      ]
     },
     "execution_count": 43,
     "metadata": {},
     "output_type": "execute_result"
    }
   ],
   "source": [
    "orders.head()"
   ]
  },
  {
   "cell_type": "code",
   "execution_count": 44,
   "id": "bc551417",
   "metadata": {},
   "outputs": [
    {
     "name": "stdout",
     "output_type": "stream",
     "text": [
      "<class 'pandas.core.frame.DataFrame'>\n",
      "RangeIndex: 830 entries, 0 to 829\n",
      "Data columns (total 14 columns):\n",
      " #   Column          Non-Null Count  Dtype         \n",
      "---  ------          --------------  -----         \n",
      " 0   OrderID         830 non-null    int64         \n",
      " 1   CustomerID      830 non-null    object        \n",
      " 2   EmployeeID      830 non-null    int64         \n",
      " 3   OrderDate       830 non-null    datetime64[ns]\n",
      " 4   RequiredDate    830 non-null    datetime64[ns]\n",
      " 5   ShippedDate     809 non-null    datetime64[ns]\n",
      " 6   ShipVia         830 non-null    int64         \n",
      " 7   Freight         830 non-null    float64       \n",
      " 8   ShipName        830 non-null    object        \n",
      " 9   ShipAddress     830 non-null    object        \n",
      " 10  ShipCity        830 non-null    object        \n",
      " 11  ShipRegion      323 non-null    object        \n",
      " 12  ShipPostalCode  811 non-null    object        \n",
      " 13  ShipCountry     830 non-null    object        \n",
      "dtypes: datetime64[ns](3), float64(1), int64(3), object(7)\n",
      "memory usage: 90.9+ KB\n"
     ]
    }
   ],
   "source": [
    "orders.info()"
   ]
  },
  {
   "cell_type": "code",
   "execution_count": 45,
   "id": "cab86f9d",
   "metadata": {},
   "outputs": [],
   "source": [
    "timedelta_day=pd.Timestamp.today() -orders[\"OrderDate\"]"
   ]
  },
  {
   "cell_type": "code",
   "execution_count": 47,
   "id": "3a0060b4",
   "metadata": {},
   "outputs": [
    {
     "data": {
      "text/plain": [
       "0     9834 days 18:57:46.801637\n",
       "1     9833 days 18:57:46.801637\n",
       "2     9830 days 18:57:46.801637\n",
       "3     9830 days 18:57:46.801637\n",
       "4     9829 days 18:57:46.801637\n",
       "                 ...           \n",
       "825   9164 days 18:57:46.801637\n",
       "826   9163 days 18:57:46.801637\n",
       "827   9163 days 18:57:46.801637\n",
       "828   9163 days 18:57:46.801637\n",
       "829   9163 days 18:57:46.801637\n",
       "Name: OrderDate, Length: 830, dtype: timedelta64[ns]"
      ]
     },
     "execution_count": 47,
     "metadata": {},
     "output_type": "execute_result"
    }
   ],
   "source": [
    "timedelta_day"
   ]
  },
  {
   "cell_type": "code",
   "execution_count": 48,
   "id": "7ead8776",
   "metadata": {},
   "outputs": [
    {
     "data": {
      "text/plain": [
       "0      26.942466\n",
       "1      26.939726\n",
       "2      26.931507\n",
       "3      26.931507\n",
       "4      26.928767\n",
       "         ...    \n",
       "825    25.106849\n",
       "826    25.104110\n",
       "827    25.104110\n",
       "828    25.104110\n",
       "829    25.104110\n",
       "Name: OrderDate, Length: 830, dtype: float64"
      ]
     },
     "execution_count": 48,
     "metadata": {},
     "output_type": "execute_result"
    }
   ],
   "source": [
    "timedelta_day.dt.days/365"
   ]
  },
  {
   "cell_type": "code",
   "execution_count": 54,
   "id": "1a82e509",
   "metadata": {},
   "outputs": [],
   "source": [
    "import numpy as np"
   ]
  },
  {
   "cell_type": "code",
   "execution_count": null,
   "id": "9710de4b",
   "metadata": {},
   "outputs": [],
   "source": [
    "#timedelta— A duration of time used for manipulating dates"
   ]
  },
  {
   "cell_type": "code",
   "execution_count": 55,
   "id": "ef73efb3",
   "metadata": {},
   "outputs": [
    {
     "name": "stdout",
     "output_type": "stream",
     "text": [
      "1 years\n"
     ]
    }
   ],
   "source": [
    "ld = pd.Timestamp.today()\n",
    "td=np.timedelta64(1,'Y')\n",
    "print(td)"
   ]
  },
  {
   "cell_type": "code",
   "execution_count": 56,
   "id": "e4698494",
   "metadata": {},
   "outputs": [
    {
     "name": "stdout",
     "output_type": "stream",
     "text": [
      "1 months\n"
     ]
    }
   ],
   "source": [
    "ld = pd.Timestamp.today()\n",
    "td=np.timedelta64(1,'M')\n",
    "print(td)"
   ]
  },
  {
   "cell_type": "code",
   "execution_count": 57,
   "id": "87562e25",
   "metadata": {},
   "outputs": [
    {
     "name": "stdout",
     "output_type": "stream",
     "text": [
      "1 days\n"
     ]
    }
   ],
   "source": [
    "ld = pd.Timestamp.today()\n",
    "td=np.timedelta64(1,'D')\n",
    "print(td)"
   ]
  },
  {
   "cell_type": "code",
   "execution_count": 58,
   "id": "829ae8f5",
   "metadata": {},
   "outputs": [
    {
     "data": {
      "text/plain": [
       "0      533.205447\n",
       "1      534.205447\n",
       "2      535.205447\n",
       "3      536.205447\n",
       "4      537.205447\n",
       "         ...     \n",
       "72    2184.205447\n",
       "73    2214.205447\n",
       "74    2245.205447\n",
       "75    2276.205447\n",
       "76    2306.205447\n",
       "Name: Date, Length: 77, dtype: float64"
      ]
     },
     "execution_count": 58,
     "metadata": {},
     "output_type": "execute_result"
    }
   ],
   "source": [
    "(products[\"Date\"]-ld)/td"
   ]
  },
  {
   "cell_type": "code",
   "execution_count": 59,
   "id": "08abc386",
   "metadata": {},
   "outputs": [
    {
     "data": {
      "text/plain": [
       "0      9834.790125\n",
       "1      9833.790125\n",
       "2      9830.790125\n",
       "3      9830.790125\n",
       "4      9829.790125\n",
       "          ...     \n",
       "825    9164.790125\n",
       "826    9163.790125\n",
       "827    9163.790125\n",
       "828    9163.790125\n",
       "829    9163.790125\n",
       "Name: OrderDate, Length: 830, dtype: float64"
      ]
     },
     "execution_count": 59,
     "metadata": {},
     "output_type": "execute_result"
    }
   ],
   "source": [
    "timedelta_day/ td"
   ]
  },
  {
   "cell_type": "markdown",
   "id": "31dfe1d3",
   "metadata": {},
   "source": [
    "# Convert Functions\n"
   ]
  },
  {
   "cell_type": "code",
   "execution_count": 3,
   "id": "a9503704",
   "metadata": {},
   "outputs": [
    {
     "data": {
      "text/plain": [
       "str"
      ]
     },
     "execution_count": 3,
     "metadata": {},
     "output_type": "execute_result"
    }
   ],
   "source": [
    "num_s = '$1345.936'\n",
    "type(num_s)"
   ]
  },
  {
   "cell_type": "code",
   "execution_count": 4,
   "id": "46646198",
   "metadata": {},
   "outputs": [
    {
     "name": "stdout",
     "output_type": "stream",
     "text": [
      "1345.936\n"
     ]
    },
    {
     "data": {
      "text/plain": [
       "str"
      ]
     },
     "execution_count": 4,
     "metadata": {},
     "output_type": "execute_result"
    }
   ],
   "source": [
    "num = num_s.replace('$','')\n",
    "print(num)\n",
    "type(num)"
   ]
  },
  {
   "cell_type": "code",
   "execution_count": 5,
   "id": "4c43ac7e",
   "metadata": {},
   "outputs": [],
   "source": [
    "num1 =pd.to_numeric(num)"
   ]
  },
  {
   "cell_type": "code",
   "execution_count": 6,
   "id": "330a7da5",
   "metadata": {},
   "outputs": [
    {
     "data": {
      "text/plain": [
       "numpy.float64"
      ]
     },
     "execution_count": 6,
     "metadata": {},
     "output_type": "execute_result"
    }
   ],
   "source": [
    "type(num1)"
   ]
  },
  {
   "cell_type": "code",
   "execution_count": 7,
   "id": "7e0174d7",
   "metadata": {},
   "outputs": [
    {
     "data": {
      "text/plain": [
       "1345.936"
      ]
     },
     "execution_count": 7,
     "metadata": {},
     "output_type": "execute_result"
    }
   ],
   "source": [
    "num1"
   ]
  },
  {
   "cell_type": "code",
   "execution_count": 12,
   "id": "c03bf846",
   "metadata": {},
   "outputs": [
    {
     "data": {
      "text/plain": [
       "numpy.float64"
      ]
     },
     "execution_count": 12,
     "metadata": {},
     "output_type": "execute_result"
    }
   ],
   "source": [
    "type(num1)"
   ]
  },
  {
   "cell_type": "code",
   "execution_count": 8,
   "id": "0e1a4660",
   "metadata": {},
   "outputs": [
    {
     "data": {
      "text/plain": [
       "str"
      ]
     },
     "execution_count": 8,
     "metadata": {},
     "output_type": "execute_result"
    }
   ],
   "source": [
    "x='3'\n",
    "type(x)"
   ]
  },
  {
   "cell_type": "code",
   "execution_count": 9,
   "id": "939019de",
   "metadata": {},
   "outputs": [
    {
     "data": {
      "text/plain": [
       "int"
      ]
     },
     "execution_count": 9,
     "metadata": {},
     "output_type": "execute_result"
    }
   ],
   "source": [
    "x=3\n",
    "type(x)"
   ]
  },
  {
   "cell_type": "code",
   "execution_count": 10,
   "id": "6635e44e",
   "metadata": {},
   "outputs": [
    {
     "data": {
      "text/plain": [
       "float"
      ]
     },
     "execution_count": 10,
     "metadata": {},
     "output_type": "execute_result"
    }
   ],
   "source": [
    "x=0.3\n",
    "type(x)"
   ]
  },
  {
   "cell_type": "code",
   "execution_count": 11,
   "id": "10c72b80",
   "metadata": {},
   "outputs": [
    {
     "data": {
      "text/plain": [
       "str"
      ]
     },
     "execution_count": 11,
     "metadata": {},
     "output_type": "execute_result"
    }
   ],
   "source": [
    "x='$3'\n",
    "type(x)"
   ]
  },
  {
   "cell_type": "code",
   "execution_count": 94,
   "id": "29fcb263",
   "metadata": {},
   "outputs": [],
   "source": [
    "num2=pd.to_numeric(num1, downcast=\"integer\")"
   ]
  },
  {
   "cell_type": "code",
   "execution_count": 95,
   "id": "c0f76190",
   "metadata": {},
   "outputs": [
    {
     "name": "stdout",
     "output_type": "stream",
     "text": [
      "1345.936\n"
     ]
    }
   ],
   "source": [
    "print(num2)"
   ]
  },
  {
   "cell_type": "code",
   "execution_count": 96,
   "id": "1287bddf",
   "metadata": {},
   "outputs": [
    {
     "data": {
      "text/plain": [
       "numpy.float64"
      ]
     },
     "execution_count": 96,
     "metadata": {},
     "output_type": "execute_result"
    }
   ],
   "source": [
    "type(num2)"
   ]
  },
  {
   "cell_type": "code",
   "execution_count": 97,
   "id": "358959bc",
   "metadata": {},
   "outputs": [],
   "source": [
    "n1='1,450'"
   ]
  },
  {
   "cell_type": "code",
   "execution_count": 98,
   "id": "b0dcaac8",
   "metadata": {},
   "outputs": [
    {
     "data": {
      "text/plain": [
       "str"
      ]
     },
     "execution_count": 98,
     "metadata": {},
     "output_type": "execute_result"
    }
   ],
   "source": [
    "type(n1)"
   ]
  },
  {
   "cell_type": "code",
   "execution_count": 100,
   "id": "3c433e93",
   "metadata": {
    "scrolled": true
   },
   "outputs": [
    {
     "ename": "ValueError",
     "evalue": "Unable to parse string \"1,450\" at position 0",
     "output_type": "error",
     "traceback": [
      "\u001b[1;31m---------------------------------------------------------------------------\u001b[0m",
      "\u001b[1;31mValueError\u001b[0m                                Traceback (most recent call last)",
      "File \u001b[1;32mC:\\Python311\\Lib\\site-packages\\pandas\\_libs\\lib.pyx:2280\u001b[0m, in \u001b[0;36mpandas._libs.lib.maybe_convert_numeric\u001b[1;34m()\u001b[0m\n",
      "\u001b[1;31mValueError\u001b[0m: Unable to parse string \"1,450\"",
      "\nDuring handling of the above exception, another exception occurred:\n",
      "\u001b[1;31mValueError\u001b[0m                                Traceback (most recent call last)",
      "Cell \u001b[1;32mIn[100], line 1\u001b[0m\n\u001b[1;32m----> 1\u001b[0m n1\u001b[38;5;241m=\u001b[39m\u001b[43mpd\u001b[49m\u001b[38;5;241;43m.\u001b[39;49m\u001b[43mto_numeric\u001b[49m\u001b[43m(\u001b[49m\u001b[43mn1\u001b[49m\u001b[43m)\u001b[49m\n",
      "File \u001b[1;32mC:\\Python311\\Lib\\site-packages\\pandas\\core\\tools\\numeric.py:217\u001b[0m, in \u001b[0;36mto_numeric\u001b[1;34m(arg, errors, downcast, dtype_backend)\u001b[0m\n\u001b[0;32m    215\u001b[0m coerce_numeric \u001b[38;5;241m=\u001b[39m errors \u001b[38;5;129;01mnot\u001b[39;00m \u001b[38;5;129;01min\u001b[39;00m (\u001b[38;5;124m\"\u001b[39m\u001b[38;5;124mignore\u001b[39m\u001b[38;5;124m\"\u001b[39m, \u001b[38;5;124m\"\u001b[39m\u001b[38;5;124mraise\u001b[39m\u001b[38;5;124m\"\u001b[39m)\n\u001b[0;32m    216\u001b[0m \u001b[38;5;28;01mtry\u001b[39;00m:\n\u001b[1;32m--> 217\u001b[0m     values, new_mask \u001b[38;5;241m=\u001b[39m \u001b[43mlib\u001b[49m\u001b[38;5;241;43m.\u001b[39;49m\u001b[43mmaybe_convert_numeric\u001b[49m\u001b[43m(\u001b[49m\u001b[43m  \u001b[49m\u001b[38;5;66;43;03m# type: ignore[call-overload]  # noqa\u001b[39;49;00m\n\u001b[0;32m    218\u001b[0m \u001b[43m        \u001b[49m\u001b[43mvalues\u001b[49m\u001b[43m,\u001b[49m\n\u001b[0;32m    219\u001b[0m \u001b[43m        \u001b[49m\u001b[38;5;28;43mset\u001b[39;49m\u001b[43m(\u001b[49m\u001b[43m)\u001b[49m\u001b[43m,\u001b[49m\n\u001b[0;32m    220\u001b[0m \u001b[43m        \u001b[49m\u001b[43mcoerce_numeric\u001b[49m\u001b[38;5;241;43m=\u001b[39;49m\u001b[43mcoerce_numeric\u001b[49m\u001b[43m,\u001b[49m\n\u001b[0;32m    221\u001b[0m \u001b[43m        \u001b[49m\u001b[43mconvert_to_masked_nullable\u001b[49m\u001b[38;5;241;43m=\u001b[39;49m\u001b[43mdtype_backend\u001b[49m\u001b[43m \u001b[49m\u001b[38;5;129;43;01mis\u001b[39;49;00m\u001b[43m \u001b[49m\u001b[38;5;129;43;01mnot\u001b[39;49;00m\u001b[43m \u001b[49m\u001b[43mlib\u001b[49m\u001b[38;5;241;43m.\u001b[39;49m\u001b[43mno_default\u001b[49m\n\u001b[0;32m    222\u001b[0m \u001b[43m        \u001b[49m\u001b[38;5;129;43;01mor\u001b[39;49;00m\u001b[43m \u001b[49m\u001b[38;5;28;43misinstance\u001b[39;49m\u001b[43m(\u001b[49m\u001b[43mvalues_dtype\u001b[49m\u001b[43m,\u001b[49m\u001b[43m \u001b[49m\u001b[43mStringDtype\u001b[49m\u001b[43m)\u001b[49m\u001b[43m,\u001b[49m\n\u001b[0;32m    223\u001b[0m \u001b[43m    \u001b[49m\u001b[43m)\u001b[49m\n\u001b[0;32m    224\u001b[0m \u001b[38;5;28;01mexcept\u001b[39;00m (\u001b[38;5;167;01mValueError\u001b[39;00m, \u001b[38;5;167;01mTypeError\u001b[39;00m):\n\u001b[0;32m    225\u001b[0m     \u001b[38;5;28;01mif\u001b[39;00m errors \u001b[38;5;241m==\u001b[39m \u001b[38;5;124m\"\u001b[39m\u001b[38;5;124mraise\u001b[39m\u001b[38;5;124m\"\u001b[39m:\n",
      "File \u001b[1;32mC:\\Python311\\Lib\\site-packages\\pandas\\_libs\\lib.pyx:2322\u001b[0m, in \u001b[0;36mpandas._libs.lib.maybe_convert_numeric\u001b[1;34m()\u001b[0m\n",
      "\u001b[1;31mValueError\u001b[0m: Unable to parse string \"1,450\" at position 0"
     ]
    }
   ],
   "source": [
    "n1=pd.to_numeric(n1)"
   ]
  },
  {
   "cell_type": "code",
   "execution_count": 101,
   "id": "7734011b",
   "metadata": {},
   "outputs": [
    {
     "data": {
      "text/plain": [
       "str"
      ]
     },
     "execution_count": 101,
     "metadata": {},
     "output_type": "execute_result"
    }
   ],
   "source": [
    "type(n1)"
   ]
  },
  {
   "cell_type": "code",
   "execution_count": 102,
   "id": "c6bda180",
   "metadata": {},
   "outputs": [
    {
     "ename": "ValueError",
     "evalue": "Unable to parse string \"1,450\" at position 0",
     "output_type": "error",
     "traceback": [
      "\u001b[1;31m---------------------------------------------------------------------------\u001b[0m",
      "\u001b[1;31mValueError\u001b[0m                                Traceback (most recent call last)",
      "File \u001b[1;32mC:\\Python311\\Lib\\site-packages\\pandas\\_libs\\lib.pyx:2280\u001b[0m, in \u001b[0;36mpandas._libs.lib.maybe_convert_numeric\u001b[1;34m()\u001b[0m\n",
      "\u001b[1;31mValueError\u001b[0m: Unable to parse string \"1,450\"",
      "\nDuring handling of the above exception, another exception occurred:\n",
      "\u001b[1;31mValueError\u001b[0m                                Traceback (most recent call last)",
      "Cell \u001b[1;32mIn[102], line 1\u001b[0m\n\u001b[1;32m----> 1\u001b[0m n1\u001b[38;5;241m=\u001b[39m\u001b[43mpd\u001b[49m\u001b[38;5;241;43m.\u001b[39;49m\u001b[43mto_numeric\u001b[49m\u001b[43m(\u001b[49m\u001b[43mn1\u001b[49m\u001b[43m,\u001b[49m\u001b[43mdowncast\u001b[49m\u001b[38;5;241;43m=\u001b[39;49m\u001b[38;5;124;43m'\u001b[39;49m\u001b[38;5;124;43minteger\u001b[39;49m\u001b[38;5;124;43m'\u001b[39;49m\u001b[43m)\u001b[49m\n",
      "File \u001b[1;32mC:\\Python311\\Lib\\site-packages\\pandas\\core\\tools\\numeric.py:217\u001b[0m, in \u001b[0;36mto_numeric\u001b[1;34m(arg, errors, downcast, dtype_backend)\u001b[0m\n\u001b[0;32m    215\u001b[0m coerce_numeric \u001b[38;5;241m=\u001b[39m errors \u001b[38;5;129;01mnot\u001b[39;00m \u001b[38;5;129;01min\u001b[39;00m (\u001b[38;5;124m\"\u001b[39m\u001b[38;5;124mignore\u001b[39m\u001b[38;5;124m\"\u001b[39m, \u001b[38;5;124m\"\u001b[39m\u001b[38;5;124mraise\u001b[39m\u001b[38;5;124m\"\u001b[39m)\n\u001b[0;32m    216\u001b[0m \u001b[38;5;28;01mtry\u001b[39;00m:\n\u001b[1;32m--> 217\u001b[0m     values, new_mask \u001b[38;5;241m=\u001b[39m \u001b[43mlib\u001b[49m\u001b[38;5;241;43m.\u001b[39;49m\u001b[43mmaybe_convert_numeric\u001b[49m\u001b[43m(\u001b[49m\u001b[43m  \u001b[49m\u001b[38;5;66;43;03m# type: ignore[call-overload]  # noqa\u001b[39;49;00m\n\u001b[0;32m    218\u001b[0m \u001b[43m        \u001b[49m\u001b[43mvalues\u001b[49m\u001b[43m,\u001b[49m\n\u001b[0;32m    219\u001b[0m \u001b[43m        \u001b[49m\u001b[38;5;28;43mset\u001b[39;49m\u001b[43m(\u001b[49m\u001b[43m)\u001b[49m\u001b[43m,\u001b[49m\n\u001b[0;32m    220\u001b[0m \u001b[43m        \u001b[49m\u001b[43mcoerce_numeric\u001b[49m\u001b[38;5;241;43m=\u001b[39;49m\u001b[43mcoerce_numeric\u001b[49m\u001b[43m,\u001b[49m\n\u001b[0;32m    221\u001b[0m \u001b[43m        \u001b[49m\u001b[43mconvert_to_masked_nullable\u001b[49m\u001b[38;5;241;43m=\u001b[39;49m\u001b[43mdtype_backend\u001b[49m\u001b[43m \u001b[49m\u001b[38;5;129;43;01mis\u001b[39;49;00m\u001b[43m \u001b[49m\u001b[38;5;129;43;01mnot\u001b[39;49;00m\u001b[43m \u001b[49m\u001b[43mlib\u001b[49m\u001b[38;5;241;43m.\u001b[39;49m\u001b[43mno_default\u001b[49m\n\u001b[0;32m    222\u001b[0m \u001b[43m        \u001b[49m\u001b[38;5;129;43;01mor\u001b[39;49;00m\u001b[43m \u001b[49m\u001b[38;5;28;43misinstance\u001b[39;49m\u001b[43m(\u001b[49m\u001b[43mvalues_dtype\u001b[49m\u001b[43m,\u001b[49m\u001b[43m \u001b[49m\u001b[43mStringDtype\u001b[49m\u001b[43m)\u001b[49m\u001b[43m,\u001b[49m\n\u001b[0;32m    223\u001b[0m \u001b[43m    \u001b[49m\u001b[43m)\u001b[49m\n\u001b[0;32m    224\u001b[0m \u001b[38;5;28;01mexcept\u001b[39;00m (\u001b[38;5;167;01mValueError\u001b[39;00m, \u001b[38;5;167;01mTypeError\u001b[39;00m):\n\u001b[0;32m    225\u001b[0m     \u001b[38;5;28;01mif\u001b[39;00m errors \u001b[38;5;241m==\u001b[39m \u001b[38;5;124m\"\u001b[39m\u001b[38;5;124mraise\u001b[39m\u001b[38;5;124m\"\u001b[39m:\n",
      "File \u001b[1;32mC:\\Python311\\Lib\\site-packages\\pandas\\_libs\\lib.pyx:2322\u001b[0m, in \u001b[0;36mpandas._libs.lib.maybe_convert_numeric\u001b[1;34m()\u001b[0m\n",
      "\u001b[1;31mValueError\u001b[0m: Unable to parse string \"1,450\" at position 0"
     ]
    }
   ],
   "source": [
    "n1=pd.to_numeric(n1,downcast='integer')"
   ]
  },
  {
   "cell_type": "code",
   "execution_count": 103,
   "id": "14673df2",
   "metadata": {},
   "outputs": [],
   "source": [
    "n1=pd.to_numeric(n1,errors='ignore',downcast='integer')"
   ]
  },
  {
   "cell_type": "code",
   "execution_count": 104,
   "id": "eea663f3",
   "metadata": {},
   "outputs": [
    {
     "data": {
      "text/plain": [
       "str"
      ]
     },
     "execution_count": 104,
     "metadata": {},
     "output_type": "execute_result"
    }
   ],
   "source": [
    "type(n1)"
   ]
  },
  {
   "cell_type": "code",
   "execution_count": 105,
   "id": "d7180f32",
   "metadata": {},
   "outputs": [
    {
     "data": {
      "text/plain": [
       "'1,450'"
      ]
     },
     "execution_count": 105,
     "metadata": {},
     "output_type": "execute_result"
    }
   ],
   "source": [
    "n1"
   ]
  },
  {
   "cell_type": "code",
   "execution_count": 106,
   "id": "4b30db3e",
   "metadata": {},
   "outputs": [],
   "source": [
    "n2 =n1.replace(',','')"
   ]
  },
  {
   "cell_type": "code",
   "execution_count": 107,
   "id": "a5b89bb4",
   "metadata": {},
   "outputs": [
    {
     "data": {
      "text/plain": [
       "'1450'"
      ]
     },
     "execution_count": 107,
     "metadata": {},
     "output_type": "execute_result"
    }
   ],
   "source": [
    "n2"
   ]
  },
  {
   "cell_type": "code",
   "execution_count": 108,
   "id": "5b3d9482",
   "metadata": {},
   "outputs": [
    {
     "data": {
      "text/plain": [
       "str"
      ]
     },
     "execution_count": 108,
     "metadata": {},
     "output_type": "execute_result"
    }
   ],
   "source": [
    "type(n2)"
   ]
  },
  {
   "cell_type": "code",
   "execution_count": 109,
   "id": "d590e640",
   "metadata": {},
   "outputs": [],
   "source": [
    "n2=pd.to_numeric(n2)"
   ]
  },
  {
   "cell_type": "code",
   "execution_count": 110,
   "id": "10f1428a",
   "metadata": {},
   "outputs": [
    {
     "data": {
      "text/plain": [
       "1450"
      ]
     },
     "execution_count": 110,
     "metadata": {},
     "output_type": "execute_result"
    }
   ],
   "source": [
    "n2"
   ]
  },
  {
   "cell_type": "code",
   "execution_count": 111,
   "id": "28c48f09",
   "metadata": {},
   "outputs": [
    {
     "data": {
      "text/plain": [
       "numpy.int64"
      ]
     },
     "execution_count": 111,
     "metadata": {},
     "output_type": "execute_result"
    }
   ],
   "source": [
    "type(n2)"
   ]
  },
  {
   "cell_type": "code",
   "execution_count": 112,
   "id": "dacdfba2",
   "metadata": {},
   "outputs": [],
   "source": [
    "x=3.2\n"
   ]
  },
  {
   "cell_type": "code",
   "execution_count": 113,
   "id": "5d2cd65d",
   "metadata": {},
   "outputs": [
    {
     "data": {
      "text/plain": [
       "4.0"
      ]
     },
     "execution_count": 113,
     "metadata": {},
     "output_type": "execute_result"
    }
   ],
   "source": [
    "np.ceil(x)"
   ]
  },
  {
   "cell_type": "code",
   "execution_count": 114,
   "id": "5a522ab3",
   "metadata": {},
   "outputs": [
    {
     "data": {
      "text/plain": [
       "3.2"
      ]
     },
     "execution_count": 114,
     "metadata": {},
     "output_type": "execute_result"
    }
   ],
   "source": [
    "pd.to_numeric(x)"
   ]
  },
  {
   "cell_type": "code",
   "execution_count": 116,
   "id": "e3411529",
   "metadata": {
    "scrolled": true
   },
   "outputs": [],
   "source": [
    "y=pd.to_numeric(np.ceil(x))"
   ]
  },
  {
   "cell_type": "code",
   "execution_count": 119,
   "id": "8b73cb54",
   "metadata": {},
   "outputs": [],
   "source": [
    "y=int(y)"
   ]
  },
  {
   "cell_type": "code",
   "execution_count": 120,
   "id": "619fed5d",
   "metadata": {},
   "outputs": [
    {
     "data": {
      "text/plain": [
       "int"
      ]
     },
     "execution_count": 120,
     "metadata": {},
     "output_type": "execute_result"
    }
   ],
   "source": [
    "type(y)"
   ]
  },
  {
   "cell_type": "markdown",
   "id": "b61876cc",
   "metadata": {},
   "source": [
    "#Convert String to_datetime"
   ]
  },
  {
   "cell_type": "code",
   "execution_count": null,
   "id": "d3121cf7",
   "metadata": {},
   "outputs": [],
   "source": [
    "dt1 = '31-12-2018'"
   ]
  },
  {
   "cell_type": "code",
   "execution_count": null,
   "id": "a8a250a4",
   "metadata": {},
   "outputs": [],
   "source": [
    "type(dt1)"
   ]
  },
  {
   "cell_type": "code",
   "execution_count": null,
   "id": "296131f1",
   "metadata": {},
   "outputs": [],
   "source": [
    "dt2 =pd.to_datetime(dt1)"
   ]
  },
  {
   "cell_type": "code",
   "execution_count": null,
   "id": "2bfbd41d",
   "metadata": {},
   "outputs": [],
   "source": [
    "type(dt2)"
   ]
  },
  {
   "cell_type": "code",
   "execution_count": null,
   "id": "0ae50713",
   "metadata": {},
   "outputs": [],
   "source": [
    "dt2.year"
   ]
  },
  {
   "cell_type": "code",
   "execution_count": null,
   "id": "2daa82fa",
   "metadata": {},
   "outputs": [],
   "source": [
    "dt2.month"
   ]
  },
  {
   "cell_type": "code",
   "execution_count": null,
   "id": "ed98e352",
   "metadata": {},
   "outputs": [],
   "source": [
    "dt2.day"
   ]
  },
  {
   "cell_type": "code",
   "execution_count": null,
   "id": "976044a1",
   "metadata": {},
   "outputs": [],
   "source": [
    "#Convert to string"
   ]
  },
  {
   "cell_type": "code",
   "execution_count": null,
   "id": "bdac9236",
   "metadata": {},
   "outputs": [],
   "source": [
    "#astype(str)"
   ]
  },
  {
   "cell_type": "code",
   "execution_count": 122,
   "id": "7bb57149",
   "metadata": {},
   "outputs": [
    {
     "name": "stdout",
     "output_type": "stream",
     "text": [
      "<class 'pandas.core.frame.DataFrame'>\n",
      "RangeIndex: 77 entries, 0 to 76\n",
      "Data columns (total 10 columns):\n",
      " #   Column       Non-Null Count  Dtype         \n",
      "---  ------       --------------  -----         \n",
      " 0   month        77 non-null     int32         \n",
      " 1   ProductID    77 non-null     int64         \n",
      " 2   ProductName  77 non-null     object        \n",
      " 3   UnitPrice    77 non-null     float64       \n",
      " 4   CategoryID   77 non-null     int64         \n",
      " 5   Date         77 non-null     datetime64[ns]\n",
      " 6   year         77 non-null     int32         \n",
      " 7   Date1        77 non-null     object        \n",
      " 8   val_Date     77 non-null     datetime64[ns]\n",
      " 9   MM           5 non-null      float64       \n",
      "dtypes: datetime64[ns](2), float64(2), int32(2), int64(2), object(2)\n",
      "memory usage: 5.5+ KB\n"
     ]
    }
   ],
   "source": [
    "products.info()"
   ]
  },
  {
   "cell_type": "code",
   "execution_count": 123,
   "id": "87f89028",
   "metadata": {},
   "outputs": [
    {
     "data": {
      "text/html": [
       "<div>\n",
       "<style scoped>\n",
       "    .dataframe tbody tr th:only-of-type {\n",
       "        vertical-align: middle;\n",
       "    }\n",
       "\n",
       "    .dataframe tbody tr th {\n",
       "        vertical-align: top;\n",
       "    }\n",
       "\n",
       "    .dataframe thead th {\n",
       "        text-align: right;\n",
       "    }\n",
       "</style>\n",
       "<table border=\"1\" class=\"dataframe\">\n",
       "  <thead>\n",
       "    <tr style=\"text-align: right;\">\n",
       "      <th></th>\n",
       "      <th>month</th>\n",
       "      <th>ProductID</th>\n",
       "      <th>ProductName</th>\n",
       "      <th>UnitPrice</th>\n",
       "      <th>CategoryID</th>\n",
       "      <th>Date</th>\n",
       "      <th>year</th>\n",
       "      <th>Date1</th>\n",
       "      <th>val_Date</th>\n",
       "      <th>MM</th>\n",
       "    </tr>\n",
       "  </thead>\n",
       "  <tbody>\n",
       "    <tr>\n",
       "      <th>0</th>\n",
       "      <td>11</td>\n",
       "      <td>1</td>\n",
       "      <td>Chai</td>\n",
       "      <td>18.00</td>\n",
       "      <td>1</td>\n",
       "      <td>2024-11-22</td>\n",
       "      <td>2024</td>\n",
       "      <td>5/31/2023</td>\n",
       "      <td>2023-05-31</td>\n",
       "      <td>11.0</td>\n",
       "    </tr>\n",
       "    <tr>\n",
       "      <th>1</th>\n",
       "      <td>11</td>\n",
       "      <td>2</td>\n",
       "      <td>Chang</td>\n",
       "      <td>19.00</td>\n",
       "      <td>1</td>\n",
       "      <td>2024-11-23</td>\n",
       "      <td>2024</td>\n",
       "      <td>6/1/2023</td>\n",
       "      <td>2023-06-01</td>\n",
       "      <td>11.0</td>\n",
       "    </tr>\n",
       "    <tr>\n",
       "      <th>2</th>\n",
       "      <td>11</td>\n",
       "      <td>3</td>\n",
       "      <td>Aniseed Syrup</td>\n",
       "      <td>10.00</td>\n",
       "      <td>2</td>\n",
       "      <td>2024-11-24</td>\n",
       "      <td>2024</td>\n",
       "      <td>6/2/2023</td>\n",
       "      <td>2023-06-02</td>\n",
       "      <td>11.0</td>\n",
       "    </tr>\n",
       "    <tr>\n",
       "      <th>3</th>\n",
       "      <td>11</td>\n",
       "      <td>4</td>\n",
       "      <td>Chef Anton's Cajun Seasoning</td>\n",
       "      <td>22.00</td>\n",
       "      <td>2</td>\n",
       "      <td>2024-11-25</td>\n",
       "      <td>2024</td>\n",
       "      <td>6/3/2023</td>\n",
       "      <td>2023-06-03</td>\n",
       "      <td>11.0</td>\n",
       "    </tr>\n",
       "    <tr>\n",
       "      <th>4</th>\n",
       "      <td>11</td>\n",
       "      <td>5</td>\n",
       "      <td>Chef Anton's Gumbo Mix</td>\n",
       "      <td>21.35</td>\n",
       "      <td>2</td>\n",
       "      <td>2024-11-26</td>\n",
       "      <td>2024</td>\n",
       "      <td>6/4/2023</td>\n",
       "      <td>2023-06-04</td>\n",
       "      <td>11.0</td>\n",
       "    </tr>\n",
       "    <tr>\n",
       "      <th>...</th>\n",
       "      <td>...</td>\n",
       "      <td>...</td>\n",
       "      <td>...</td>\n",
       "      <td>...</td>\n",
       "      <td>...</td>\n",
       "      <td>...</td>\n",
       "      <td>...</td>\n",
       "      <td>...</td>\n",
       "      <td>...</td>\n",
       "      <td>...</td>\n",
       "    </tr>\n",
       "    <tr>\n",
       "      <th>72</th>\n",
       "      <td>5</td>\n",
       "      <td>73</td>\n",
       "      <td>Rad Kaviar</td>\n",
       "      <td>15.00</td>\n",
       "      <td>8</td>\n",
       "      <td>2029-05-31</td>\n",
       "      <td>2029</td>\n",
       "      <td>8/11/2023</td>\n",
       "      <td>2023-08-11</td>\n",
       "      <td>NaN</td>\n",
       "    </tr>\n",
       "    <tr>\n",
       "      <th>73</th>\n",
       "      <td>6</td>\n",
       "      <td>74</td>\n",
       "      <td>Longlife Tofu</td>\n",
       "      <td>10.00</td>\n",
       "      <td>7</td>\n",
       "      <td>2029-06-30</td>\n",
       "      <td>2029</td>\n",
       "      <td>8/12/2023</td>\n",
       "      <td>2023-08-12</td>\n",
       "      <td>NaN</td>\n",
       "    </tr>\n",
       "    <tr>\n",
       "      <th>74</th>\n",
       "      <td>7</td>\n",
       "      <td>75</td>\n",
       "      <td>Rhanbrau Klosterbier</td>\n",
       "      <td>7.75</td>\n",
       "      <td>1</td>\n",
       "      <td>2029-07-31</td>\n",
       "      <td>2029</td>\n",
       "      <td>8/13/2023</td>\n",
       "      <td>2023-08-13</td>\n",
       "      <td>NaN</td>\n",
       "    </tr>\n",
       "    <tr>\n",
       "      <th>75</th>\n",
       "      <td>8</td>\n",
       "      <td>76</td>\n",
       "      <td>Lakkalikaari</td>\n",
       "      <td>18.00</td>\n",
       "      <td>1</td>\n",
       "      <td>2029-08-31</td>\n",
       "      <td>2029</td>\n",
       "      <td>8/14/2023</td>\n",
       "      <td>2023-08-14</td>\n",
       "      <td>NaN</td>\n",
       "    </tr>\n",
       "    <tr>\n",
       "      <th>76</th>\n",
       "      <td>9</td>\n",
       "      <td>77</td>\n",
       "      <td>Original Frankfurter grane Soae</td>\n",
       "      <td>13.00</td>\n",
       "      <td>2</td>\n",
       "      <td>2029-09-30</td>\n",
       "      <td>2029</td>\n",
       "      <td>8/15/2023</td>\n",
       "      <td>2023-08-15</td>\n",
       "      <td>NaN</td>\n",
       "    </tr>\n",
       "  </tbody>\n",
       "</table>\n",
       "<p>77 rows × 10 columns</p>\n",
       "</div>"
      ],
      "text/plain": [
       "    month  ProductID                      ProductName  UnitPrice  CategoryID   \n",
       "0      11          1                             Chai      18.00           1  \\\n",
       "1      11          2                            Chang      19.00           1   \n",
       "2      11          3                    Aniseed Syrup      10.00           2   \n",
       "3      11          4     Chef Anton's Cajun Seasoning      22.00           2   \n",
       "4      11          5           Chef Anton's Gumbo Mix      21.35           2   \n",
       "..    ...        ...                              ...        ...         ...   \n",
       "72      5         73                       Rad Kaviar      15.00           8   \n",
       "73      6         74                    Longlife Tofu      10.00           7   \n",
       "74      7         75             Rhanbrau Klosterbier       7.75           1   \n",
       "75      8         76                     Lakkalikaari      18.00           1   \n",
       "76      9         77  Original Frankfurter grane Soae      13.00           2   \n",
       "\n",
       "         Date  year      Date1   val_Date    MM  \n",
       "0  2024-11-22  2024  5/31/2023 2023-05-31  11.0  \n",
       "1  2024-11-23  2024   6/1/2023 2023-06-01  11.0  \n",
       "2  2024-11-24  2024   6/2/2023 2023-06-02  11.0  \n",
       "3  2024-11-25  2024   6/3/2023 2023-06-03  11.0  \n",
       "4  2024-11-26  2024   6/4/2023 2023-06-04  11.0  \n",
       "..        ...   ...        ...        ...   ...  \n",
       "72 2029-05-31  2029  8/11/2023 2023-08-11   NaN  \n",
       "73 2029-06-30  2029  8/12/2023 2023-08-12   NaN  \n",
       "74 2029-07-31  2029  8/13/2023 2023-08-13   NaN  \n",
       "75 2029-08-31  2029  8/14/2023 2023-08-14   NaN  \n",
       "76 2029-09-30  2029  8/15/2023 2023-08-15   NaN  \n",
       "\n",
       "[77 rows x 10 columns]"
      ]
     },
     "execution_count": 123,
     "metadata": {},
     "output_type": "execute_result"
    }
   ],
   "source": [
    "products"
   ]
  },
  {
   "cell_type": "code",
   "execution_count": 124,
   "id": "911186ff",
   "metadata": {},
   "outputs": [],
   "source": [
    "products[\"Date\"] = products[\"Date\"].astype('str')"
   ]
  },
  {
   "cell_type": "code",
   "execution_count": 125,
   "id": "84b31124",
   "metadata": {},
   "outputs": [
    {
     "data": {
      "text/plain": [
       "0     2024-11-22\n",
       "1     2024-11-23\n",
       "2     2024-11-24\n",
       "3     2024-11-25\n",
       "4     2024-11-26\n",
       "         ...    \n",
       "72    2029-05-31\n",
       "73    2029-06-30\n",
       "74    2029-07-31\n",
       "75    2029-08-31\n",
       "76    2029-09-30\n",
       "Name: Date, Length: 77, dtype: object"
      ]
     },
     "execution_count": 125,
     "metadata": {},
     "output_type": "execute_result"
    }
   ],
   "source": [
    "products[\"Date\"] "
   ]
  },
  {
   "cell_type": "code",
   "execution_count": 126,
   "id": "cffd111b",
   "metadata": {},
   "outputs": [
    {
     "name": "stdout",
     "output_type": "stream",
     "text": [
      "<class 'pandas.core.frame.DataFrame'>\n",
      "RangeIndex: 77 entries, 0 to 76\n",
      "Data columns (total 10 columns):\n",
      " #   Column       Non-Null Count  Dtype         \n",
      "---  ------       --------------  -----         \n",
      " 0   month        77 non-null     int32         \n",
      " 1   ProductID    77 non-null     int64         \n",
      " 2   ProductName  77 non-null     object        \n",
      " 3   UnitPrice    77 non-null     float64       \n",
      " 4   CategoryID   77 non-null     int64         \n",
      " 5   Date         77 non-null     object        \n",
      " 6   year         77 non-null     int32         \n",
      " 7   Date1        77 non-null     object        \n",
      " 8   val_Date     77 non-null     datetime64[ns]\n",
      " 9   MM           5 non-null      float64       \n",
      "dtypes: datetime64[ns](1), float64(2), int32(2), int64(2), object(3)\n",
      "memory usage: 5.5+ KB\n"
     ]
    }
   ],
   "source": [
    "products.info()"
   ]
  },
  {
   "cell_type": "code",
   "execution_count": null,
   "id": "d422a0f6",
   "metadata": {},
   "outputs": [],
   "source": [
    "products"
   ]
  },
  {
   "cell_type": "code",
   "execution_count": null,
   "id": "ad54f988",
   "metadata": {},
   "outputs": [],
   "source": [
    "#Nulls"
   ]
  },
  {
   "cell_type": "code",
   "execution_count": 128,
   "id": "9cb80a03",
   "metadata": {},
   "outputs": [],
   "source": [
    "cust = pd.read_csv(\"Customers.csv\")"
   ]
  },
  {
   "cell_type": "code",
   "execution_count": 129,
   "id": "3525170e",
   "metadata": {},
   "outputs": [
    {
     "data": {
      "text/html": [
       "<div>\n",
       "<style scoped>\n",
       "    .dataframe tbody tr th:only-of-type {\n",
       "        vertical-align: middle;\n",
       "    }\n",
       "\n",
       "    .dataframe tbody tr th {\n",
       "        vertical-align: top;\n",
       "    }\n",
       "\n",
       "    .dataframe thead th {\n",
       "        text-align: right;\n",
       "    }\n",
       "</style>\n",
       "<table border=\"1\" class=\"dataframe\">\n",
       "  <thead>\n",
       "    <tr style=\"text-align: right;\">\n",
       "      <th></th>\n",
       "      <th>CustomerID</th>\n",
       "      <th>CompanyName</th>\n",
       "      <th>ContactName</th>\n",
       "      <th>ContactTitle</th>\n",
       "      <th>Address</th>\n",
       "      <th>City</th>\n",
       "      <th>Region</th>\n",
       "      <th>PostalCode</th>\n",
       "      <th>Country</th>\n",
       "      <th>Phone</th>\n",
       "      <th>Fax</th>\n",
       "    </tr>\n",
       "  </thead>\n",
       "  <tbody>\n",
       "    <tr>\n",
       "      <th>0</th>\n",
       "      <td>1</td>\n",
       "      <td>Alfreds Futterkiste</td>\n",
       "      <td>Maria Anders</td>\n",
       "      <td>Sales Representative</td>\n",
       "      <td>Obere Str. 57</td>\n",
       "      <td>Berlin</td>\n",
       "      <td>NaN</td>\n",
       "      <td>12209</td>\n",
       "      <td>Germany</td>\n",
       "      <td>030-0074321</td>\n",
       "      <td>030-0076545</td>\n",
       "    </tr>\n",
       "    <tr>\n",
       "      <th>1</th>\n",
       "      <td>2</td>\n",
       "      <td>Ana Trujillo Emparedados y helados</td>\n",
       "      <td>Ana Trujillo</td>\n",
       "      <td>Owner</td>\n",
       "      <td>Avda. de la Constitución 2222</td>\n",
       "      <td>México D.F.</td>\n",
       "      <td>NaN</td>\n",
       "      <td>5021</td>\n",
       "      <td>Mexico</td>\n",
       "      <td>(5) 555-4729</td>\n",
       "      <td>(5) 555-3745</td>\n",
       "    </tr>\n",
       "    <tr>\n",
       "      <th>2</th>\n",
       "      <td>3</td>\n",
       "      <td>Antonio Moreno Taquería</td>\n",
       "      <td>Antonio Moreno</td>\n",
       "      <td>Owner</td>\n",
       "      <td>Mataderos  2312</td>\n",
       "      <td>México D.F.</td>\n",
       "      <td>NaN</td>\n",
       "      <td>5023</td>\n",
       "      <td>Mexico</td>\n",
       "      <td>(5) 555-3932</td>\n",
       "      <td>NaN</td>\n",
       "    </tr>\n",
       "    <tr>\n",
       "      <th>3</th>\n",
       "      <td>4</td>\n",
       "      <td>Around the Horn</td>\n",
       "      <td>Thomas Hardy</td>\n",
       "      <td>Sales Representative</td>\n",
       "      <td>120 Hanover Sq.</td>\n",
       "      <td>London</td>\n",
       "      <td>NaN</td>\n",
       "      <td>WA1 1DP</td>\n",
       "      <td>UK</td>\n",
       "      <td>(171) 555-7788</td>\n",
       "      <td>(171) 555-6750</td>\n",
       "    </tr>\n",
       "    <tr>\n",
       "      <th>4</th>\n",
       "      <td>5</td>\n",
       "      <td>Berglunds snabbköp</td>\n",
       "      <td>Christina Berglund</td>\n",
       "      <td>Order Administrator</td>\n",
       "      <td>Berguvsvägen  8</td>\n",
       "      <td>Luleå</td>\n",
       "      <td>NaN</td>\n",
       "      <td>S-958 22</td>\n",
       "      <td>Sweden</td>\n",
       "      <td>0921-12 34 65</td>\n",
       "      <td>0921-12 34 67</td>\n",
       "    </tr>\n",
       "  </tbody>\n",
       "</table>\n",
       "</div>"
      ],
      "text/plain": [
       "   CustomerID                         CompanyName         ContactName   \n",
       "0           1                 Alfreds Futterkiste        Maria Anders  \\\n",
       "1           2  Ana Trujillo Emparedados y helados        Ana Trujillo   \n",
       "2           3             Antonio Moreno Taquería      Antonio Moreno   \n",
       "3           4                     Around the Horn        Thomas Hardy   \n",
       "4           5                  Berglunds snabbköp  Christina Berglund   \n",
       "\n",
       "           ContactTitle                        Address         City Region   \n",
       "0  Sales Representative                  Obere Str. 57       Berlin    NaN  \\\n",
       "1                 Owner  Avda. de la Constitución 2222  México D.F.    NaN   \n",
       "2                 Owner                Mataderos  2312  México D.F.    NaN   \n",
       "3  Sales Representative                120 Hanover Sq.       London    NaN   \n",
       "4   Order Administrator                Berguvsvägen  8        Luleå    NaN   \n",
       "\n",
       "  PostalCode  Country           Phone             Fax  \n",
       "0      12209  Germany     030-0074321     030-0076545  \n",
       "1       5021   Mexico    (5) 555-4729    (5) 555-3745  \n",
       "2       5023   Mexico    (5) 555-3932             NaN  \n",
       "3    WA1 1DP       UK  (171) 555-7788  (171) 555-6750  \n",
       "4   S-958 22   Sweden   0921-12 34 65   0921-12 34 67  "
      ]
     },
     "execution_count": 129,
     "metadata": {},
     "output_type": "execute_result"
    }
   ],
   "source": [
    "cust.head(5)"
   ]
  },
  {
   "cell_type": "code",
   "execution_count": 130,
   "id": "43b28378",
   "metadata": {},
   "outputs": [
    {
     "data": {
      "text/html": [
       "<div>\n",
       "<style scoped>\n",
       "    .dataframe tbody tr th:only-of-type {\n",
       "        vertical-align: middle;\n",
       "    }\n",
       "\n",
       "    .dataframe tbody tr th {\n",
       "        vertical-align: top;\n",
       "    }\n",
       "\n",
       "    .dataframe thead th {\n",
       "        text-align: right;\n",
       "    }\n",
       "</style>\n",
       "<table border=\"1\" class=\"dataframe\">\n",
       "  <thead>\n",
       "    <tr style=\"text-align: right;\">\n",
       "      <th></th>\n",
       "      <th>CustomerID</th>\n",
       "      <th>CompanyName</th>\n",
       "      <th>Region</th>\n",
       "    </tr>\n",
       "  </thead>\n",
       "  <tbody>\n",
       "    <tr>\n",
       "      <th>0</th>\n",
       "      <td>1</td>\n",
       "      <td>Alfreds Futterkiste</td>\n",
       "      <td>NaN</td>\n",
       "    </tr>\n",
       "    <tr>\n",
       "      <th>1</th>\n",
       "      <td>2</td>\n",
       "      <td>Ana Trujillo Emparedados y helados</td>\n",
       "      <td>NaN</td>\n",
       "    </tr>\n",
       "    <tr>\n",
       "      <th>2</th>\n",
       "      <td>3</td>\n",
       "      <td>Antonio Moreno Taquería</td>\n",
       "      <td>NaN</td>\n",
       "    </tr>\n",
       "    <tr>\n",
       "      <th>3</th>\n",
       "      <td>4</td>\n",
       "      <td>Around the Horn</td>\n",
       "      <td>NaN</td>\n",
       "    </tr>\n",
       "    <tr>\n",
       "      <th>4</th>\n",
       "      <td>5</td>\n",
       "      <td>Berglunds snabbköp</td>\n",
       "      <td>NaN</td>\n",
       "    </tr>\n",
       "  </tbody>\n",
       "</table>\n",
       "</div>"
      ],
      "text/plain": [
       "   CustomerID                         CompanyName Region\n",
       "0           1                 Alfreds Futterkiste    NaN\n",
       "1           2  Ana Trujillo Emparedados y helados    NaN\n",
       "2           3             Antonio Moreno Taquería    NaN\n",
       "3           4                     Around the Horn    NaN\n",
       "4           5                  Berglunds snabbköp    NaN"
      ]
     },
     "execution_count": 130,
     "metadata": {},
     "output_type": "execute_result"
    }
   ],
   "source": [
    "cust[[\"CustomerID\",\"CompanyName\",\"Region\"]].head()"
   ]
  },
  {
   "cell_type": "code",
   "execution_count": 131,
   "id": "4f123ee2",
   "metadata": {},
   "outputs": [],
   "source": [
    "ifnull =cust[\"Region\"].isnull()"
   ]
  },
  {
   "cell_type": "code",
   "execution_count": 132,
   "id": "394bc14c",
   "metadata": {},
   "outputs": [
    {
     "data": {
      "text/html": [
       "<div>\n",
       "<style scoped>\n",
       "    .dataframe tbody tr th:only-of-type {\n",
       "        vertical-align: middle;\n",
       "    }\n",
       "\n",
       "    .dataframe tbody tr th {\n",
       "        vertical-align: top;\n",
       "    }\n",
       "\n",
       "    .dataframe thead th {\n",
       "        text-align: right;\n",
       "    }\n",
       "</style>\n",
       "<table border=\"1\" class=\"dataframe\">\n",
       "  <thead>\n",
       "    <tr style=\"text-align: right;\">\n",
       "      <th></th>\n",
       "      <th>CustomerID</th>\n",
       "      <th>CompanyName</th>\n",
       "      <th>ContactName</th>\n",
       "      <th>ContactTitle</th>\n",
       "      <th>Address</th>\n",
       "      <th>City</th>\n",
       "      <th>Region</th>\n",
       "      <th>PostalCode</th>\n",
       "      <th>Country</th>\n",
       "      <th>Phone</th>\n",
       "      <th>Fax</th>\n",
       "    </tr>\n",
       "  </thead>\n",
       "  <tbody>\n",
       "    <tr>\n",
       "      <th>0</th>\n",
       "      <td>1</td>\n",
       "      <td>Alfreds Futterkiste</td>\n",
       "      <td>Maria Anders</td>\n",
       "      <td>Sales Representative</td>\n",
       "      <td>Obere Str. 57</td>\n",
       "      <td>Berlin</td>\n",
       "      <td>NaN</td>\n",
       "      <td>12209</td>\n",
       "      <td>Germany</td>\n",
       "      <td>030-0074321</td>\n",
       "      <td>030-0076545</td>\n",
       "    </tr>\n",
       "    <tr>\n",
       "      <th>1</th>\n",
       "      <td>2</td>\n",
       "      <td>Ana Trujillo Emparedados y helados</td>\n",
       "      <td>Ana Trujillo</td>\n",
       "      <td>Owner</td>\n",
       "      <td>Avda. de la Constitución 2222</td>\n",
       "      <td>México D.F.</td>\n",
       "      <td>NaN</td>\n",
       "      <td>5021</td>\n",
       "      <td>Mexico</td>\n",
       "      <td>(5) 555-4729</td>\n",
       "      <td>(5) 555-3745</td>\n",
       "    </tr>\n",
       "    <tr>\n",
       "      <th>2</th>\n",
       "      <td>3</td>\n",
       "      <td>Antonio Moreno Taquería</td>\n",
       "      <td>Antonio Moreno</td>\n",
       "      <td>Owner</td>\n",
       "      <td>Mataderos  2312</td>\n",
       "      <td>México D.F.</td>\n",
       "      <td>NaN</td>\n",
       "      <td>5023</td>\n",
       "      <td>Mexico</td>\n",
       "      <td>(5) 555-3932</td>\n",
       "      <td>NaN</td>\n",
       "    </tr>\n",
       "    <tr>\n",
       "      <th>3</th>\n",
       "      <td>4</td>\n",
       "      <td>Around the Horn</td>\n",
       "      <td>Thomas Hardy</td>\n",
       "      <td>Sales Representative</td>\n",
       "      <td>120 Hanover Sq.</td>\n",
       "      <td>London</td>\n",
       "      <td>NaN</td>\n",
       "      <td>WA1 1DP</td>\n",
       "      <td>UK</td>\n",
       "      <td>(171) 555-7788</td>\n",
       "      <td>(171) 555-6750</td>\n",
       "    </tr>\n",
       "    <tr>\n",
       "      <th>4</th>\n",
       "      <td>5</td>\n",
       "      <td>Berglunds snabbköp</td>\n",
       "      <td>Christina Berglund</td>\n",
       "      <td>Order Administrator</td>\n",
       "      <td>Berguvsvägen  8</td>\n",
       "      <td>Luleå</td>\n",
       "      <td>NaN</td>\n",
       "      <td>S-958 22</td>\n",
       "      <td>Sweden</td>\n",
       "      <td>0921-12 34 65</td>\n",
       "      <td>0921-12 34 67</td>\n",
       "    </tr>\n",
       "  </tbody>\n",
       "</table>\n",
       "</div>"
      ],
      "text/plain": [
       "   CustomerID                         CompanyName         ContactName   \n",
       "0           1                 Alfreds Futterkiste        Maria Anders  \\\n",
       "1           2  Ana Trujillo Emparedados y helados        Ana Trujillo   \n",
       "2           3             Antonio Moreno Taquería      Antonio Moreno   \n",
       "3           4                     Around the Horn        Thomas Hardy   \n",
       "4           5                  Berglunds snabbköp  Christina Berglund   \n",
       "\n",
       "           ContactTitle                        Address         City Region   \n",
       "0  Sales Representative                  Obere Str. 57       Berlin    NaN  \\\n",
       "1                 Owner  Avda. de la Constitución 2222  México D.F.    NaN   \n",
       "2                 Owner                Mataderos  2312  México D.F.    NaN   \n",
       "3  Sales Representative                120 Hanover Sq.       London    NaN   \n",
       "4   Order Administrator                Berguvsvägen  8        Luleå    NaN   \n",
       "\n",
       "  PostalCode  Country           Phone             Fax  \n",
       "0      12209  Germany     030-0074321     030-0076545  \n",
       "1       5021   Mexico    (5) 555-4729    (5) 555-3745  \n",
       "2       5023   Mexico    (5) 555-3932             NaN  \n",
       "3    WA1 1DP       UK  (171) 555-7788  (171) 555-6750  \n",
       "4   S-958 22   Sweden   0921-12 34 65   0921-12 34 67  "
      ]
     },
     "execution_count": 132,
     "metadata": {},
     "output_type": "execute_result"
    }
   ],
   "source": [
    "cust[ifnull].head()"
   ]
  },
  {
   "cell_type": "code",
   "execution_count": 134,
   "id": "cd86aa17",
   "metadata": {},
   "outputs": [],
   "source": [
    "ifnotnull =cust[\"Region\"].notnull()"
   ]
  },
  {
   "cell_type": "code",
   "execution_count": 135,
   "id": "7886a8c5",
   "metadata": {},
   "outputs": [
    {
     "data": {
      "text/html": [
       "<div>\n",
       "<style scoped>\n",
       "    .dataframe tbody tr th:only-of-type {\n",
       "        vertical-align: middle;\n",
       "    }\n",
       "\n",
       "    .dataframe tbody tr th {\n",
       "        vertical-align: top;\n",
       "    }\n",
       "\n",
       "    .dataframe thead th {\n",
       "        text-align: right;\n",
       "    }\n",
       "</style>\n",
       "<table border=\"1\" class=\"dataframe\">\n",
       "  <thead>\n",
       "    <tr style=\"text-align: right;\">\n",
       "      <th></th>\n",
       "      <th>CustomerID</th>\n",
       "      <th>CompanyName</th>\n",
       "      <th>ContactName</th>\n",
       "      <th>ContactTitle</th>\n",
       "      <th>Address</th>\n",
       "      <th>City</th>\n",
       "      <th>Region</th>\n",
       "      <th>PostalCode</th>\n",
       "      <th>Country</th>\n",
       "      <th>Phone</th>\n",
       "      <th>Fax</th>\n",
       "    </tr>\n",
       "  </thead>\n",
       "  <tbody>\n",
       "    <tr>\n",
       "      <th>9</th>\n",
       "      <td>10</td>\n",
       "      <td>Bottom-Dollar Markets</td>\n",
       "      <td>Elizabeth Lincoln</td>\n",
       "      <td>Accounting Manager</td>\n",
       "      <td>23 Tsawassen Blvd.</td>\n",
       "      <td>Tsawassen</td>\n",
       "      <td>BC</td>\n",
       "      <td>T2F 8M4</td>\n",
       "      <td>Canada</td>\n",
       "      <td>(604) 555-4729</td>\n",
       "      <td>(604) 555-3745</td>\n",
       "    </tr>\n",
       "    <tr>\n",
       "      <th>14</th>\n",
       "      <td>15</td>\n",
       "      <td>Comércio Mineiro</td>\n",
       "      <td>Pedro Afonso</td>\n",
       "      <td>Sales Associate</td>\n",
       "      <td>Av. dos Lusíadas, 23</td>\n",
       "      <td>Sao Paulo</td>\n",
       "      <td>SP</td>\n",
       "      <td>05432-043</td>\n",
       "      <td>Brazil</td>\n",
       "      <td>(11) 555-7647</td>\n",
       "      <td>NaN</td>\n",
       "    </tr>\n",
       "    <tr>\n",
       "      <th>20</th>\n",
       "      <td>21</td>\n",
       "      <td>Familia Arquibaldo</td>\n",
       "      <td>Aria Cruz</td>\n",
       "      <td>Marketing Assistant</td>\n",
       "      <td>Rua Orós, 92</td>\n",
       "      <td>Sao Paulo</td>\n",
       "      <td>SP</td>\n",
       "      <td>05442-030</td>\n",
       "      <td>Brazil</td>\n",
       "      <td>(11) 555-9857</td>\n",
       "      <td>NaN</td>\n",
       "    </tr>\n",
       "    <tr>\n",
       "      <th>30</th>\n",
       "      <td>31</td>\n",
       "      <td>Gourmet Lanchonetes</td>\n",
       "      <td>André Fonseca</td>\n",
       "      <td>Sales Associate</td>\n",
       "      <td>Av. Brasil, 442</td>\n",
       "      <td>Campinas</td>\n",
       "      <td>SP</td>\n",
       "      <td>04876-786</td>\n",
       "      <td>Brazil</td>\n",
       "      <td>(11) 555-9482</td>\n",
       "      <td>NaN</td>\n",
       "    </tr>\n",
       "    <tr>\n",
       "      <th>31</th>\n",
       "      <td>32</td>\n",
       "      <td>Great Lakes Food Market</td>\n",
       "      <td>Howard Snyder</td>\n",
       "      <td>Marketing Manager</td>\n",
       "      <td>2732 Baker Blvd.</td>\n",
       "      <td>Eugene</td>\n",
       "      <td>OR</td>\n",
       "      <td>97403</td>\n",
       "      <td>USA</td>\n",
       "      <td>(503) 555-7555</td>\n",
       "      <td>NaN</td>\n",
       "    </tr>\n",
       "  </tbody>\n",
       "</table>\n",
       "</div>"
      ],
      "text/plain": [
       "    CustomerID              CompanyName        ContactName   \n",
       "9           10    Bottom-Dollar Markets  Elizabeth Lincoln  \\\n",
       "14          15         Comércio Mineiro       Pedro Afonso   \n",
       "20          21       Familia Arquibaldo          Aria Cruz   \n",
       "30          31      Gourmet Lanchonetes      André Fonseca   \n",
       "31          32  Great Lakes Food Market      Howard Snyder   \n",
       "\n",
       "           ContactTitle               Address       City Region PostalCode   \n",
       "9    Accounting Manager    23 Tsawassen Blvd.  Tsawassen     BC    T2F 8M4  \\\n",
       "14      Sales Associate  Av. dos Lusíadas, 23  Sao Paulo     SP  05432-043   \n",
       "20  Marketing Assistant          Rua Orós, 92  Sao Paulo     SP  05442-030   \n",
       "30      Sales Associate       Av. Brasil, 442   Campinas     SP  04876-786   \n",
       "31    Marketing Manager      2732 Baker Blvd.     Eugene     OR      97403   \n",
       "\n",
       "   Country           Phone             Fax  \n",
       "9   Canada  (604) 555-4729  (604) 555-3745  \n",
       "14  Brazil   (11) 555-7647             NaN  \n",
       "20  Brazil   (11) 555-9857             NaN  \n",
       "30  Brazil   (11) 555-9482             NaN  \n",
       "31     USA  (503) 555-7555             NaN  "
      ]
     },
     "execution_count": 135,
     "metadata": {},
     "output_type": "execute_result"
    }
   ],
   "source": [
    "cust[ifnotnull].head()"
   ]
  },
  {
   "cell_type": "code",
   "execution_count": null,
   "id": "f1b0d21a",
   "metadata": {},
   "outputs": [],
   "source": [
    "#Filling null values with the previous ones -- fillna()"
   ]
  },
  {
   "cell_type": "code",
   "execution_count": 137,
   "id": "fa240cc7",
   "metadata": {},
   "outputs": [],
   "source": [
    "cust[\"Region\"] = cust[\"Region\"].fillna(\"No Region\")"
   ]
  },
  {
   "cell_type": "code",
   "execution_count": 138,
   "id": "a16e846d",
   "metadata": {},
   "outputs": [
    {
     "data": {
      "text/html": [
       "<div>\n",
       "<style scoped>\n",
       "    .dataframe tbody tr th:only-of-type {\n",
       "        vertical-align: middle;\n",
       "    }\n",
       "\n",
       "    .dataframe tbody tr th {\n",
       "        vertical-align: top;\n",
       "    }\n",
       "\n",
       "    .dataframe thead th {\n",
       "        text-align: right;\n",
       "    }\n",
       "</style>\n",
       "<table border=\"1\" class=\"dataframe\">\n",
       "  <thead>\n",
       "    <tr style=\"text-align: right;\">\n",
       "      <th></th>\n",
       "      <th>CustomerID</th>\n",
       "      <th>CompanyName</th>\n",
       "      <th>ContactName</th>\n",
       "      <th>ContactTitle</th>\n",
       "      <th>Address</th>\n",
       "      <th>City</th>\n",
       "      <th>Region</th>\n",
       "      <th>PostalCode</th>\n",
       "      <th>Country</th>\n",
       "      <th>Phone</th>\n",
       "      <th>Fax</th>\n",
       "    </tr>\n",
       "  </thead>\n",
       "  <tbody>\n",
       "    <tr>\n",
       "      <th>0</th>\n",
       "      <td>1</td>\n",
       "      <td>Alfreds Futterkiste</td>\n",
       "      <td>Maria Anders</td>\n",
       "      <td>Sales Representative</td>\n",
       "      <td>Obere Str. 57</td>\n",
       "      <td>Berlin</td>\n",
       "      <td>No Region</td>\n",
       "      <td>12209</td>\n",
       "      <td>Germany</td>\n",
       "      <td>030-0074321</td>\n",
       "      <td>030-0076545</td>\n",
       "    </tr>\n",
       "    <tr>\n",
       "      <th>1</th>\n",
       "      <td>2</td>\n",
       "      <td>Ana Trujillo Emparedados y helados</td>\n",
       "      <td>Ana Trujillo</td>\n",
       "      <td>Owner</td>\n",
       "      <td>Avda. de la Constitución 2222</td>\n",
       "      <td>México D.F.</td>\n",
       "      <td>No Region</td>\n",
       "      <td>5021</td>\n",
       "      <td>Mexico</td>\n",
       "      <td>(5) 555-4729</td>\n",
       "      <td>(5) 555-3745</td>\n",
       "    </tr>\n",
       "    <tr>\n",
       "      <th>2</th>\n",
       "      <td>3</td>\n",
       "      <td>Antonio Moreno Taquería</td>\n",
       "      <td>Antonio Moreno</td>\n",
       "      <td>Owner</td>\n",
       "      <td>Mataderos  2312</td>\n",
       "      <td>México D.F.</td>\n",
       "      <td>No Region</td>\n",
       "      <td>5023</td>\n",
       "      <td>Mexico</td>\n",
       "      <td>(5) 555-3932</td>\n",
       "      <td>NaN</td>\n",
       "    </tr>\n",
       "    <tr>\n",
       "      <th>3</th>\n",
       "      <td>4</td>\n",
       "      <td>Around the Horn</td>\n",
       "      <td>Thomas Hardy</td>\n",
       "      <td>Sales Representative</td>\n",
       "      <td>120 Hanover Sq.</td>\n",
       "      <td>London</td>\n",
       "      <td>No Region</td>\n",
       "      <td>WA1 1DP</td>\n",
       "      <td>UK</td>\n",
       "      <td>(171) 555-7788</td>\n",
       "      <td>(171) 555-6750</td>\n",
       "    </tr>\n",
       "    <tr>\n",
       "      <th>4</th>\n",
       "      <td>5</td>\n",
       "      <td>Berglunds snabbköp</td>\n",
       "      <td>Christina Berglund</td>\n",
       "      <td>Order Administrator</td>\n",
       "      <td>Berguvsvägen  8</td>\n",
       "      <td>Luleå</td>\n",
       "      <td>No Region</td>\n",
       "      <td>S-958 22</td>\n",
       "      <td>Sweden</td>\n",
       "      <td>0921-12 34 65</td>\n",
       "      <td>0921-12 34 67</td>\n",
       "    </tr>\n",
       "  </tbody>\n",
       "</table>\n",
       "</div>"
      ],
      "text/plain": [
       "   CustomerID                         CompanyName         ContactName   \n",
       "0           1                 Alfreds Futterkiste        Maria Anders  \\\n",
       "1           2  Ana Trujillo Emparedados y helados        Ana Trujillo   \n",
       "2           3             Antonio Moreno Taquería      Antonio Moreno   \n",
       "3           4                     Around the Horn        Thomas Hardy   \n",
       "4           5                  Berglunds snabbköp  Christina Berglund   \n",
       "\n",
       "           ContactTitle                        Address         City   \n",
       "0  Sales Representative                  Obere Str. 57       Berlin  \\\n",
       "1                 Owner  Avda. de la Constitución 2222  México D.F.   \n",
       "2                 Owner                Mataderos  2312  México D.F.   \n",
       "3  Sales Representative                120 Hanover Sq.       London   \n",
       "4   Order Administrator                Berguvsvägen  8        Luleå   \n",
       "\n",
       "      Region PostalCode  Country           Phone             Fax  \n",
       "0  No Region      12209  Germany     030-0074321     030-0076545  \n",
       "1  No Region       5021   Mexico    (5) 555-4729    (5) 555-3745  \n",
       "2  No Region       5023   Mexico    (5) 555-3932             NaN  \n",
       "3  No Region    WA1 1DP       UK  (171) 555-7788  (171) 555-6750  \n",
       "4  No Region   S-958 22   Sweden   0921-12 34 65   0921-12 34 67  "
      ]
     },
     "execution_count": 138,
     "metadata": {},
     "output_type": "execute_result"
    }
   ],
   "source": [
    "cust.head(5)"
   ]
  },
  {
   "cell_type": "code",
   "execution_count": null,
   "id": "9be58d19",
   "metadata": {},
   "outputs": [],
   "source": [
    "#Dropping missing values using dropna()"
   ]
  },
  {
   "cell_type": "code",
   "execution_count": 139,
   "id": "6d29b630",
   "metadata": {},
   "outputs": [
    {
     "data": {
      "text/plain": [
       "CustomerID      91\n",
       "CompanyName     91\n",
       "ContactName     91\n",
       "ContactTitle    91\n",
       "Address         91\n",
       "City            91\n",
       "Region          91\n",
       "PostalCode      90\n",
       "Country         91\n",
       "Phone           91\n",
       "Fax             69\n",
       "dtype: int64"
      ]
     },
     "execution_count": 139,
     "metadata": {},
     "output_type": "execute_result"
    }
   ],
   "source": [
    "cust.count()"
   ]
  },
  {
   "cell_type": "code",
   "execution_count": 140,
   "id": "1cbc0699",
   "metadata": {},
   "outputs": [],
   "source": [
    "a= cust[\"PostalCode\"].isnull()"
   ]
  },
  {
   "cell_type": "code",
   "execution_count": 141,
   "id": "b41ccdf2",
   "metadata": {},
   "outputs": [
    {
     "data": {
      "text/html": [
       "<div>\n",
       "<style scoped>\n",
       "    .dataframe tbody tr th:only-of-type {\n",
       "        vertical-align: middle;\n",
       "    }\n",
       "\n",
       "    .dataframe tbody tr th {\n",
       "        vertical-align: top;\n",
       "    }\n",
       "\n",
       "    .dataframe thead th {\n",
       "        text-align: right;\n",
       "    }\n",
       "</style>\n",
       "<table border=\"1\" class=\"dataframe\">\n",
       "  <thead>\n",
       "    <tr style=\"text-align: right;\">\n",
       "      <th></th>\n",
       "      <th>CustomerID</th>\n",
       "      <th>CompanyName</th>\n",
       "      <th>ContactName</th>\n",
       "      <th>ContactTitle</th>\n",
       "      <th>Address</th>\n",
       "      <th>City</th>\n",
       "      <th>Region</th>\n",
       "      <th>PostalCode</th>\n",
       "      <th>Country</th>\n",
       "      <th>Phone</th>\n",
       "      <th>Fax</th>\n",
       "    </tr>\n",
       "  </thead>\n",
       "  <tbody>\n",
       "    <tr>\n",
       "      <th>36</th>\n",
       "      <td>37</td>\n",
       "      <td>Hungry Owl All-Night Grocers</td>\n",
       "      <td>Patricia McKenna</td>\n",
       "      <td>Sales Associate</td>\n",
       "      <td>8 Johnstown Road</td>\n",
       "      <td>Cork</td>\n",
       "      <td>Co. Cork</td>\n",
       "      <td>NaN</td>\n",
       "      <td>Ireland</td>\n",
       "      <td>2967 542</td>\n",
       "      <td>2967 3333</td>\n",
       "    </tr>\n",
       "  </tbody>\n",
       "</table>\n",
       "</div>"
      ],
      "text/plain": [
       "    CustomerID                   CompanyName       ContactName   \n",
       "36          37  Hungry Owl All-Night Grocers  Patricia McKenna  \\\n",
       "\n",
       "       ContactTitle           Address  City    Region PostalCode  Country   \n",
       "36  Sales Associate  8 Johnstown Road  Cork  Co. Cork        NaN  Ireland  \\\n",
       "\n",
       "       Phone        Fax  \n",
       "36  2967 542  2967 3333  "
      ]
     },
     "execution_count": 141,
     "metadata": {},
     "output_type": "execute_result"
    }
   ],
   "source": [
    "cust[a].head()"
   ]
  },
  {
   "cell_type": "code",
   "execution_count": 142,
   "id": "e5287350",
   "metadata": {},
   "outputs": [],
   "source": [
    "#drop all rows that have any NaN values\n",
    "dn=cust.dropna()"
   ]
  },
  {
   "cell_type": "code",
   "execution_count": 143,
   "id": "75e51c2b",
   "metadata": {},
   "outputs": [
    {
     "data": {
      "text/html": [
       "<div>\n",
       "<style scoped>\n",
       "    .dataframe tbody tr th:only-of-type {\n",
       "        vertical-align: middle;\n",
       "    }\n",
       "\n",
       "    .dataframe tbody tr th {\n",
       "        vertical-align: top;\n",
       "    }\n",
       "\n",
       "    .dataframe thead th {\n",
       "        text-align: right;\n",
       "    }\n",
       "</style>\n",
       "<table border=\"1\" class=\"dataframe\">\n",
       "  <thead>\n",
       "    <tr style=\"text-align: right;\">\n",
       "      <th></th>\n",
       "      <th>CustomerID</th>\n",
       "      <th>CompanyName</th>\n",
       "      <th>ContactName</th>\n",
       "      <th>ContactTitle</th>\n",
       "      <th>Address</th>\n",
       "      <th>City</th>\n",
       "      <th>Region</th>\n",
       "      <th>PostalCode</th>\n",
       "      <th>Country</th>\n",
       "      <th>Phone</th>\n",
       "      <th>Fax</th>\n",
       "    </tr>\n",
       "  </thead>\n",
       "  <tbody>\n",
       "    <tr>\n",
       "      <th>0</th>\n",
       "      <td>1</td>\n",
       "      <td>Alfreds Futterkiste</td>\n",
       "      <td>Maria Anders</td>\n",
       "      <td>Sales Representative</td>\n",
       "      <td>Obere Str. 57</td>\n",
       "      <td>Berlin</td>\n",
       "      <td>No Region</td>\n",
       "      <td>12209</td>\n",
       "      <td>Germany</td>\n",
       "      <td>030-0074321</td>\n",
       "      <td>030-0076545</td>\n",
       "    </tr>\n",
       "    <tr>\n",
       "      <th>1</th>\n",
       "      <td>2</td>\n",
       "      <td>Ana Trujillo Emparedados y helados</td>\n",
       "      <td>Ana Trujillo</td>\n",
       "      <td>Owner</td>\n",
       "      <td>Avda. de la Constitución 2222</td>\n",
       "      <td>México D.F.</td>\n",
       "      <td>No Region</td>\n",
       "      <td>5021</td>\n",
       "      <td>Mexico</td>\n",
       "      <td>(5) 555-4729</td>\n",
       "      <td>(5) 555-3745</td>\n",
       "    </tr>\n",
       "    <tr>\n",
       "      <th>3</th>\n",
       "      <td>4</td>\n",
       "      <td>Around the Horn</td>\n",
       "      <td>Thomas Hardy</td>\n",
       "      <td>Sales Representative</td>\n",
       "      <td>120 Hanover Sq.</td>\n",
       "      <td>London</td>\n",
       "      <td>No Region</td>\n",
       "      <td>WA1 1DP</td>\n",
       "      <td>UK</td>\n",
       "      <td>(171) 555-7788</td>\n",
       "      <td>(171) 555-6750</td>\n",
       "    </tr>\n",
       "    <tr>\n",
       "      <th>4</th>\n",
       "      <td>5</td>\n",
       "      <td>Berglunds snabbköp</td>\n",
       "      <td>Christina Berglund</td>\n",
       "      <td>Order Administrator</td>\n",
       "      <td>Berguvsvägen  8</td>\n",
       "      <td>Luleå</td>\n",
       "      <td>No Region</td>\n",
       "      <td>S-958 22</td>\n",
       "      <td>Sweden</td>\n",
       "      <td>0921-12 34 65</td>\n",
       "      <td>0921-12 34 67</td>\n",
       "    </tr>\n",
       "    <tr>\n",
       "      <th>5</th>\n",
       "      <td>6</td>\n",
       "      <td>Blauer See Delikatessen</td>\n",
       "      <td>Hanna Moos</td>\n",
       "      <td>Sales Representative</td>\n",
       "      <td>Forsterstr. 57</td>\n",
       "      <td>Mannheim</td>\n",
       "      <td>No Region</td>\n",
       "      <td>68306</td>\n",
       "      <td>Germany</td>\n",
       "      <td>0621-08460</td>\n",
       "      <td>0621-08924</td>\n",
       "    </tr>\n",
       "  </tbody>\n",
       "</table>\n",
       "</div>"
      ],
      "text/plain": [
       "   CustomerID                         CompanyName         ContactName   \n",
       "0           1                 Alfreds Futterkiste        Maria Anders  \\\n",
       "1           2  Ana Trujillo Emparedados y helados        Ana Trujillo   \n",
       "3           4                     Around the Horn        Thomas Hardy   \n",
       "4           5                  Berglunds snabbköp  Christina Berglund   \n",
       "5           6             Blauer See Delikatessen          Hanna Moos   \n",
       "\n",
       "           ContactTitle                        Address         City   \n",
       "0  Sales Representative                  Obere Str. 57       Berlin  \\\n",
       "1                 Owner  Avda. de la Constitución 2222  México D.F.   \n",
       "3  Sales Representative                120 Hanover Sq.       London   \n",
       "4   Order Administrator                Berguvsvägen  8        Luleå   \n",
       "5  Sales Representative                 Forsterstr. 57     Mannheim   \n",
       "\n",
       "      Region PostalCode  Country           Phone             Fax  \n",
       "0  No Region      12209  Germany     030-0074321     030-0076545  \n",
       "1  No Region       5021   Mexico    (5) 555-4729    (5) 555-3745  \n",
       "3  No Region    WA1 1DP       UK  (171) 555-7788  (171) 555-6750  \n",
       "4  No Region   S-958 22   Sweden   0921-12 34 65   0921-12 34 67  \n",
       "5  No Region      68306  Germany      0621-08460      0621-08924  "
      ]
     },
     "execution_count": 143,
     "metadata": {},
     "output_type": "execute_result"
    }
   ],
   "source": [
    "dn.head()"
   ]
  },
  {
   "cell_type": "code",
   "execution_count": 144,
   "id": "885a8df9",
   "metadata": {},
   "outputs": [
    {
     "name": "stdout",
     "output_type": "stream",
     "text": [
      "<class 'pandas.core.frame.DataFrame'>\n",
      "Index: 68 entries, 0 to 90\n",
      "Data columns (total 11 columns):\n",
      " #   Column        Non-Null Count  Dtype \n",
      "---  ------        --------------  ----- \n",
      " 0   CustomerID    68 non-null     int64 \n",
      " 1   CompanyName   68 non-null     object\n",
      " 2   ContactName   68 non-null     object\n",
      " 3   ContactTitle  68 non-null     object\n",
      " 4   Address       68 non-null     object\n",
      " 5   City          68 non-null     object\n",
      " 6   Region        68 non-null     object\n",
      " 7   PostalCode    68 non-null     object\n",
      " 8   Country       68 non-null     object\n",
      " 9   Phone         68 non-null     object\n",
      " 10  Fax           68 non-null     object\n",
      "dtypes: int64(1), object(10)\n",
      "memory usage: 6.4+ KB\n"
     ]
    }
   ],
   "source": [
    "dn.info()"
   ]
  },
  {
   "cell_type": "code",
   "execution_count": 145,
   "id": "334a68eb",
   "metadata": {},
   "outputs": [
    {
     "data": {
      "text/plain": [
       "CustomerID      68\n",
       "CompanyName     68\n",
       "ContactName     68\n",
       "ContactTitle    68\n",
       "Address         68\n",
       "City            68\n",
       "Region          68\n",
       "PostalCode      68\n",
       "Country         68\n",
       "Phone           68\n",
       "Fax             68\n",
       "dtype: int64"
      ]
     },
     "execution_count": 145,
     "metadata": {},
     "output_type": "execute_result"
    }
   ],
   "source": [
    "dn.count()"
   ]
  },
  {
   "cell_type": "code",
   "execution_count": 146,
   "id": "ea93500d",
   "metadata": {},
   "outputs": [],
   "source": [
    " #drop only if ALL columns are NaN\n",
    "dn1=cust.dropna(how='all')"
   ]
  },
  {
   "cell_type": "code",
   "execution_count": 147,
   "id": "565efbf1",
   "metadata": {},
   "outputs": [
    {
     "data": {
      "text/plain": [
       "CustomerID      91\n",
       "CompanyName     91\n",
       "ContactName     91\n",
       "ContactTitle    91\n",
       "Address         91\n",
       "City            91\n",
       "Region          91\n",
       "PostalCode      90\n",
       "Country         91\n",
       "Phone           91\n",
       "Fax             69\n",
       "dtype: int64"
      ]
     },
     "execution_count": 147,
     "metadata": {},
     "output_type": "execute_result"
    }
   ],
   "source": [
    "dn1.count()"
   ]
  },
  {
   "cell_type": "code",
   "execution_count": 148,
   "id": "7f0bcd94",
   "metadata": {},
   "outputs": [],
   "source": [
    "#Drop only if NaN in specific column (as asked in the question)\n",
    "dn2=cust.dropna(subset=[\"PostalCode\"])"
   ]
  },
  {
   "cell_type": "code",
   "execution_count": 149,
   "id": "64c43f49",
   "metadata": {},
   "outputs": [
    {
     "data": {
      "text/plain": [
       "CustomerID      90\n",
       "CompanyName     90\n",
       "ContactName     90\n",
       "ContactTitle    90\n",
       "Address         90\n",
       "City            90\n",
       "Region          90\n",
       "PostalCode      90\n",
       "Country         90\n",
       "Phone           90\n",
       "Fax             68\n",
       "dtype: int64"
      ]
     },
     "execution_count": 149,
     "metadata": {},
     "output_type": "execute_result"
    }
   ],
   "source": [
    "dn2.count()"
   ]
  },
  {
   "cell_type": "code",
   "execution_count": null,
   "id": "d768ab08",
   "metadata": {},
   "outputs": [],
   "source": []
  }
 ],
 "metadata": {
  "kernelspec": {
   "display_name": "Python 3 (ipykernel)",
   "language": "python",
   "name": "python3"
  },
  "language_info": {
   "codemirror_mode": {
    "name": "ipython",
    "version": 3
   },
   "file_extension": ".py",
   "mimetype": "text/x-python",
   "name": "python",
   "nbconvert_exporter": "python",
   "pygments_lexer": "ipython3",
   "version": "3.11.2"
  }
 },
 "nbformat": 4,
 "nbformat_minor": 5
}
